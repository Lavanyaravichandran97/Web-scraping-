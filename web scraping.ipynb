{
 "cells": [
  {
   "cell_type": "code",
   "execution_count": 131,
   "metadata": {
    "collapsed": true,
    "jupyter": {
     "outputs_hidden": true
    }
   },
   "outputs": [
    {
     "name": "stdout",
     "output_type": "stream",
     "text": [
      "The principles of responsible and good corporate governance determine the conduct of the management and supervisory bodies of Carl Zeiss Meditec AG. Carl Zeiss Meditec has combined its Declaration on Corporate Governance pursuant to Section 289f and Section 315d HGB with its corporate governance reporting, thus conforming to principle 22 of the German Corporate Governance Code, DCGK 2020. Pursuant to Section 317 (2) Sentence 6 HGB, the auditor checked that the disclosures pursuant to Section 289f (2) and (5) and Section 315d HGB had been made.\n",
      "\n",
      "The Declaration on Corporate Governance was last updated in December 2020.\n",
      "\n",
      "\n",
      "The Management Board and Supervisory Board of Carl Zeiss Meditec AG hereby declare, pursuant to Section 161 (1) Sentence 1 AktG, that since issuing its last Declaration of Conformity on 6 December 2019, Carl Zeiss Meditec AG has conformed to the recommendations of the Government Commission on the German Corporate Governance Code in the version dated 7 February 2017, with the following exceptions, hereinafter referred to as DCGK 2017, and will conform to all recommendations of the Government Commission on the German Corporate Governance Code in the version dated 16 December 2019, as published in the Federal Gazette (Bundesanzeiger) on 20 March 2020, with the following exceptions, hereinafter referred to as DCGK 2020:\n",
      "\n",
      "Contrary to Section 5.4.1 (2) and (3) DCGK 2017 and Section C.1 DCGK 2020, the Supervisory Board has not defined any specific targets for its composition. The Supervisory Board has also not specified any statutory competency profile for the board as a whole and this is therefore also not published in the Declaration on Corporate Governance. Contrary to Section 5.4.1 (2) DCGK 2017, the Supervisory Board has not set any control limit for length of service. The Supervisory Board believes that the composition of the board should be geared, first and foremost, to the interests of the Company, and should guarantee efficient support and monitoring of the Management Board. Accordingly, when appointing the Supervisory Board of Carl Zeiss Meditec AG, the priority shall therefore be to ensure that the members have the necessary capabilities, skills and specialist qualifications to properly fulfill their duties, and that they are independent. The Supervisory Board believes that the necessary competencies of the board as a whole have been adequately considered. The Supervisory Board also sees no need for a change with respect to a control limit for the length of service of its members, since the Supervisory Board's rules of procedure already specify an age limit, the members of the Supervisory Board are mandated for a limited period, and, in view of the Company-specific situation, the expertise of longstanding members of the Supervisory Board should not be categorically dismissed.\n",
      "\n",
      "Contrary to Section D.7 DCGK 2020, the members of the Management Board attend the meetings of the Supervisory Board in accordance with the Supervisory Board’s rules of procedure, unless the Chairman of the Supervisory Board specifies otherwise. The Management Board provides the Supervisory Board with regular, up-to-the-minute, comprehensive information, particularly about corporate strategy, planning, the development of business, the risk situation, risk management, compliance, the focus of innovation and about any deviations of business development from original planning, as well as important business transactions of the Company and major subsidiaries of the Group. The Supervisory Board uses its meetings for regular, detailed exchange with the Management Board. For certain issues, the Supervisory Board convenes alone during the plenary session.\n",
      "\n",
      "The General Committee of the Supervisory Board of Carl Zeiss Meditec AG revised the current remuneration system for the Management Board in the fourth calendar quarter of 2020, which is to be applied for all new contracts concluded with members of the Management Board and is to be presented at the Annual General Meeting 2021. The resolution by the full board is planned for no later than April 2021. According to the current status of discussions, the new Management Board remuneration system deviates from the following recommendations of DCGK 2020: \n",
      "\n",
      "Section G.4 DCGK 2020 states that in order to assess the customary practice within the Company, the Supervisory Board should consider the relationship of the remuneration of the Management Board to the remuneration of senior management and the workforce as a whole and also consider how this has developed over time. Contrary to this, the new remuneration system does not provide for any comparison of the remuneration of the Management Board with the remuneration of senior management and the workforce as a whole. As the remuneration of the Management Board is capped, its appropriateness with regard to the remuneration structure is not called into question. A vertical comparison is therefore not necessary in the Supervisory Board’s opinion. A comparison with the remuneration of senior management and the workforce as a whole is also not sufficiently meaningful in the Supervisory Board’s view. Due to the international nature of the Company, its various locations worldwide and the associated regional differences, salary structures are very different, which would not provide any meaningful transparency if compared with the remuneration of the Management Board.\n",
      "\n",
      "According to Section G.6 DCGK 2020, the variable remuneration, which is determined based on the achievement of long-term objectives, should exceed the proportion of remuneration arising from short-term objectives. Contrary to this, under Carl Zeiss Meditec AG’s new remuneration system, the inflow of funds from the Short Term Incentive Program (STI) shall generally be higher than that from the Long Term Incentive Program (LTI). However, the maximum amount achievable under the LTI may exceed the STI amount. The LTI and the selection of KPIs create and thus ensure a long-term incentive effect. The current system has proved successful in the past.\n",
      "\n",
      "According to Section G.7 DCGK 2020, the Supervisory Board is to define the performance criteria for all variable remuneration components for each member of the Management Board for the upcoming fiscal year, which – in addition to operative objectives – should be geared especially to strategic objectives. The Supervisory Board should also determine to what extent individual objectives of the individual members of the Management Board or objectives for all members of the Management Board collectively are crucial. These requirements are generally to be implemented by the Company in the new remuneration system. Contrary to Section G.7 DCGK 2020, there will be a one-off deviation from this in fiscal year 2020/21, however, because the Supervisory Board has decided as an exception, due to the extremely high level of planning uncertainty as a result of the COVID-19 pandemic, to not set objectives until the start of fiscal year 2020/21.\n",
      "\n",
      "Pursuant to Section G.8 DCGK 2020, a subsequent amendment of the targets or comparative parameters should be excluded. The new remuneration system is to explicitly exclude the amendment of the personal variable remuneration during the year (STI component); however, contrary to Section G.8 DCGK 2020, it is to be possible to amend STI financial targets and LTI parameters during the year due to special economic circumstances – the Supervisory Board considers this option to be appropriate in exceptional cases, as extraordinary economic circumstances on the capital market shall always be made transparent in good time and taken into consideration in the Company’s forecast.\n",
      "\n",
      "Contrary to Section G.10 DCGK 2020, under the new remuneration system, variable remuneration amounts granted shall not be predominantly invested in shares of the Company or granted on a share basis, taking the respective tax burden into account. In addition, there is to be no uniform regulation that stipulates that the Management Board member may not access the long-term variable amounts granted until after four years. The Supervisory Board does not consider a share-based remuneration to be an improvement for a long-term incentive compared with the measurement of the sustainable value-added created in the Management Board objectives based on EVA and FCF. The long-term incentive is sustainable through the LTI and the selection of KPIs; the current system has proven successful in the past. The long-term variable remuneration is currently fixed for 3 years This period is considered sufficient in terms of longevity and sustainability and is in line with the Company’s medium-term planning horizon in budget planning. \n",
      "\n",
      "Section G.12 DCGK 2020 recommends, in the event of the termination of a Management Board contract, that the outstanding variable remuneration components attributable to the time remaining until the end of the contract be paid out in accordance with the originally agreed objectives and comparative parameters and in accordance with the due dates or holding periods specified in the contract. Contrary to Section G.12 DCGK 2020 and in the interest of simplifying the processing of early contract terminations, the inclusion of an average variable remuneration component should, in principle, be compensated with the severance payment under the planned remuneration system.  \n",
      "Contrary to Section G.13, the new remuneration system does not provide for the severance payment to offset the compensation in the event of a post-contractual prohibition of competition. \n",
      "\n",
      "Jena, 3 December 2020\n",
      "For the Supervisory Board: Prof. Dr. Michael Kaschke               \n",
      "For the Management Board: Dr. Ludwin Monz\n",
      " \n",
      "In accordance with its voluntary commitment to good corporate governance, Carl Zeiss Meditec AG complies not only with the recommendations of the Code – with just one exception – but also observes any relevant \"discretionary provisions\" of the Code. The following table gives an overview of these provisions.\n",
      "The Carl Zeiss Meditec Group practices responsible corporate governance geared to creating sustained value-added.\n",
      "\n",
      "It does this based on the strong conviction that sustainable economic success is inextricably linked to compliance with laws and legislation and internal policies.\n",
      "\n",
      "The close and efficient cooperation between the Management Board and Supervisory Board, open corporate communication and proper accounting also play an important role.\n",
      "\n",
      "As a company of the ZEISS Group, Carl Zeiss Meditec AG is subject to the provisions of globally applicable Code of Conduct adopted back in 2007, in its current version dated April 2020, which stipulates and explains the basic rules for various areas of business activity. You will find this information on our website at www.zeiss.de/meditec-ag/investor-relations/corporate-governance.html.\n",
      "\n",
      "Carl Zeiss Meditec AG therefore strives not only to consistently achieve its best performance in technological terms, but is also committed to adhering to the highest of standards in terms of abiding by the \"rules\" of good and fair conduct in competition and in dealing with employees and customers.\n",
      "\n",
      "This Code of Conduct sets out the fundamental ethical principles and values of good conduct which govern the actions of both management and employees in their day-to-day work at the Company. The confidence of business partners, customers, shareholders, authorities and the general public, as well as our competitors in responsible, law-abiding conduct and moral integrity from all of the Group's and employees is of the utmost importance for the image and economic success of the Carl Zeiss Meditec Group and the appeal of the ZEISS brand.\n",
      "\n",
      "Pursuant to Art. 19 MAR, members of the Management Board or Supervisory Board of Carl Zeiss Meditec AG must inform the Company and the German Federal Financial Supervisory Authority (Bundesanstalt für Finanzdienstleistungsaufsicht, BaFin) about the purchase and sale of shares of Carl Zeiss Meditec AG.\n",
      "\n",
      "At its meeting on 14 January 2013 the Supervisory Board passed the following resolution: In order to ensure a uniform position concerning shares of the Company held by members of the Supervisory Board and Management Board, to enable them to decide independently on personal investment matters and, at the same time, to prevent possible speculative action in the capital market, the Supervisory Board, in agreement with the Management Board, recommends that Supervisory and Management Board members and related parties (persons with a close relationship as per Section 15a (3) WPHG) do not build up holdings of shares in the Company in the future. With regard to the existing shareholdings of members of the Supervisory Board and Management Board and related parties, it is recommended that they sell these holdings in the medium term subject to the insider trading rules.\n",
      "\n",
      "At the current time, no Company shares are held by members of the Management Board or Supervisory Board of Carl Zeiss Meditec AG.\n",
      "\n",
      "A key instrument of corporate governance at Carl Zeiss Meditec AG is its risk management system. This is a systematic process which enables the management uses to identify, evaluate and control risks and opportunities early on. The management uses the risk management system to identify unfavorable developments and their effects at an early stage and makes them transparent. This enables appropriate countermeasures to be introduced in a targeted and timely manner and also allows opportunities to be exploited efficiently at the same time. The risk and opportunity management system is continuously improved and developed. Further information on the subject of risk and opportunity management can be found in Carl Zeiss Meditec AG’s annual report. This is available under the following link: \n",
      "The Supervisory Board regularly advises the Company's Management Board on managing the Company and supervises the Management Board’s business activity. It is dedicated to fulfilling these obligations, and thus makes a crucial contribution to the company's success. It helps the Management Board to fulfill its tasks in full and within a reasonable period and participates in key decisions. The Supervisory Board also engages the auditor in line with the resolution of the Annual General Meeting.\n",
      "\n",
      "The Management Board of Carl Zeiss Meditec AG consists of three members:\n",
      "Dr. Ludwin Monz\n",
      "President and CEO\n",
      "Year of first appointment 2007\n",
      "\n",
      "Justus Felix Wehmer\n",
      "Year of first appointment 2018\n",
      "\n",
      "Jan Willem de Cler\n",
      "Year of first appointment 2018\n",
      "\n",
      "For further information on the members of the Management Board, please refer to their CVs on Carl Zeiss Meditec AG’s website under “About Us”, “Board of Management”.\n",
      "\n",
      "Information on other memberships of the members of the Management Board on statutory supervisory boards and similar supervisory bodies of the ZEISS Group and at other companies can be found in the notes accompanying the consolidated financial statements in the Annual Report 2019/20 on page 137.\n",
      "\n",
      "The main responsibilities of the Management Board include strategy development and implementation. It is therefore responsible for operative business and ensures efficient risk management. The Management Board coordinates key decisions with the Supervisory Board. It also regularly provides the Supervisory Board with information about the Company, its environment, strategy and business growth.\n",
      "\n",
      "The current remuneration paid to the Management Board of Carl Zeiss Meditec AG consists of a fixed and a variable portion.\n",
      "\n",
      "The variable portion is split into one component that is contingent upon the achievement of certain targets for the respective current fiscal year and one component with a long-term incentive.\n",
      "\n",
      "The fixed portion of the remuneration paid to the Management Board is not contingent upon the achievement of certain targets. It is paid monthly.\n",
      "The variable portion of the remuneration, which relates to targets set for the respective fiscal year, is contingent upon the achievement of certain quantitative targets. The main quantitative targets are Economic Value Added® (EVA®) and free cash flow. This portion of the remuneration is paid after the end of the respective fiscal year. The amount is contingent upon the degree of target fulfillment.\n",
      "In addition to the two components of Management Board remuneration described above, there is also a so-called Long Term Incentive Program (LTI). This program offers a remuneration component with a long-term incentive, which allows the members of the Management Board to earn an additional annual income after a three-year period.\n",
      "\n",
      "This amounts to 40% of the individual short-term variable remuneration for the fiscal year that precedes the beginning of the term of an LTI tranche, plus interest. A precondition for payment of this remuneration is that the members of the Management Board have not handed in their notice at the end of the applicable three-year period per tranche, and the equity ratio of the ZEISS Group is higher than 20% at this point.\n",
      "\n",
      "Contrary to the general LTI regulation, a special regulation applies for the Chairman of the Management Board with respect to the long-term variable remuneration. The amount of the LTI is agreed individually. The amount of the LTI should also not exceed the amount of the fixed annual remuneration. Financial targets are agreed annually for a three-year period, which are then evaluated at the end of the period.\n",
      "The full remuneration report for fiscal year 2019/20 can be found in our Annual Report 2019/20 on pages 56 et seqq.\n",
      " \n",
      "During the Annual General Meeting on 19 March 2019 it was resolved to increase the number of Supervisory Board members from six to nine. Since registration of a corresponding amendment to the Articles of Association on 6 March 2020, the Supervisory Board of Carl Zeiss Meditec AG has been composed, pursuant to Section 96 (1), Section 101 (1) AktG and Section 4 (1) DrittelbG, as well as Art. 11 (1) of the Company's Articles of Association, of six members to be elected by the shareholders and three members to be elected by the employees. An age limit of 65 years has been defined for the acceptance of Supervisory Board mandates at Carl Zeiss Meditec in the >Rules of Procedure of the Supervisory Board.\n",
      "\n",
      "Employee representatives changed as follows in fiscal year 2019/20: Mr. Jörg Heinrich stepped down from the Supervisory Board at the end of 30 September 2019. He was succeeded by Mr. René Denner on 1 October 2019, who was elected as a substitute member in the election on 16 May 2017. Effective from the date of entry of the amendment to the Articles of Association resolved by the Annual General Meeting 2017/18 to increase the size of the Supervisory Board, Mr. Jeffrey Marx was appointed as an additional employee representative.\n",
      "\n",
      "Both Ms. De Paoli and Dr. Lamprecht were appointed as shareholder representatives on 25 June 2020 by Jena Local Court, in accordance with the amendment to the Articles of Association resolved by the Annual General Meeting 2017/18 to increase the size of the Supervisory Board. The court appointment was limited to the duration of the virtual (ordinary) Annual General Meeting on 6 August 2020. Ms. Isabel De Paoli and Dr. Karl Lamprecht were elected to the Supervisory Board as shareholder representatives, effective from the end of the virtual Annual General Meeting on 6 August 2020 until the end of the Annual General Meeting that resolves upon their discharge for the fiscal year from 1 October 2023 to 30 September 2024.\n",
      "\n",
      "The term of office of Supervisory Board member Ms. Tania von der Goltz, who is an elected shareholder representative, expired at the end of the virtual Annual General Meeting on 6 August 2020. Ms. Tania von der Goltz was re-elected to the Supervisory Board as a shareholder representative, effective from the end of the virtual Annual General Meeting on 6 August 2020 until the end of the Annual General Meeting that resolves upon a discharge for the fiscal year from 1 October 2023 to 30 September 2024.\n",
      "\n",
      "The Supervisory Board supports the objectives of the Law on the Equal Participation of Women and Men in Leadership Positions, as well as the recommendations of the German Corporate Governance Code, and therefore resolved upon a gender ratio of at least 30% for the Supervisory Board, corresponding to two female members out of six seats, which was already fulfilled at the end of fiscal year 2014/15, and, following the registration of the aforementioned amendment to the Articles of Association from 6 March 2020, to three female members out of nine seats, which has been taken into account.\n",
      " \n",
      "The Supervisory Board has a General and Personnel Committee, an Audit Committee and a Nominating Committee.\n",
      "\n",
      "The General and Personnel Committee deals with issues concerning the Company's strategic orientation and drafts the personnel-related resolutions of the Supervisory Board. The Chairman of the General and Personnel Committee is Dr. Michael Kaschke. Other committee members are Tania von der Goltz and Dr. Karl Lamprecht. On 6 August 2020 there was a change to the members of the committee, with member Dr. Markus Guthoff being replaced by Dr. Karl Lamprecht. \n",
      "\n",
      "The Audit Committee is particularly concerned with auditing the accounting, monitoring the accounting process, the effectiveness of the internal control system, the risk management system and the internal auditing system, as well as the audit and its quality, and compliance. The Chairman of the Audit Committee is Dr. Markus Guthoff. Other members of the committee are Cornelia Grandy and Dr. Christian Müller. There was a recent change in members on 1 October 2019, with Jörg Heinrich being replaced by Cornelia Grandy.\n",
      "\n",
      "In the event of the appointment of new Supervisory Board members, the Nominating Committee proposes suitable candidates to the Supervisory Board for its candidate proposals to the Annual General Meeting. The Chairman of the Nominating Committee is Dr. Christian Müller. Other committee members are Dr. Michael Kaschke and Isabel De Paoli. There was a recent change to the members on 6 August 2020, with Dr. Markus Guthoff being replaced by Isabel De Paoli. \n",
      "\n",
      "Chairman of the General and Personnel Committee  Member of the Nominating Committee \n",
      "Chairman of the Supervisory Board since 2002  Suspended mandate pursuant to Section 105 AktG between 22 July 2008 and 21 July 2009.  Re-elected Chairman of the Supervisory Board since 2010 \n",
      "Deputy Chairwoman (since 10 Apr 2016)  Member of the Supervisory Board since 2018 \n",
      "Member of the Audit Committee  Chairman of the Nominating Committee \n",
      "Information on other memberships of the Supervisory Board members on statutory supervisory boards and similar supervisory bodies of companies within the ZEISS Group and at other companies can be found in the notes accompanying the consolidated financial statements in the Annual Report 2019/20 on page 138 f.\n",
      "\n",
      "Detailed information on the participation of the Supervisory Board members in Supervisory Board and committee meetings can be found in the Annual Report 2019/20 in the Report of the Supervisory Board on page 21.\n",
      "Pursuant to Section C.6 of the German Corporate Governance Code 2020 (DCGK 2020), there should be a certain number of independent members on the shareholder side that shareholders deem appropriate; the ownership structure should be taken into account. In its own estimation, the Supervisory Board has an adequate number of independent members with Isabel De Paoli, Dr. Markus Guthoff and Tania von der Goltz, also taking the ownership structure of Carl Zeiss Meditec AG into consideration, in which Carl Zeiss AG directly and indirectly holds a share of around 59.1%, who have no business or personal relationship with Carl Zeiss Meditec AG or the Management Board or Carl Zeiss AG as controlling shareholder. It should be noted that although Dr. Markus Guthoff has been a member of Carl Zeiss Meditec’s Supervisory Board for longer than 12 years, his independence is assumed, since the other indicators under Section C.7 DCGK 2020 are fulfilled. The long duration of service on the Supervisory Board brings the Company the advantages of a long wealth of experience and an extensive knowledge of the Company.\n",
      "\n",
      "C.7 DCGK 2020 also stipulates that more than half of the shareholder representatives should be independent from the Company and from the Management Board. The Company considers Supervisory Board members Prof. Dr. Michael Kaschke and Dr. Markus Guthoff to be independent in this regard in spite of the fact that they have served on the Supervisory Board for more than 12 years. Prof. Dr. Michael Kaschke and Dr. Markus Guthoff both have extensive knowledge in the area of medical technology and many years of experience within Carl Zeiss Meditec AG and the ZEISS Group. The Company benefits from this, particularly with regard to their supervisory function. The other indicators that speak for the independence of the Supervisory Board according to C.7/C.8 DCGK 2020 are thus fulfilled.\n",
      "\n",
      "Pursuant to C.10 DCGK 2020, the Chairman of the Supervisory Board, the Chairman of the Audit Committee and the Chairman of the committee responsible for the remuneration of the Management Board should also be independent from the Company and the Management Board. In addition, the Chairman of the Audit Committee should be independent from the controlling shareholder. The Chairman of the Audit Committee is Dr. Markus Guthoff. The Chairman of the whole Supervisory Board as well as the General and Personnel Committee, and therefore Chairman of the committee responsible for the remuneration of the Management Board, is Prof. Dr. Michael Kaschke. In spite of serving on the Supervisory Board for more than 12 years, Dr. Markus Guthoff and Michael Kaschke are assumed to be independent. Both carry out their duties and particularly the chairmanship with the utmost diligence and professionalism. Their wealth of experience gained from their membership of the Supervisory Board to date is used in the best interests of the shareholders for the best possible management of the Company. Both Dr. Markus Guthoff and Prof. Dr. Michael Kaschke also fulfill the other independence indicators set forth under C.7 DCGK 2020.\n",
      "\n",
      "There were no conflicts of interest among the members of the Supervisory Board in fiscal year 2019/20.\n",
      "\n",
      "The Supervisory Board is also responsible for long-term succession planning for the Management Board. The Chairman of the Supervisory Board holds regular meetings with the Chairman of the Management Board to discuss this. The subject is also discussed by the General and Personnel Committee of the Supervisory Board. They deliberate on the contract terms and renewal options for current members of the Management Board and advise on potential candidates for succession. When filling positions, both external and internal candidates are considered. Particular attention is paid to filling the positions with internal candidates who have the necessary qualifications and experience. Succession planning extends internally to potential candidates throughout the ZEISS Group.\n",
      "\n",
      "The basic eligibility criteria for selecting candidates for a Management Board position are accordingly based on the knowledge required to fulfill the tasks for the area of responsibility to be taken over, professional qualifications, personality, integrity, management qualities and previous achievements and knowledge about the Company.\n",
      "\n",
      "The composition of the Management Board also takes the factor of diversity into account. In the past, however, a clear focus on professional qualifications and experience has proven very successful. More detailed information can be found in the diversity concept in this Declaration on Corporate Governance.\n",
      "The Supervisory Board decides which person should be appointed to a specific position on the Management Board in the interests of the Company and taking all circumstances of the individual case into consideration. In summary, the Supervisory Board considers in particular the following aspects:\n",
      "The Supervisory Board regularly assesses the effectiveness of its committees and of the Supervisory Board as a whole. During the past fiscal year the Supervisory Board conducted a self-assessment, to evaluate the efficiency of its activities. This took the form of a questionnaire, in which the members of the Supervisory Board gave their appraisal of the effectiveness of the work of the Supervisory Board and its committees and suggested possibilities for improvement. \n",
      "\n",
      "The questionnaire contains questions about the following topics, among others: Quality of meeting preparation, running of Supervisory Board meetings, communication between the members of the Supervisory Board, input from the committees, number of committees and frequency of their meetings. \n",
      "\n",
      "After evaluating the questionnaires, the results and the possibilities for improvement were discussed at the next regular plenary session. Specific recommendations for action for the work of the Supervisory Board were defined and scheduled. Compliance with these specific recommendations for action shall be reviewed at certain dates.\n",
      "\n",
      "Further information on the cooperation of the Management Board and Supervisory Board, the composition and method of working of the committees can be found in the \"Report of the Supervisory Board\" and the notes accompanying the consolidated financial statements in the 2019/20 Annual Report.\n",
      "\n",
      "The Supervisory Board supports the objectives of the Law on the Equal Participation of Men and Women in Leadership Positions, as well as the recommendations of the Corporate Governance Code, and has therefore decided upon a gender quota of at least 30% for the Supervisory Board.\n",
      "\n",
      "Currently, three members of Carl Zeiss Meditec AG's nine-strong Supervisory Board are female, one on the employee representative side and two on the shareholder representative side. The proportion of women on the Supervisory Board is therefore 33%, thus fulfilling both the Company’s target and legal requirements. \n",
      "\n",
      "The Supervisory Board has also stipulated specific target quotas for women on the Management Board. \n",
      "\n",
      "The Supervisory Board has set itself the objective to also increase the participation of women on the Management Board in the medium term but does not see any possibility to realize this change in the short term. The Supervisory Board therefore continues to formally adhere to the existing quota of zero percent. \n",
      "\n",
      "To achieve equal participation of women and men in leadership positions, the Management Board considers it essential, in addition to stipulating target quotas for upper-level and top-level management, to increase the proportion of women in upstream management levels, and is accordingly focusing its recruitment efforts and internal support measures on this. \n",
      "\n",
      "On 18 January 2018, the Management Board adopted the resolution to create transparency about the current proportion of men and women at the top management levels and the determination of target quotas for Carl Zeiss Meditec AG. The defined target quotas as of 30 June 2022 for the equal participation of women and men in leadership positions are 22% in the first management level and 27% in the second management level. In order to achieve these target quotas, an action plan with recommendations for action has been drafted, which is to be implemented by 30 June 2022 to sustainably achieve the target quotas and thus close the gap with the previous fiscal year, during which the target quotas were not achieved in full. \n",
      "\n",
      "The Management Board firmly believes that being able to find a better balance between work and family life is one of the key factors for a more appropriate participation of women in leadership positions. The management is therefore supporting a large number of measures to achieve this objective. Furthermore, the Management Board believes that the stipulation of target quotas can be reconciled with the primacy of quality in filling specific leadership positions, if the target quota is seen to be a business requirement and an expression of purposeful human resources policy, rather than detailed planning for specific leadership positions. \n",
      "\n",
      "As a publicly listed company, Carl Zeiss Meditec AG adheres to the guidelines for diversity in terms of the composition of its Management Board and Supervisory Board, which are derived from the German Stock Corporation Act and the German Corporate Governance Code. \n",
      "\n",
      "However, this is not yet subject to an explicitly formulated diversity concept in accordance with Section 289f (2) No. 6 HGB, which contains precise information on age, gender, educational or professional background. The Supervisory Board believes that the composition of both bodies should focus primarily on the Company’s interests and should give priority to the skills, knowledge and professional qualifications and experience of its members necessary for both bodies to properly fulfill their duties. This concept has so far been successful in the Supervisory Board’s opinion. \n",
      "\n",
      "The Annual General Meeting was held on 6 August 2020 in the form of a virtual meeting at the business premises of Carl Zeiss Meditec AG in Jena. The calculated presence was around 88.82% of the total voting share capital. The voting results from the most recent Annual General Meeting can be inspected on the Company's website at www.zeiss.de/meditec-ag in the \"Investor Relations\" section under \"Financial calendar”, “Annual General Meeting 2020”.\n",
      "\n",
      "Carl Zeiss Meditec AG arranges for the appointment of a proxy to exercise the shareholders' voting rights according to their instructions. This proxy can be reached during the entire event. The Company therefore helped its shareholders to personally exercise their rights once again in 2020 and assists them with voting by proxy.\n",
      "\n",
      "For selected press releases and price-related news – so-called ad hoc disclosures – Carl Zeiss Meditec uses electronic distribution channels, which ensure that these disclosures are distributed simultaneously worldwide in German and English.\n",
      "\n",
      "The Company website at www.zeiss.de/meditec-ag/investor-relations publishes, in German and English, the mandatory publications such as the Company's 6-month and annual financial statements, among other things, as well as additional information, such as corporate governance, presentations, share price data, press releases and a calendar of events for the various interest groups. Telephone conversations, conferences and regular visits to the Company with or by investors, during which the Company explains its philosophy, the development of its business and its strategy, serve as additional channels of communication for the Company.\n",
      "\n",
      " \n",
      "The legally prescribed single-entity financial statements of Carl Zeiss Meditec AG, which are relevant for the dividend payment, are prepared in accordance with the provisions of the German Commercial Code (Handelsgesetzbuch, HGB) and the German Stock Corporation Act (Aktiengesetz, AktG). The annual consolidated financial statements and the interim reports of the Carl Zeiss Meditec Group have been prepared by the Management Board since 2005 in accordance with the principles of the International Financial Reporting Standards (IFRSs), as they are to be applied in the European Union. The annual financial statements are audited and approved by the Supervisory Board. The annual financial statements prepared in accordance with German commercial law are thus adopted.\n",
      "\n",
      "EY GmbH Wirtschaftsprüfungsgesellschaft, Stuttgart, audited the consolidated financial statements for 2019/20, as prepared in accordance with the provisions listed above, and issued them with an unqualified audit certificate. The same applies for the annual financial statements for fiscal year 2019/20 prepared by Carl Zeiss Meditec AG in accordance with the provisions of the German Commercial Code (HGB). Dominique-Andre Bendler assumed the role of lead auditor.\n",
      "\n",
      "The Annual General Meeting on 6 August 2020 appointed EY GmbH Wirtschaftsprüfungsgesellschaft, Stuttgart, as auditor of the annual financial statements of Carl Zeiss Meditec AG and the consolidated financial statements for fiscal year 2019/20 for the eighth time in succession for the duration of one year, after the Supervisory Board had first obtained a declaration confirming the auditor's independence. EY was first appointed in fiscal year 2012/13.\n",
      "\n",
      "The Supervisory Board agreed with the auditor that the Chairmen of the Supervisory Board and the Audit Committee shall be immediately informed of any disqualification or bias issues that may arise during the audit, if these cannot be remedied. The requirements concerning the internal rotation of auditors (Section 319a (1) Sentence 1 No. 4 HGB) were complied with.\n",
      "\n",
      "It was also agreed that the auditor shall promptly report all findings and events of relevance to the responsibilities of the Supervisory Board that may arise during the course of the audit. In addition, the auditor shall inform the Chairman of the Supervisory Board and the Audit Committee, or make a note in the audit report, if circumstances are discovered during the course of the audit that could result in an inaccuracy in the declaration on the German Corporate Governance Code submitted by the Management Board and Supervisory Board.\n",
      "\n",
      "Details on the auditor’s fees can be found in the Annual Report 2019/20 on page 140.\n",
      "\n",
      "Deutsche Version\n",
      "Not all products, services or offers are approved or offered in every market and approved labelling and instructions may vary from one country to another. For country specific product information, see the appropriate country website.\n"
     ]
    }
   ],
   "source": [
    "import requests\n",
    "import pandas as pd\n",
    "from bs4 import BeautifulSoup\n",
    "  # link for extract html data\n",
    "def getdata(url):\n",
    "    r = requests.get(url)\n",
    "    return r.text\n",
    "  \n",
    "htmldata = getdata(\"https://www.zeiss.com/meditec-ag/investor-relations/declaration-on-corporate-management.html\")\n",
    "soup = BeautifulSoup(htmldata, 'html.parser')\n",
    "data = ''\n",
    "\n",
    "for data in soup.find_all('p'):\n",
    "    #print(data)\n",
    "    text=data.get_text()\n",
    "    print(text)\n",
    "    file1=open(r'E:\\Data science\\stocks\\doc\\create\\zeiss.txt','a')\n",
    "    file1.writelines(text)\n",
    "    file1.close()"
   ]
  },
  {
   "cell_type": "code",
   "execution_count": null,
   "metadata": {},
   "outputs": [],
   "source": []
  },
  {
   "cell_type": "code",
   "execution_count": 123,
   "metadata": {},
   "outputs": [
    {
     "name": "stdout",
     "output_type": "stream",
     "text": [
      "<div class=\"content-wrap\"><p class=\"nm\">The principles of responsible and good corporate governance determine the conduct of the management and supervisory bodies of Carl Zeiss Meditec AG. Carl Zeiss Meditec has combined its Declaration on Corporate Governance pursuant to Section 289f and Section 315d HGB with its corporate governance reporting, thus conforming to principle 22 of the German Corporate Governance Code, DCGK 2020. Pursuant to Section 317 (2) Sentence 6 HGB, the auditor checked that the disclosures pursuant to Section 289f (2) and (5) and Section 315d HGB had been made.<br/>\n",
      "<br/>\n",
      "The Declaration on Corporate Governance was last updated in December 2020.<br/>\n",
      "<br/>\n",
      "</p>\n",
      "<div class=\"flexTextToggle hide hide-for-large-up\"><span class=\"background-block\"></span></div></div>\n",
      "<div class=\"content-wrap\"><p class=\"nm\">The principles of responsible and good corporate governance determine the conduct of the management and supervisory bodies of Carl Zeiss Meditec AG. Carl Zeiss Meditec has combined its Declaration on Corporate Governance pursuant to Section 289f and Section 315d HGB with its corporate governance reporting, thus conforming to principle 22 of the German Corporate Governance Code, DCGK 2020. Pursuant to Section 317 (2) Sentence 6 HGB, the auditor checked that the disclosures pursuant to Section 289f (2) and (5) and Section 315d HGB had been made.<br/>\n",
      "<br/>\n",
      "The Declaration on Corporate Governance was last updated in December 2020.<br/>\n",
      "<br/>\n",
      "</p>\n",
      "<div class=\"flexTextToggle hide hide-for-large-up\"><span class=\"background-block\"></span></div></div>\n",
      "<div class=\"content-wrap\"><p class=\"nm\">The principles of responsible and good corporate governance determine the conduct of the management and supervisory bodies of Carl Zeiss Meditec AG. Carl Zeiss Meditec has combined its Declaration on Corporate Governance pursuant to Section 289f and Section 315d HGB with its corporate governance reporting, thus conforming to principle 22 of the German Corporate Governance Code, DCGK 2020. Pursuant to Section 317 (2) Sentence 6 HGB, the auditor checked that the disclosures pursuant to Section 289f (2) and (5) and Section 315d HGB had been made.<br/>\n",
      "<br/>\n",
      "The Declaration on Corporate Governance was last updated in December 2020.<br/>\n",
      "<br/>\n",
      "</p>\n",
      "<div class=\"flexTextToggle hide hide-for-large-up\"><span class=\"background-block\"></span></div></div>\n"
     ]
    }
   ],
   "source": [
    "htmldata = getdata(\"https://www.zeiss.com/meditec-ag/investor-relations/declaration-on-corporate-management.html\")\n",
    "soup = BeautifulSoup(htmldata, 'html.parser')\n",
    "data = ''\n",
    "table = soup.find('div',attrs={\"class\":\"content-wrap\"})\n",
    "for x in table:\n",
    "    print(table)\n",
    "    #print(x.text)"
   ]
  },
  {
   "cell_type": "code",
   "execution_count": 117,
   "metadata": {
    "collapsed": true,
    "jupyter": {
     "outputs_hidden": true
    }
   },
   "outputs": [
    {
     "name": "stdout",
     "output_type": "stream",
     "text": [
      "\n",
      "\n",
      "\n"
     ]
    },
    {
     "data": {
      "text/plain": [
       "'urls=[\\'https://www.daimler.com/company/corporate-governance/declarations/\\',\\'https://www.zeiss.com/meditec-ag/investor-relations/declaration-on-corporate-management.html\\']\\nkeywords=[\\'text-container\\',\\'content-wrap\\']\\n\\nfor (url,key) in zip(urls,keywords):\\n    htmldata = getdata(\"%s\"%url)\\n    soup = BeautifulSoup(htmldata, \\'html.parser\\')\\n    data = \\'\\'\\n    table = soup.find(\\'div\\',attrs={\"class\":\"%s\"%key}).findAll(\\'p\\')\\n    for x in table:\\n        #print(data)\\n        print(x.text)\\n        print(\\'\\n\\')'"
      ]
     },
     "execution_count": 117,
     "metadata": {},
     "output_type": "execute_result"
    }
   ],
   "source": [
    "'''urls=['https://www.daimler.com/company/corporate-governance/declarations/','https://www.zeiss.com/meditec-ag/investor-relations/declaration-on-corporate-management.html']\n",
    "keywords=['text-container','content-wrap']\n",
    "\n",
    "for (url,key) in zip(urls,keywords):\n",
    "    htmldata = getdata(\"%s\"%url)\n",
    "    soup = BeautifulSoup(htmldata, 'html.parser')\n",
    "    data = ''\n",
    "    table = soup.find('div',attrs={\"class\":\"%s\"%key}).findAll('p')\n",
    "    for x in table:\n",
    "        #print(data)\n",
    "        print(x.text)\n",
    "        print('\\n')'''\n",
    "    \n",
    "    # url = urllib.urlopen('https://www.daimler.com/company/corporate-governance/declarations/')\n",
    "# content = url.read()\n",
    "# soup = BeautifulSoup(content, 'lxml')\n",
    "# table = soup.findAll('div',attrs={\"class\":\"content-question\"})\n",
    "# for x in table:\n",
    "#     print (x.find('p').text)\n",
    "# Another way to retrieve tables:\n",
    "# table = soup.select('div[class=\"content-question\"]')"
   ]
  },
  {
   "cell_type": "code",
   "execution_count": 57,
   "metadata": {},
   "outputs": [],
   "source": [
    "y='Board of Management and Supervisory Board of a German listed stock corporation shall declare annually that the recommendations of the German Corporate Governance Code Government Commission, as published by the Federal Ministry of Justice and Consumer Protection in the official section of the Federal Gazette, have been and are being complied with or, if not, which recommendations have not been or are not being applied and why. The declaration shall be permanently accessible to the public on the company’s website.'"
   ]
  },
  {
   "cell_type": "code",
   "execution_count": 58,
   "metadata": {},
   "outputs": [],
   "source": [
    "x='We want to make our website more user-friendly and continuously improve it. If you continue to use the website, you agree to the use of cookies.'"
   ]
  },
  {
   "cell_type": "code",
   "execution_count": 59,
   "metadata": {},
   "outputs": [
    {
     "name": "stdout",
     "output_type": "stream",
     "text": [
      "not same\n"
     ]
    }
   ],
   "source": [
    "if x ==y:\n",
    "    print('same')\n",
    "else:\n",
    "    print('not same')"
   ]
  },
  {
   "cell_type": "code",
   "execution_count": 60,
   "metadata": {},
   "outputs": [
    {
     "data": {
      "text/plain": [
       "[]"
      ]
     },
     "execution_count": 60,
     "metadata": {},
     "output_type": "execute_result"
    }
   ],
   "source": [
    "import re\n",
    "re.findall('Supervisory Board',x)"
   ]
  },
  {
   "cell_type": "code",
   "execution_count": 51,
   "metadata": {},
   "outputs": [
    {
     "data": {
      "text/plain": [
       "'<p>We want to make our website more user-friendly and continuously improve it. If you continue to use the website, you agree to the use of cookies.</p>'"
      ]
     },
     "execution_count": 51,
     "metadata": {},
     "output_type": "execute_result"
    }
   ],
   "source": [
    "str(data)"
   ]
  },
  {
   "cell_type": "code",
   "execution_count": null,
   "metadata": {},
   "outputs": [],
   "source": []
  },
  {
   "cell_type": "code",
   "execution_count": null,
   "metadata": {},
   "outputs": [],
   "source": []
  },
  {
   "cell_type": "code",
   "execution_count": null,
   "metadata": {},
   "outputs": [],
   "source": []
  },
  {
   "cell_type": "code",
   "execution_count": null,
   "metadata": {},
   "outputs": [],
   "source": []
  },
  {
   "cell_type": "code",
   "execution_count": 2,
   "metadata": {},
   "outputs": [],
   "source": [
    "import os\n",
    "import requests\n",
    "from urllib.parse import urljoin\n",
    "from bs4 import BeautifulSoup\n",
    "import re"
   ]
  },
  {
   "cell_type": "code",
   "execution_count": 3,
   "metadata": {
    "collapsed": true,
    "jupyter": {
     "outputs_hidden": true
    }
   },
   "outputs": [
    {
     "name": "stdout",
     "output_type": "stream",
     "text": [
      "http://www.dpdhl.com/en/investors/corporate_governance/declaration_of_conformity.html\n"
     ]
    },
    {
     "ename": "ConnectionError",
     "evalue": "('Connection aborted.', ConnectionResetError(10054, 'An existing connection was forcibly closed by the remote host', None, 10054, None))",
     "output_type": "error",
     "traceback": [
      "\u001b[1;31m---------------------------------------------------------------------------\u001b[0m",
      "\u001b[1;31mConnectionResetError\u001b[0m                      Traceback (most recent call last)",
      "\u001b[1;32m~\\Anaconda3\\envs\\TF220\\lib\\site-packages\\urllib3\\connectionpool.py\u001b[0m in \u001b[0;36murlopen\u001b[1;34m(self, method, url, body, headers, retries, redirect, assert_same_host, timeout, pool_timeout, release_conn, chunked, body_pos, **response_kw)\u001b[0m\n\u001b[0;32m    676\u001b[0m                 \u001b[0mheaders\u001b[0m\u001b[1;33m=\u001b[0m\u001b[0mheaders\u001b[0m\u001b[1;33m,\u001b[0m\u001b[1;33m\u001b[0m\u001b[1;33m\u001b[0m\u001b[0m\n\u001b[1;32m--> 677\u001b[1;33m                 \u001b[0mchunked\u001b[0m\u001b[1;33m=\u001b[0m\u001b[0mchunked\u001b[0m\u001b[1;33m,\u001b[0m\u001b[1;33m\u001b[0m\u001b[1;33m\u001b[0m\u001b[0m\n\u001b[0m\u001b[0;32m    678\u001b[0m             )\n",
      "\u001b[1;32m~\\Anaconda3\\envs\\TF220\\lib\\site-packages\\urllib3\\connectionpool.py\u001b[0m in \u001b[0;36m_make_request\u001b[1;34m(self, conn, method, url, timeout, chunked, **httplib_request_kw)\u001b[0m\n\u001b[0;32m    425\u001b[0m                     \u001b[1;31m# Otherwise it looks like a bug in the code.\u001b[0m\u001b[1;33m\u001b[0m\u001b[1;33m\u001b[0m\u001b[1;33m\u001b[0m\u001b[0m\n\u001b[1;32m--> 426\u001b[1;33m                     \u001b[0msix\u001b[0m\u001b[1;33m.\u001b[0m\u001b[0mraise_from\u001b[0m\u001b[1;33m(\u001b[0m\u001b[0me\u001b[0m\u001b[1;33m,\u001b[0m \u001b[1;32mNone\u001b[0m\u001b[1;33m)\u001b[0m\u001b[1;33m\u001b[0m\u001b[1;33m\u001b[0m\u001b[0m\n\u001b[0m\u001b[0;32m    427\u001b[0m         \u001b[1;32mexcept\u001b[0m \u001b[1;33m(\u001b[0m\u001b[0mSocketTimeout\u001b[0m\u001b[1;33m,\u001b[0m \u001b[0mBaseSSLError\u001b[0m\u001b[1;33m,\u001b[0m \u001b[0mSocketError\u001b[0m\u001b[1;33m)\u001b[0m \u001b[1;32mas\u001b[0m \u001b[0me\u001b[0m\u001b[1;33m:\u001b[0m\u001b[1;33m\u001b[0m\u001b[1;33m\u001b[0m\u001b[0m\n",
      "\u001b[1;32m~\\Anaconda3\\envs\\TF220\\lib\\site-packages\\urllib3\\packages\\six.py\u001b[0m in \u001b[0;36mraise_from\u001b[1;34m(value, from_value)\u001b[0m\n",
      "\u001b[1;32m~\\Anaconda3\\envs\\TF220\\lib\\site-packages\\urllib3\\connectionpool.py\u001b[0m in \u001b[0;36m_make_request\u001b[1;34m(self, conn, method, url, timeout, chunked, **httplib_request_kw)\u001b[0m\n\u001b[0;32m    420\u001b[0m                 \u001b[1;32mtry\u001b[0m\u001b[1;33m:\u001b[0m\u001b[1;33m\u001b[0m\u001b[1;33m\u001b[0m\u001b[0m\n\u001b[1;32m--> 421\u001b[1;33m                     \u001b[0mhttplib_response\u001b[0m \u001b[1;33m=\u001b[0m \u001b[0mconn\u001b[0m\u001b[1;33m.\u001b[0m\u001b[0mgetresponse\u001b[0m\u001b[1;33m(\u001b[0m\u001b[1;33m)\u001b[0m\u001b[1;33m\u001b[0m\u001b[1;33m\u001b[0m\u001b[0m\n\u001b[0m\u001b[0;32m    422\u001b[0m                 \u001b[1;32mexcept\u001b[0m \u001b[0mBaseException\u001b[0m \u001b[1;32mas\u001b[0m \u001b[0me\u001b[0m\u001b[1;33m:\u001b[0m\u001b[1;33m\u001b[0m\u001b[1;33m\u001b[0m\u001b[0m\n",
      "\u001b[1;32m~\\Anaconda3\\envs\\TF220\\lib\\http\\client.py\u001b[0m in \u001b[0;36mgetresponse\u001b[1;34m(self)\u001b[0m\n\u001b[0;32m   1353\u001b[0m             \u001b[1;32mtry\u001b[0m\u001b[1;33m:\u001b[0m\u001b[1;33m\u001b[0m\u001b[1;33m\u001b[0m\u001b[0m\n\u001b[1;32m-> 1354\u001b[1;33m                 \u001b[0mresponse\u001b[0m\u001b[1;33m.\u001b[0m\u001b[0mbegin\u001b[0m\u001b[1;33m(\u001b[0m\u001b[1;33m)\u001b[0m\u001b[1;33m\u001b[0m\u001b[1;33m\u001b[0m\u001b[0m\n\u001b[0m\u001b[0;32m   1355\u001b[0m             \u001b[1;32mexcept\u001b[0m \u001b[0mConnectionError\u001b[0m\u001b[1;33m:\u001b[0m\u001b[1;33m\u001b[0m\u001b[1;33m\u001b[0m\u001b[0m\n",
      "\u001b[1;32m~\\Anaconda3\\envs\\TF220\\lib\\http\\client.py\u001b[0m in \u001b[0;36mbegin\u001b[1;34m(self)\u001b[0m\n\u001b[0;32m    306\u001b[0m         \u001b[1;32mwhile\u001b[0m \u001b[1;32mTrue\u001b[0m\u001b[1;33m:\u001b[0m\u001b[1;33m\u001b[0m\u001b[1;33m\u001b[0m\u001b[0m\n\u001b[1;32m--> 307\u001b[1;33m             \u001b[0mversion\u001b[0m\u001b[1;33m,\u001b[0m \u001b[0mstatus\u001b[0m\u001b[1;33m,\u001b[0m \u001b[0mreason\u001b[0m \u001b[1;33m=\u001b[0m \u001b[0mself\u001b[0m\u001b[1;33m.\u001b[0m\u001b[0m_read_status\u001b[0m\u001b[1;33m(\u001b[0m\u001b[1;33m)\u001b[0m\u001b[1;33m\u001b[0m\u001b[1;33m\u001b[0m\u001b[0m\n\u001b[0m\u001b[0;32m    308\u001b[0m             \u001b[1;32mif\u001b[0m \u001b[0mstatus\u001b[0m \u001b[1;33m!=\u001b[0m \u001b[0mCONTINUE\u001b[0m\u001b[1;33m:\u001b[0m\u001b[1;33m\u001b[0m\u001b[1;33m\u001b[0m\u001b[0m\n",
      "\u001b[1;32m~\\Anaconda3\\envs\\TF220\\lib\\http\\client.py\u001b[0m in \u001b[0;36m_read_status\u001b[1;34m(self)\u001b[0m\n\u001b[0;32m    267\u001b[0m     \u001b[1;32mdef\u001b[0m \u001b[0m_read_status\u001b[0m\u001b[1;33m(\u001b[0m\u001b[0mself\u001b[0m\u001b[1;33m)\u001b[0m\u001b[1;33m:\u001b[0m\u001b[1;33m\u001b[0m\u001b[1;33m\u001b[0m\u001b[0m\n\u001b[1;32m--> 268\u001b[1;33m         \u001b[0mline\u001b[0m \u001b[1;33m=\u001b[0m \u001b[0mstr\u001b[0m\u001b[1;33m(\u001b[0m\u001b[0mself\u001b[0m\u001b[1;33m.\u001b[0m\u001b[0mfp\u001b[0m\u001b[1;33m.\u001b[0m\u001b[0mreadline\u001b[0m\u001b[1;33m(\u001b[0m\u001b[0m_MAXLINE\u001b[0m \u001b[1;33m+\u001b[0m \u001b[1;36m1\u001b[0m\u001b[1;33m)\u001b[0m\u001b[1;33m,\u001b[0m \u001b[1;34m\"iso-8859-1\"\u001b[0m\u001b[1;33m)\u001b[0m\u001b[1;33m\u001b[0m\u001b[1;33m\u001b[0m\u001b[0m\n\u001b[0m\u001b[0;32m    269\u001b[0m         \u001b[1;32mif\u001b[0m \u001b[0mlen\u001b[0m\u001b[1;33m(\u001b[0m\u001b[0mline\u001b[0m\u001b[1;33m)\u001b[0m \u001b[1;33m>\u001b[0m \u001b[0m_MAXLINE\u001b[0m\u001b[1;33m:\u001b[0m\u001b[1;33m\u001b[0m\u001b[1;33m\u001b[0m\u001b[0m\n",
      "\u001b[1;32m~\\Anaconda3\\envs\\TF220\\lib\\socket.py\u001b[0m in \u001b[0;36mreadinto\u001b[1;34m(self, b)\u001b[0m\n\u001b[0;32m    585\u001b[0m             \u001b[1;32mtry\u001b[0m\u001b[1;33m:\u001b[0m\u001b[1;33m\u001b[0m\u001b[1;33m\u001b[0m\u001b[0m\n\u001b[1;32m--> 586\u001b[1;33m                 \u001b[1;32mreturn\u001b[0m \u001b[0mself\u001b[0m\u001b[1;33m.\u001b[0m\u001b[0m_sock\u001b[0m\u001b[1;33m.\u001b[0m\u001b[0mrecv_into\u001b[0m\u001b[1;33m(\u001b[0m\u001b[0mb\u001b[0m\u001b[1;33m)\u001b[0m\u001b[1;33m\u001b[0m\u001b[1;33m\u001b[0m\u001b[0m\n\u001b[0m\u001b[0;32m    587\u001b[0m             \u001b[1;32mexcept\u001b[0m \u001b[0mtimeout\u001b[0m\u001b[1;33m:\u001b[0m\u001b[1;33m\u001b[0m\u001b[1;33m\u001b[0m\u001b[0m\n",
      "\u001b[1;31mConnectionResetError\u001b[0m: [WinError 10054] An existing connection was forcibly closed by the remote host",
      "\nDuring handling of the above exception, another exception occurred:\n",
      "\u001b[1;31mProtocolError\u001b[0m                             Traceback (most recent call last)",
      "\u001b[1;32m~\\Anaconda3\\envs\\TF220\\lib\\site-packages\\requests\\adapters.py\u001b[0m in \u001b[0;36msend\u001b[1;34m(self, request, stream, timeout, verify, cert, proxies)\u001b[0m\n\u001b[0;32m    448\u001b[0m                     \u001b[0mretries\u001b[0m\u001b[1;33m=\u001b[0m\u001b[0mself\u001b[0m\u001b[1;33m.\u001b[0m\u001b[0mmax_retries\u001b[0m\u001b[1;33m,\u001b[0m\u001b[1;33m\u001b[0m\u001b[1;33m\u001b[0m\u001b[0m\n\u001b[1;32m--> 449\u001b[1;33m                     \u001b[0mtimeout\u001b[0m\u001b[1;33m=\u001b[0m\u001b[0mtimeout\u001b[0m\u001b[1;33m\u001b[0m\u001b[1;33m\u001b[0m\u001b[0m\n\u001b[0m\u001b[0;32m    450\u001b[0m                 )\n",
      "\u001b[1;32m~\\Anaconda3\\envs\\TF220\\lib\\site-packages\\urllib3\\connectionpool.py\u001b[0m in \u001b[0;36murlopen\u001b[1;34m(self, method, url, body, headers, retries, redirect, assert_same_host, timeout, pool_timeout, release_conn, chunked, body_pos, **response_kw)\u001b[0m\n\u001b[0;32m    724\u001b[0m             retries = retries.increment(\n\u001b[1;32m--> 725\u001b[1;33m                 \u001b[0mmethod\u001b[0m\u001b[1;33m,\u001b[0m \u001b[0murl\u001b[0m\u001b[1;33m,\u001b[0m \u001b[0merror\u001b[0m\u001b[1;33m=\u001b[0m\u001b[0me\u001b[0m\u001b[1;33m,\u001b[0m \u001b[0m_pool\u001b[0m\u001b[1;33m=\u001b[0m\u001b[0mself\u001b[0m\u001b[1;33m,\u001b[0m \u001b[0m_stacktrace\u001b[0m\u001b[1;33m=\u001b[0m\u001b[0msys\u001b[0m\u001b[1;33m.\u001b[0m\u001b[0mexc_info\u001b[0m\u001b[1;33m(\u001b[0m\u001b[1;33m)\u001b[0m\u001b[1;33m[\u001b[0m\u001b[1;36m2\u001b[0m\u001b[1;33m]\u001b[0m\u001b[1;33m\u001b[0m\u001b[1;33m\u001b[0m\u001b[0m\n\u001b[0m\u001b[0;32m    726\u001b[0m             )\n",
      "\u001b[1;32m~\\Anaconda3\\envs\\TF220\\lib\\site-packages\\urllib3\\util\\retry.py\u001b[0m in \u001b[0;36mincrement\u001b[1;34m(self, method, url, response, error, _pool, _stacktrace)\u001b[0m\n\u001b[0;32m    402\u001b[0m             \u001b[1;32mif\u001b[0m \u001b[0mread\u001b[0m \u001b[1;32mis\u001b[0m \u001b[1;32mFalse\u001b[0m \u001b[1;32mor\u001b[0m \u001b[1;32mnot\u001b[0m \u001b[0mself\u001b[0m\u001b[1;33m.\u001b[0m\u001b[0m_is_method_retryable\u001b[0m\u001b[1;33m(\u001b[0m\u001b[0mmethod\u001b[0m\u001b[1;33m)\u001b[0m\u001b[1;33m:\u001b[0m\u001b[1;33m\u001b[0m\u001b[1;33m\u001b[0m\u001b[0m\n\u001b[1;32m--> 403\u001b[1;33m                 \u001b[1;32mraise\u001b[0m \u001b[0msix\u001b[0m\u001b[1;33m.\u001b[0m\u001b[0mreraise\u001b[0m\u001b[1;33m(\u001b[0m\u001b[0mtype\u001b[0m\u001b[1;33m(\u001b[0m\u001b[0merror\u001b[0m\u001b[1;33m)\u001b[0m\u001b[1;33m,\u001b[0m \u001b[0merror\u001b[0m\u001b[1;33m,\u001b[0m \u001b[0m_stacktrace\u001b[0m\u001b[1;33m)\u001b[0m\u001b[1;33m\u001b[0m\u001b[1;33m\u001b[0m\u001b[0m\n\u001b[0m\u001b[0;32m    404\u001b[0m             \u001b[1;32melif\u001b[0m \u001b[0mread\u001b[0m \u001b[1;32mis\u001b[0m \u001b[1;32mnot\u001b[0m \u001b[1;32mNone\u001b[0m\u001b[1;33m:\u001b[0m\u001b[1;33m\u001b[0m\u001b[1;33m\u001b[0m\u001b[0m\n",
      "\u001b[1;32m~\\Anaconda3\\envs\\TF220\\lib\\site-packages\\urllib3\\packages\\six.py\u001b[0m in \u001b[0;36mreraise\u001b[1;34m(tp, value, tb)\u001b[0m\n\u001b[0;32m    733\u001b[0m             \u001b[1;32mif\u001b[0m \u001b[0mvalue\u001b[0m\u001b[1;33m.\u001b[0m\u001b[0m__traceback__\u001b[0m \u001b[1;32mis\u001b[0m \u001b[1;32mnot\u001b[0m \u001b[0mtb\u001b[0m\u001b[1;33m:\u001b[0m\u001b[1;33m\u001b[0m\u001b[1;33m\u001b[0m\u001b[0m\n\u001b[1;32m--> 734\u001b[1;33m                 \u001b[1;32mraise\u001b[0m \u001b[0mvalue\u001b[0m\u001b[1;33m.\u001b[0m\u001b[0mwith_traceback\u001b[0m\u001b[1;33m(\u001b[0m\u001b[0mtb\u001b[0m\u001b[1;33m)\u001b[0m\u001b[1;33m\u001b[0m\u001b[1;33m\u001b[0m\u001b[0m\n\u001b[0m\u001b[0;32m    735\u001b[0m             \u001b[1;32mraise\u001b[0m \u001b[0mvalue\u001b[0m\u001b[1;33m\u001b[0m\u001b[1;33m\u001b[0m\u001b[0m\n",
      "\u001b[1;32m~\\Anaconda3\\envs\\TF220\\lib\\site-packages\\urllib3\\connectionpool.py\u001b[0m in \u001b[0;36murlopen\u001b[1;34m(self, method, url, body, headers, retries, redirect, assert_same_host, timeout, pool_timeout, release_conn, chunked, body_pos, **response_kw)\u001b[0m\n\u001b[0;32m    676\u001b[0m                 \u001b[0mheaders\u001b[0m\u001b[1;33m=\u001b[0m\u001b[0mheaders\u001b[0m\u001b[1;33m,\u001b[0m\u001b[1;33m\u001b[0m\u001b[1;33m\u001b[0m\u001b[0m\n\u001b[1;32m--> 677\u001b[1;33m                 \u001b[0mchunked\u001b[0m\u001b[1;33m=\u001b[0m\u001b[0mchunked\u001b[0m\u001b[1;33m,\u001b[0m\u001b[1;33m\u001b[0m\u001b[1;33m\u001b[0m\u001b[0m\n\u001b[0m\u001b[0;32m    678\u001b[0m             )\n",
      "\u001b[1;32m~\\Anaconda3\\envs\\TF220\\lib\\site-packages\\urllib3\\connectionpool.py\u001b[0m in \u001b[0;36m_make_request\u001b[1;34m(self, conn, method, url, timeout, chunked, **httplib_request_kw)\u001b[0m\n\u001b[0;32m    425\u001b[0m                     \u001b[1;31m# Otherwise it looks like a bug in the code.\u001b[0m\u001b[1;33m\u001b[0m\u001b[1;33m\u001b[0m\u001b[1;33m\u001b[0m\u001b[0m\n\u001b[1;32m--> 426\u001b[1;33m                     \u001b[0msix\u001b[0m\u001b[1;33m.\u001b[0m\u001b[0mraise_from\u001b[0m\u001b[1;33m(\u001b[0m\u001b[0me\u001b[0m\u001b[1;33m,\u001b[0m \u001b[1;32mNone\u001b[0m\u001b[1;33m)\u001b[0m\u001b[1;33m\u001b[0m\u001b[1;33m\u001b[0m\u001b[0m\n\u001b[0m\u001b[0;32m    427\u001b[0m         \u001b[1;32mexcept\u001b[0m \u001b[1;33m(\u001b[0m\u001b[0mSocketTimeout\u001b[0m\u001b[1;33m,\u001b[0m \u001b[0mBaseSSLError\u001b[0m\u001b[1;33m,\u001b[0m \u001b[0mSocketError\u001b[0m\u001b[1;33m)\u001b[0m \u001b[1;32mas\u001b[0m \u001b[0me\u001b[0m\u001b[1;33m:\u001b[0m\u001b[1;33m\u001b[0m\u001b[1;33m\u001b[0m\u001b[0m\n",
      "\u001b[1;32m~\\Anaconda3\\envs\\TF220\\lib\\site-packages\\urllib3\\packages\\six.py\u001b[0m in \u001b[0;36mraise_from\u001b[1;34m(value, from_value)\u001b[0m\n",
      "\u001b[1;32m~\\Anaconda3\\envs\\TF220\\lib\\site-packages\\urllib3\\connectionpool.py\u001b[0m in \u001b[0;36m_make_request\u001b[1;34m(self, conn, method, url, timeout, chunked, **httplib_request_kw)\u001b[0m\n\u001b[0;32m    420\u001b[0m                 \u001b[1;32mtry\u001b[0m\u001b[1;33m:\u001b[0m\u001b[1;33m\u001b[0m\u001b[1;33m\u001b[0m\u001b[0m\n\u001b[1;32m--> 421\u001b[1;33m                     \u001b[0mhttplib_response\u001b[0m \u001b[1;33m=\u001b[0m \u001b[0mconn\u001b[0m\u001b[1;33m.\u001b[0m\u001b[0mgetresponse\u001b[0m\u001b[1;33m(\u001b[0m\u001b[1;33m)\u001b[0m\u001b[1;33m\u001b[0m\u001b[1;33m\u001b[0m\u001b[0m\n\u001b[0m\u001b[0;32m    422\u001b[0m                 \u001b[1;32mexcept\u001b[0m \u001b[0mBaseException\u001b[0m \u001b[1;32mas\u001b[0m \u001b[0me\u001b[0m\u001b[1;33m:\u001b[0m\u001b[1;33m\u001b[0m\u001b[1;33m\u001b[0m\u001b[0m\n",
      "\u001b[1;32m~\\Anaconda3\\envs\\TF220\\lib\\http\\client.py\u001b[0m in \u001b[0;36mgetresponse\u001b[1;34m(self)\u001b[0m\n\u001b[0;32m   1353\u001b[0m             \u001b[1;32mtry\u001b[0m\u001b[1;33m:\u001b[0m\u001b[1;33m\u001b[0m\u001b[1;33m\u001b[0m\u001b[0m\n\u001b[1;32m-> 1354\u001b[1;33m                 \u001b[0mresponse\u001b[0m\u001b[1;33m.\u001b[0m\u001b[0mbegin\u001b[0m\u001b[1;33m(\u001b[0m\u001b[1;33m)\u001b[0m\u001b[1;33m\u001b[0m\u001b[1;33m\u001b[0m\u001b[0m\n\u001b[0m\u001b[0;32m   1355\u001b[0m             \u001b[1;32mexcept\u001b[0m \u001b[0mConnectionError\u001b[0m\u001b[1;33m:\u001b[0m\u001b[1;33m\u001b[0m\u001b[1;33m\u001b[0m\u001b[0m\n",
      "\u001b[1;32m~\\Anaconda3\\envs\\TF220\\lib\\http\\client.py\u001b[0m in \u001b[0;36mbegin\u001b[1;34m(self)\u001b[0m\n\u001b[0;32m    306\u001b[0m         \u001b[1;32mwhile\u001b[0m \u001b[1;32mTrue\u001b[0m\u001b[1;33m:\u001b[0m\u001b[1;33m\u001b[0m\u001b[1;33m\u001b[0m\u001b[0m\n\u001b[1;32m--> 307\u001b[1;33m             \u001b[0mversion\u001b[0m\u001b[1;33m,\u001b[0m \u001b[0mstatus\u001b[0m\u001b[1;33m,\u001b[0m \u001b[0mreason\u001b[0m \u001b[1;33m=\u001b[0m \u001b[0mself\u001b[0m\u001b[1;33m.\u001b[0m\u001b[0m_read_status\u001b[0m\u001b[1;33m(\u001b[0m\u001b[1;33m)\u001b[0m\u001b[1;33m\u001b[0m\u001b[1;33m\u001b[0m\u001b[0m\n\u001b[0m\u001b[0;32m    308\u001b[0m             \u001b[1;32mif\u001b[0m \u001b[0mstatus\u001b[0m \u001b[1;33m!=\u001b[0m \u001b[0mCONTINUE\u001b[0m\u001b[1;33m:\u001b[0m\u001b[1;33m\u001b[0m\u001b[1;33m\u001b[0m\u001b[0m\n",
      "\u001b[1;32m~\\Anaconda3\\envs\\TF220\\lib\\http\\client.py\u001b[0m in \u001b[0;36m_read_status\u001b[1;34m(self)\u001b[0m\n\u001b[0;32m    267\u001b[0m     \u001b[1;32mdef\u001b[0m \u001b[0m_read_status\u001b[0m\u001b[1;33m(\u001b[0m\u001b[0mself\u001b[0m\u001b[1;33m)\u001b[0m\u001b[1;33m:\u001b[0m\u001b[1;33m\u001b[0m\u001b[1;33m\u001b[0m\u001b[0m\n\u001b[1;32m--> 268\u001b[1;33m         \u001b[0mline\u001b[0m \u001b[1;33m=\u001b[0m \u001b[0mstr\u001b[0m\u001b[1;33m(\u001b[0m\u001b[0mself\u001b[0m\u001b[1;33m.\u001b[0m\u001b[0mfp\u001b[0m\u001b[1;33m.\u001b[0m\u001b[0mreadline\u001b[0m\u001b[1;33m(\u001b[0m\u001b[0m_MAXLINE\u001b[0m \u001b[1;33m+\u001b[0m \u001b[1;36m1\u001b[0m\u001b[1;33m)\u001b[0m\u001b[1;33m,\u001b[0m \u001b[1;34m\"iso-8859-1\"\u001b[0m\u001b[1;33m)\u001b[0m\u001b[1;33m\u001b[0m\u001b[1;33m\u001b[0m\u001b[0m\n\u001b[0m\u001b[0;32m    269\u001b[0m         \u001b[1;32mif\u001b[0m \u001b[0mlen\u001b[0m\u001b[1;33m(\u001b[0m\u001b[0mline\u001b[0m\u001b[1;33m)\u001b[0m \u001b[1;33m>\u001b[0m \u001b[0m_MAXLINE\u001b[0m\u001b[1;33m:\u001b[0m\u001b[1;33m\u001b[0m\u001b[1;33m\u001b[0m\u001b[0m\n",
      "\u001b[1;32m~\\Anaconda3\\envs\\TF220\\lib\\socket.py\u001b[0m in \u001b[0;36mreadinto\u001b[1;34m(self, b)\u001b[0m\n\u001b[0;32m    585\u001b[0m             \u001b[1;32mtry\u001b[0m\u001b[1;33m:\u001b[0m\u001b[1;33m\u001b[0m\u001b[1;33m\u001b[0m\u001b[0m\n\u001b[1;32m--> 586\u001b[1;33m                 \u001b[1;32mreturn\u001b[0m \u001b[0mself\u001b[0m\u001b[1;33m.\u001b[0m\u001b[0m_sock\u001b[0m\u001b[1;33m.\u001b[0m\u001b[0mrecv_into\u001b[0m\u001b[1;33m(\u001b[0m\u001b[0mb\u001b[0m\u001b[1;33m)\u001b[0m\u001b[1;33m\u001b[0m\u001b[1;33m\u001b[0m\u001b[0m\n\u001b[0m\u001b[0;32m    587\u001b[0m             \u001b[1;32mexcept\u001b[0m \u001b[0mtimeout\u001b[0m\u001b[1;33m:\u001b[0m\u001b[1;33m\u001b[0m\u001b[1;33m\u001b[0m\u001b[0m\n",
      "\u001b[1;31mProtocolError\u001b[0m: ('Connection aborted.', ConnectionResetError(10054, 'An existing connection was forcibly closed by the remote host', None, 10054, None))",
      "\nDuring handling of the above exception, another exception occurred:\n",
      "\u001b[1;31mConnectionError\u001b[0m                           Traceback (most recent call last)",
      "\u001b[1;32m<ipython-input-3-e89b86aa2294>\u001b[0m in \u001b[0;36m<module>\u001b[1;34m\u001b[0m\n\u001b[0;32m     33\u001b[0m     \u001b[1;31m#if not os.path.exists(folder_location):os.mkdir(folder_location)\u001b[0m\u001b[1;33m\u001b[0m\u001b[1;33m\u001b[0m\u001b[1;33m\u001b[0m\u001b[0m\n\u001b[0;32m     34\u001b[0m \u001b[1;33m\u001b[0m\u001b[0m\n\u001b[1;32m---> 35\u001b[1;33m     \u001b[0mresponse\u001b[0m \u001b[1;33m=\u001b[0m \u001b[0mrequests\u001b[0m\u001b[1;33m.\u001b[0m\u001b[0mget\u001b[0m\u001b[1;33m(\u001b[0m\u001b[0murls\u001b[0m\u001b[1;33m)\u001b[0m\u001b[1;33m\u001b[0m\u001b[1;33m\u001b[0m\u001b[0m\n\u001b[0m\u001b[0;32m     36\u001b[0m     \u001b[0msoup\u001b[0m\u001b[1;33m=\u001b[0m \u001b[0mBeautifulSoup\u001b[0m\u001b[1;33m(\u001b[0m\u001b[0mresponse\u001b[0m\u001b[1;33m.\u001b[0m\u001b[0mtext\u001b[0m\u001b[1;33m,\u001b[0m \u001b[1;34m\"html.parser\"\u001b[0m\u001b[1;33m)\u001b[0m\u001b[1;33m\u001b[0m\u001b[1;33m\u001b[0m\u001b[0m\n\u001b[0;32m     37\u001b[0m     \u001b[1;32mfor\u001b[0m \u001b[0mlink\u001b[0m \u001b[1;32min\u001b[0m \u001b[0msoup\u001b[0m\u001b[1;33m.\u001b[0m\u001b[0mselect\u001b[0m\u001b[1;33m(\u001b[0m\u001b[1;34m\"a[href$='.pdf']\"\u001b[0m\u001b[1;33m)\u001b[0m\u001b[1;33m:\u001b[0m\u001b[1;33m\u001b[0m\u001b[1;33m\u001b[0m\u001b[0m\n",
      "\u001b[1;32m~\\Anaconda3\\envs\\TF220\\lib\\site-packages\\requests\\api.py\u001b[0m in \u001b[0;36mget\u001b[1;34m(url, params, **kwargs)\u001b[0m\n\u001b[0;32m     74\u001b[0m \u001b[1;33m\u001b[0m\u001b[0m\n\u001b[0;32m     75\u001b[0m     \u001b[0mkwargs\u001b[0m\u001b[1;33m.\u001b[0m\u001b[0msetdefault\u001b[0m\u001b[1;33m(\u001b[0m\u001b[1;34m'allow_redirects'\u001b[0m\u001b[1;33m,\u001b[0m \u001b[1;32mTrue\u001b[0m\u001b[1;33m)\u001b[0m\u001b[1;33m\u001b[0m\u001b[1;33m\u001b[0m\u001b[0m\n\u001b[1;32m---> 76\u001b[1;33m     \u001b[1;32mreturn\u001b[0m \u001b[0mrequest\u001b[0m\u001b[1;33m(\u001b[0m\u001b[1;34m'get'\u001b[0m\u001b[1;33m,\u001b[0m \u001b[0murl\u001b[0m\u001b[1;33m,\u001b[0m \u001b[0mparams\u001b[0m\u001b[1;33m=\u001b[0m\u001b[0mparams\u001b[0m\u001b[1;33m,\u001b[0m \u001b[1;33m**\u001b[0m\u001b[0mkwargs\u001b[0m\u001b[1;33m)\u001b[0m\u001b[1;33m\u001b[0m\u001b[1;33m\u001b[0m\u001b[0m\n\u001b[0m\u001b[0;32m     77\u001b[0m \u001b[1;33m\u001b[0m\u001b[0m\n\u001b[0;32m     78\u001b[0m \u001b[1;33m\u001b[0m\u001b[0m\n",
      "\u001b[1;32m~\\Anaconda3\\envs\\TF220\\lib\\site-packages\\requests\\api.py\u001b[0m in \u001b[0;36mrequest\u001b[1;34m(method, url, **kwargs)\u001b[0m\n\u001b[0;32m     59\u001b[0m     \u001b[1;31m# cases, and look like a memory leak in others.\u001b[0m\u001b[1;33m\u001b[0m\u001b[1;33m\u001b[0m\u001b[1;33m\u001b[0m\u001b[0m\n\u001b[0;32m     60\u001b[0m     \u001b[1;32mwith\u001b[0m \u001b[0msessions\u001b[0m\u001b[1;33m.\u001b[0m\u001b[0mSession\u001b[0m\u001b[1;33m(\u001b[0m\u001b[1;33m)\u001b[0m \u001b[1;32mas\u001b[0m \u001b[0msession\u001b[0m\u001b[1;33m:\u001b[0m\u001b[1;33m\u001b[0m\u001b[1;33m\u001b[0m\u001b[0m\n\u001b[1;32m---> 61\u001b[1;33m         \u001b[1;32mreturn\u001b[0m \u001b[0msession\u001b[0m\u001b[1;33m.\u001b[0m\u001b[0mrequest\u001b[0m\u001b[1;33m(\u001b[0m\u001b[0mmethod\u001b[0m\u001b[1;33m=\u001b[0m\u001b[0mmethod\u001b[0m\u001b[1;33m,\u001b[0m \u001b[0murl\u001b[0m\u001b[1;33m=\u001b[0m\u001b[0murl\u001b[0m\u001b[1;33m,\u001b[0m \u001b[1;33m**\u001b[0m\u001b[0mkwargs\u001b[0m\u001b[1;33m)\u001b[0m\u001b[1;33m\u001b[0m\u001b[1;33m\u001b[0m\u001b[0m\n\u001b[0m\u001b[0;32m     62\u001b[0m \u001b[1;33m\u001b[0m\u001b[0m\n\u001b[0;32m     63\u001b[0m \u001b[1;33m\u001b[0m\u001b[0m\n",
      "\u001b[1;32m~\\Anaconda3\\envs\\TF220\\lib\\site-packages\\requests\\sessions.py\u001b[0m in \u001b[0;36mrequest\u001b[1;34m(self, method, url, params, data, headers, cookies, files, auth, timeout, allow_redirects, proxies, hooks, stream, verify, cert, json)\u001b[0m\n\u001b[0;32m    528\u001b[0m         }\n\u001b[0;32m    529\u001b[0m         \u001b[0msend_kwargs\u001b[0m\u001b[1;33m.\u001b[0m\u001b[0mupdate\u001b[0m\u001b[1;33m(\u001b[0m\u001b[0msettings\u001b[0m\u001b[1;33m)\u001b[0m\u001b[1;33m\u001b[0m\u001b[1;33m\u001b[0m\u001b[0m\n\u001b[1;32m--> 530\u001b[1;33m         \u001b[0mresp\u001b[0m \u001b[1;33m=\u001b[0m \u001b[0mself\u001b[0m\u001b[1;33m.\u001b[0m\u001b[0msend\u001b[0m\u001b[1;33m(\u001b[0m\u001b[0mprep\u001b[0m\u001b[1;33m,\u001b[0m \u001b[1;33m**\u001b[0m\u001b[0msend_kwargs\u001b[0m\u001b[1;33m)\u001b[0m\u001b[1;33m\u001b[0m\u001b[1;33m\u001b[0m\u001b[0m\n\u001b[0m\u001b[0;32m    531\u001b[0m \u001b[1;33m\u001b[0m\u001b[0m\n\u001b[0;32m    532\u001b[0m         \u001b[1;32mreturn\u001b[0m \u001b[0mresp\u001b[0m\u001b[1;33m\u001b[0m\u001b[1;33m\u001b[0m\u001b[0m\n",
      "\u001b[1;32m~\\Anaconda3\\envs\\TF220\\lib\\site-packages\\requests\\sessions.py\u001b[0m in \u001b[0;36msend\u001b[1;34m(self, request, **kwargs)\u001b[0m\n\u001b[0;32m    641\u001b[0m \u001b[1;33m\u001b[0m\u001b[0m\n\u001b[0;32m    642\u001b[0m         \u001b[1;31m# Send the request\u001b[0m\u001b[1;33m\u001b[0m\u001b[1;33m\u001b[0m\u001b[1;33m\u001b[0m\u001b[0m\n\u001b[1;32m--> 643\u001b[1;33m         \u001b[0mr\u001b[0m \u001b[1;33m=\u001b[0m \u001b[0madapter\u001b[0m\u001b[1;33m.\u001b[0m\u001b[0msend\u001b[0m\u001b[1;33m(\u001b[0m\u001b[0mrequest\u001b[0m\u001b[1;33m,\u001b[0m \u001b[1;33m**\u001b[0m\u001b[0mkwargs\u001b[0m\u001b[1;33m)\u001b[0m\u001b[1;33m\u001b[0m\u001b[1;33m\u001b[0m\u001b[0m\n\u001b[0m\u001b[0;32m    644\u001b[0m \u001b[1;33m\u001b[0m\u001b[0m\n\u001b[0;32m    645\u001b[0m         \u001b[1;31m# Total elapsed time of the request (approximately)\u001b[0m\u001b[1;33m\u001b[0m\u001b[1;33m\u001b[0m\u001b[1;33m\u001b[0m\u001b[0m\n",
      "\u001b[1;32m~\\Anaconda3\\envs\\TF220\\lib\\site-packages\\requests\\adapters.py\u001b[0m in \u001b[0;36msend\u001b[1;34m(self, request, stream, timeout, verify, cert, proxies)\u001b[0m\n\u001b[0;32m    496\u001b[0m \u001b[1;33m\u001b[0m\u001b[0m\n\u001b[0;32m    497\u001b[0m         \u001b[1;32mexcept\u001b[0m \u001b[1;33m(\u001b[0m\u001b[0mProtocolError\u001b[0m\u001b[1;33m,\u001b[0m \u001b[0msocket\u001b[0m\u001b[1;33m.\u001b[0m\u001b[0merror\u001b[0m\u001b[1;33m)\u001b[0m \u001b[1;32mas\u001b[0m \u001b[0merr\u001b[0m\u001b[1;33m:\u001b[0m\u001b[1;33m\u001b[0m\u001b[1;33m\u001b[0m\u001b[0m\n\u001b[1;32m--> 498\u001b[1;33m             \u001b[1;32mraise\u001b[0m \u001b[0mConnectionError\u001b[0m\u001b[1;33m(\u001b[0m\u001b[0merr\u001b[0m\u001b[1;33m,\u001b[0m \u001b[0mrequest\u001b[0m\u001b[1;33m=\u001b[0m\u001b[0mrequest\u001b[0m\u001b[1;33m)\u001b[0m\u001b[1;33m\u001b[0m\u001b[1;33m\u001b[0m\u001b[0m\n\u001b[0m\u001b[0;32m    499\u001b[0m \u001b[1;33m\u001b[0m\u001b[0m\n\u001b[0;32m    500\u001b[0m         \u001b[1;32mexcept\u001b[0m \u001b[0mMaxRetryError\u001b[0m \u001b[1;32mas\u001b[0m \u001b[0me\u001b[0m\u001b[1;33m:\u001b[0m\u001b[1;33m\u001b[0m\u001b[1;33m\u001b[0m\u001b[0m\n",
      "\u001b[1;31mConnectionError\u001b[0m: ('Connection aborted.', ConnectionResetError(10054, 'An existing connection was forcibly closed by the remote host', None, 10054, None))"
     ]
    }
   ],
   "source": [
    "import requests\n",
    "import re\n",
    "from bs4 import BeautifulSoup\n",
    "import os\n",
    "from urllib.parse import urljoin\n",
    "\n",
    "url = 'https://www.dcgk.de/en/declarations-of-compliance.html'\n",
    "reqs = requests.get(url)\n",
    "soup = BeautifulSoup(reqs.text, 'html.parser')\n",
    "text=[]\n",
    "for link in soup.find_all('a'):\n",
    "    text.append(link)\n",
    "\n",
    "c_url=[]\n",
    "for i in text:\n",
    "    urls = re.findall('http[s]?://(?:[a-zA-Z]|[0-9]|[$-_@.&+]|[!*\\(\\),]|(?:%[0-9a-fA-F][0-9a-fA-F]))+', str(i))\n",
    "    c_url.append(urls)\n",
    "res = [ele for ele in c_url if ele != []]\n",
    "flatList = [ item for elem in res for item in elem]\n",
    "for i in flatList[15::]:\n",
    "    print(i)\n",
    "    urls = i\n",
    "    url = i\n",
    "    url = url.split('//')\n",
    "    url=url[1]\n",
    "    url=url.split('/')\n",
    "    url=url[0]\n",
    "    #print(url)\n",
    "    os.mkdir('E:/Data science/stocks/doc/' + url)\n",
    "    #If there is no such folder, the script will create one automatically\n",
    "    folder_location = 'E:/Data science/stocks/doc/'+ url\n",
    "    #os.mkdir(r'/home/sudharsan_shankar/Documents' + url )\n",
    "    #if not os.path.exists(folder_location):os.mkdir(folder_location)\n",
    "\n",
    "    response = requests.get(urls)\n",
    "    soup= BeautifulSoup(response.text, \"html.parser\")     \n",
    "    for link in soup.select(\"a[href$='.pdf']\"):\n",
    "        try:\n",
    "            #Name the pdf files using the last portion of each link which are unique in this case\n",
    "            filename = os.path.join(folder_location,link['href'].split('/')[-1])\n",
    "            with open(filename, 'wb') as f:\n",
    "                f.write(requests.get(urljoin(urls,link['href'])).content)\n",
    "        except (ConnectionError,ProtocolError,ConnectionResetError):\n",
    "            print('connection error')\n",
    "            continue"
   ]
  },
  {
   "cell_type": "code",
   "execution_count": 20,
   "metadata": {},
   "outputs": [
    {
     "name": "stdout",
     "output_type": "stream",
     "text": [
      "Downloading file:  1\n",
      "File  1  downloaded\n",
      "Downloading file:  2\n",
      "File  2  downloaded\n",
      "Downloading file:  3\n",
      "File  3  downloaded\n",
      "All PDF files downloaded\n"
     ]
    }
   ],
   "source": [
    "# Import libraries\n",
    "import requests\n",
    "from bs4 import BeautifulSoup\n",
    "\n",
    "# URL from which pdfs to be downloaded\n",
    "url = \"https://www.fuchs.com/group/the-company/corporate-governance/articles-of-association-and-declaration-of-compliance/\"\n",
    "\n",
    "# Requests URL and get response object\n",
    "response = requests.get(url)\n",
    "\n",
    "# Parse text obtained\n",
    "soup = BeautifulSoup(response.text, 'html.parser')\n",
    "\n",
    "# Find all hyperlinks present on webpage\n",
    "links = soup.find_all('a')\n",
    "\n",
    "i = 0\n",
    "\n",
    "# From all links check for pdf link and\n",
    "# if present download file\n",
    "for link in links:\n",
    "\tif ('2020' in link.get('href', [])) and ('.pdf' in link.get('href', [])):\n",
    "\t\ti += 1\n",
    "\t\tprint(\"Downloading file: \", i)\n",
    "\n",
    "\t\t# Get response object for link\n",
    "\t\tresponse = requests.get(link.get('href'))\n",
    "\n",
    "\t\t# Write content in pdf file\n",
    "\t\tpdf = open('E:\\\\Data science\\\\stocks\\\\pdfs\\\\'+\"pdf\"+str(i)+\".pdf\", 'wb')\n",
    "\t\tpdf.write(response.content)\n",
    "\t\tpdf.close()\n",
    "\t\tprint(\"File \", i, \" downloaded\")\n",
    "\n",
    "print(\"All PDF files downloaded\")\n"
   ]
  },
  {
   "cell_type": "code",
   "execution_count": 16,
   "metadata": {},
   "outputs": [
    {
     "data": {
      "text/plain": [
       "'E:\\\\Data science\\\\stocks\\\\pdfs\\\\pdf0.pdf'"
      ]
     },
     "execution_count": 16,
     "metadata": {},
     "output_type": "execute_result"
    }
   ],
   "source": [
    "'E:\\\\Data science\\\\stocks\\\\pdfs\\\\'+\"pdf\"+str(i)+\".pdf\""
   ]
  },
  {
   "cell_type": "code",
   "execution_count": 3,
   "metadata": {},
   "outputs": [],
   "source": [
    "import re\n",
    "\n",
    "def extractMax(input):\n",
    "\tnumbers = re.findall('\\d+',input)\n",
    "\tnumbers = map(int,numbers)\n",
    "\n",
    "\tprint( max(numbers))\n"
   ]
  },
  {
   "cell_type": "code",
   "execution_count": 9,
   "metadata": {},
   "outputs": [],
   "source": [
    "import os\n",
    "import requests\n",
    "from urllib.parse import urljoin\n",
    "from bs4 import BeautifulSoup\n",
    "\n",
    "url = \"https://www.daimler.com/company/corporate-governance/declarations/\"\n",
    "\n",
    "#If there is no such folder, the script will create one automatically\n",
    "folder_location = \"E:\\\\Data science\\\\stocks\\\\doc\\\\pdf_extract\\\\\"\n",
    "if not os.path.exists(folder_location):os.mkdir(folder_location)\n",
    "\n",
    "response = requests.get(url)\n",
    "soup= BeautifulSoup(response.text, \"html.parser\")     "
   ]
  },
  {
   "cell_type": "code",
   "execution_count": 20,
   "metadata": {},
   "outputs": [
    {
     "name": "stdout",
     "output_type": "stream",
     "text": [
      "https://www.daimler.com/documents/company/corporate-governance/declarations/daimler-entsprechenserklaerung-en-12-2020.pdf\n",
      "https://www.daimler.com/documents/company/corporate-governance/declarations/daimler-ir-docg-2020.pdf\n"
     ]
    }
   ],
   "source": [
    "for link in soup.select(\"a[href$='2020.pdf']\"):\n",
    "    #Name the pdf files using the last portion of each link which are unique in this case\n",
    "    filename = os.path.join(folder_location,link['href'].split('/')[-1])\n",
    "    #extractMax(link)\n",
    "    print(urljoin(url,link['href']))\n",
    "\n",
    "    #with open(filename, 'wb') as f:\n",
    "        #f.write(requests.get(urljoin(url,link['href'])).content)"
   ]
  },
  {
   "cell_type": "code",
   "execution_count": 2,
   "metadata": {},
   "outputs": [],
   "source": [
    "import os\n",
    "import requests\n",
    "from urllib.parse import urljoin\n",
    "from bs4 import BeautifulSoup\n",
    "\n",
    "url = \"https://www.bayer.com/en/corporate-governance\"\n",
    "\n",
    "#If there is no such folder, the script will create one automatically\n",
    "folder_location = \"E:\\\\Data science\\\\stocks\\\\pdfs\\\\\"\n",
    "if not os.path.exists(folder_location):os.mkdir(folder_location)\n",
    "\n",
    "response = requests.get(url)\n",
    "soup= BeautifulSoup(response.text, \"html.parser\")     \n",
    "\n",
    "for link in soup.select(\"a[href$='.pdf']\"):\n",
    "    #Name the pdf files using the last portion of each link which are unique in this case\n",
    "    filename = os.path.join(folder_location,link['href'].split('/')[-1])\n",
    "    \n",
    "   \n",
    "    with open(filename, 'wb') as f:\n",
    "        f.write(requests.get(urljoin(url,link['href'])).content)"
   ]
  },
  {
   "cell_type": "code",
   "execution_count": 33,
   "metadata": {},
   "outputs": [
    {
     "data": {
      "text/plain": [
       "'E:\\\\Data science\\\\stocks\\\\doc\\\\txt\\\\Allianz.txt'"
      ]
     },
     "execution_count": 33,
     "metadata": {},
     "output_type": "execute_result"
    }
   ],
   "source": [
    "a= r'E:\\Data science\\stocks\\doc\\txt\\Allianz.txt'\n",
    "a"
   ]
  },
  {
   "cell_type": "code",
   "execution_count": 29,
   "metadata": {},
   "outputs": [],
   "source": [
    "text=open(r'E:\\Data science\\stocks\\doc\\txt\\Allianz.txt','r').read()"
   ]
  },
  {
   "cell_type": "code",
   "execution_count": 30,
   "metadata": {},
   "outputs": [
    {
     "data": {
      "text/plain": [
       "' \\nDeclaration of Conformity  \\n by the Management Board and the Supervisory Board of Allianz SE  \\nwith the recommendations of  \\nthe German Corporate Governance Code Commission  \\nin accordance with Sec. 161 of the German Stock Corporation Act (AktG) \\n \\nConvenience Translation \\n \\n \\n1. Allianz SE currently complies with all recommendations of the German Corporate \\nGovernance Code (Code) in the version of December 16, 2019 and will comply \\nwith them in the future. \\n \\n2. Since the last Declaration of Conformity as of December 13, 2019, Allianz SE has \\ncomplied with all recommendations of the Code in the version of February 7, 2017. \\n \\n \\n \\nMunich, December 10, 2020 \\n \\n \\nAllianz SE \\n \\n \\nThe Management Board  \\n \\n \\n \\n \\nThe Supervisory Board \\n \\n'"
      ]
     },
     "execution_count": 30,
     "metadata": {},
     "output_type": "execute_result"
    }
   ],
   "source": [
    "text"
   ]
  },
  {
   "cell_type": "code",
   "execution_count": 43,
   "metadata": {},
   "outputs": [
    {
     "ename": "AttributeError",
     "evalue": "'str' object has no attribute 'strftime'",
     "output_type": "error",
     "traceback": [
      "\u001b[1;31m---------------------------------------------------------------------------\u001b[0m",
      "\u001b[1;31mAttributeError\u001b[0m                            Traceback (most recent call last)",
      "\u001b[1;32m<ipython-input-43-7ebaa5713ebe>\u001b[0m in \u001b[0;36m<module>\u001b[1;34m\u001b[0m\n\u001b[0;32m      1\u001b[0m \u001b[1;32mimport\u001b[0m \u001b[0mdatetime\u001b[0m\u001b[1;33m\u001b[0m\u001b[1;33m\u001b[0m\u001b[0m\n\u001b[1;32m----> 2\u001b[1;33m \u001b[0mtext\u001b[0m\u001b[1;33m.\u001b[0m\u001b[0mstrftime\u001b[0m\u001b[1;33m(\u001b[0m\u001b[1;34m\"%B %d, %Y\"\u001b[0m\u001b[1;33m)\u001b[0m\u001b[1;33m\u001b[0m\u001b[1;33m\u001b[0m\u001b[0m\n\u001b[0m",
      "\u001b[1;31mAttributeError\u001b[0m: 'str' object has no attribute 'strftime'"
     ]
    }
   ],
   "source": [
    "import datetime\n",
    "text.strftime(\"%B %d, %Y\")"
   ]
  },
  {
   "cell_type": "code",
   "execution_count": 47,
   "metadata": {},
   "outputs": [
    {
     "data": {
      "text/plain": [
       "datetime.date(2021, 4, 1)"
      ]
     },
     "execution_count": 47,
     "metadata": {},
     "output_type": "execute_result"
    }
   ],
   "source": [
    "datetime.date.today()"
   ]
  },
  {
   "cell_type": "code",
   "execution_count": 34,
   "metadata": {},
   "outputs": [
    {
     "name": "stdout",
     "output_type": "stream",
     "text": [
      "Collecting dateparser\n",
      "  Downloading dateparser-1.0.0-py2.py3-none-any.whl (279 kB)\n",
      "Requirement already satisfied: tzlocal in c:\\users\\lavanya.r\\anaconda3\\envs\\tf220\\lib\\site-packages (from dateparser) (1.5.1)\n",
      "Requirement already satisfied: pytz in c:\\users\\lavanya.r\\anaconda3\\envs\\tf220\\lib\\site-packages (from dateparser) (2020.1)\n",
      "Requirement already satisfied: python-dateutil in c:\\users\\lavanya.r\\anaconda3\\envs\\tf220\\lib\\site-packages (from dateparser) (2.8.1)\n",
      "Requirement already satisfied: regex!=2019.02.19 in c:\\users\\lavanya.r\\anaconda3\\envs\\tf220\\lib\\site-packages (from dateparser) (2020.6.8)\n",
      "Requirement already satisfied: six>=1.5 in c:\\users\\lavanya.r\\anaconda3\\envs\\tf220\\lib\\site-packages (from python-dateutil->dateparser) (1.12.0)\n",
      "Installing collected packages: dateparser\n",
      "Successfully installed dateparser-1.0.0\n"
     ]
    }
   ],
   "source": [
    "!pip install dateparser"
   ]
  },
  {
   "cell_type": "code",
   "execution_count": 2,
   "metadata": {},
   "outputs": [],
   "source": [
    "from dateparser.search import search_dates"
   ]
  },
  {
   "cell_type": "code",
   "execution_count": 30,
   "metadata": {},
   "outputs": [
    {
     "data": {
      "text/plain": [
       "('2 Dec 2018', datetime.datetime(2018, 12, 2, 0, 0))"
      ]
     },
     "execution_count": 30,
     "metadata": {},
     "output_type": "execute_result"
    }
   ],
   "source": [
    "max(search_dates(\" is 1 Dec 2019 or 2 Dec 2018\"))"
   ]
  },
  {
   "cell_type": "code",
   "execution_count": 7,
   "metadata": {},
   "outputs": [],
   "source": [
    "from dateutil.parser import parse"
   ]
  },
  {
   "cell_type": "code",
   "execution_count": 9,
   "metadata": {},
   "outputs": [
    {
     "data": {
      "text/plain": [
       "(datetime.datetime(2019, 1, 2, 12, 0, tzinfo=tzoffset(None, -64800)),\n",
       " ('The next one will be on ', ' or '))"
      ]
     },
     "execution_count": 9,
     "metadata": {},
     "output_type": "execute_result"
    }
   ],
   "source": [
    "parse(\"The next one will be on 1-02-19 or 12-03-18\", fuzzy_with_tokens=True)"
   ]
  },
  {
   "cell_type": "code",
   "execution_count": 12,
   "metadata": {},
   "outputs": [],
   "source": [
    "a='Declaration of Conformity by the Management Board and the Supervisory Board of Allianz SE with the recommendations of  the German Corporate Governance Code, Commission  \\nin accordance with Sec. 161 of the German February 10,2019 Stock Corporation Munich, December 10, 2020 Allianz SE'"
   ]
  },
  {
   "cell_type": "code",
   "execution_count": 11,
   "metadata": {},
   "outputs": [
    {
     "data": {
      "text/plain": [
       "('February 10,2019', datetime.datetime(2019, 2, 10, 0, 0))"
      ]
     },
     "execution_count": 11,
     "metadata": {},
     "output_type": "execute_result"
    }
   ],
   "source": [
    "max(search_dates(a))"
   ]
  },
  {
   "cell_type": "markdown",
   "metadata": {},
   "source": [
    "## Extract Date from text file"
   ]
  },
  {
   "cell_type": "code",
   "execution_count": 34,
   "metadata": {},
   "outputs": [],
   "source": [
    "import pandas as pd\n",
    "from dateparser.search import search_dates\n",
    "from dateutil.parser import parse\n",
    "import datetime"
   ]
  },
  {
   "cell_type": "code",
   "execution_count": 7,
   "metadata": {},
   "outputs": [],
   "source": [
    "txt_adidas=open(r'E:\\Data science\\stocks\\doc\\txt\\BASF.txt','r').read()"
   ]
  },
  {
   "cell_type": "code",
   "execution_count": 8,
   "metadata": {},
   "outputs": [
    {
     "data": {
      "text/plain": [
       "[('2020 of the', datetime.datetime(2020, 4, 8, 0, 0)),\n",
       " ('on February 7, 2017', datetime.datetime(2017, 2, 7, 0, 0)),\n",
       " ('on April 24, 2017 in the', datetime.datetime(2017, 4, 24, 0, 0)),\n",
       " ('of December 2019', datetime.datetime(2019, 12, 24, 0, 0)),\n",
       " ('on December 16, 2019', datetime.datetime(2019, 12, 16, 0, 0)),\n",
       " ('on March 20, 2020 in the', datetime.datetime(2020, 3, 20, 0, 0)),\n",
       " ('December 2020', datetime.datetime(2020, 12, 20, 0, 0))]"
      ]
     },
     "execution_count": 8,
     "metadata": {},
     "output_type": "execute_result"
    }
   ],
   "source": [
    "b=(search_dates(txt_adidas))\n",
    "b"
   ]
  },
  {
   "cell_type": "code",
   "execution_count": 9,
   "metadata": {},
   "outputs": [
    {
     "data": {
      "text/plain": [
       "('on March 20, 2020 in the', datetime.datetime(2020, 3, 20, 0, 0))"
      ]
     },
     "execution_count": 9,
     "metadata": {},
     "output_type": "execute_result"
    }
   ],
   "source": [
    "latest=max(b)\n",
    "latest"
   ]
  },
  {
   "cell_type": "code",
   "execution_count": 10,
   "metadata": {},
   "outputs": [],
   "source": [
    "import pandas as pd\n",
    "dat_df= pd.DataFrame(b)"
   ]
  },
  {
   "cell_type": "code",
   "execution_count": 11,
   "metadata": {},
   "outputs": [
    {
     "data": {
      "text/html": [
       "<div>\n",
       "<style scoped>\n",
       "    .dataframe tbody tr th:only-of-type {\n",
       "        vertical-align: middle;\n",
       "    }\n",
       "\n",
       "    .dataframe tbody tr th {\n",
       "        vertical-align: top;\n",
       "    }\n",
       "\n",
       "    .dataframe thead th {\n",
       "        text-align: right;\n",
       "    }\n",
       "</style>\n",
       "<table border=\"1\" class=\"dataframe\">\n",
       "  <thead>\n",
       "    <tr style=\"text-align: right;\">\n",
       "      <th></th>\n",
       "      <th>0</th>\n",
       "      <th>1</th>\n",
       "    </tr>\n",
       "  </thead>\n",
       "  <tbody>\n",
       "    <tr>\n",
       "      <th>0</th>\n",
       "      <td>2020 of the</td>\n",
       "      <td>2020-04-08</td>\n",
       "    </tr>\n",
       "    <tr>\n",
       "      <th>1</th>\n",
       "      <td>on February 7, 2017</td>\n",
       "      <td>2017-02-07</td>\n",
       "    </tr>\n",
       "    <tr>\n",
       "      <th>2</th>\n",
       "      <td>on April 24, 2017 in the</td>\n",
       "      <td>2017-04-24</td>\n",
       "    </tr>\n",
       "    <tr>\n",
       "      <th>3</th>\n",
       "      <td>of December 2019</td>\n",
       "      <td>2019-12-24</td>\n",
       "    </tr>\n",
       "    <tr>\n",
       "      <th>4</th>\n",
       "      <td>on December 16, 2019</td>\n",
       "      <td>2019-12-16</td>\n",
       "    </tr>\n",
       "    <tr>\n",
       "      <th>5</th>\n",
       "      <td>on March 20, 2020 in the</td>\n",
       "      <td>2020-03-20</td>\n",
       "    </tr>\n",
       "    <tr>\n",
       "      <th>6</th>\n",
       "      <td>December 2020</td>\n",
       "      <td>2020-12-20</td>\n",
       "    </tr>\n",
       "  </tbody>\n",
       "</table>\n",
       "</div>"
      ],
      "text/plain": [
       "                          0          1\n",
       "0               2020 of the 2020-04-08\n",
       "1       on February 7, 2017 2017-02-07\n",
       "2  on April 24, 2017 in the 2017-04-24\n",
       "3          of December 2019 2019-12-24\n",
       "4      on December 16, 2019 2019-12-16\n",
       "5  on March 20, 2020 in the 2020-03-20\n",
       "6             December 2020 2020-12-20"
      ]
     },
     "execution_count": 11,
     "metadata": {},
     "output_type": "execute_result"
    }
   ],
   "source": [
    "dat_df"
   ]
  },
  {
   "cell_type": "code",
   "execution_count": 49,
   "metadata": {},
   "outputs": [
    {
     "data": {
      "text/plain": [
       "6    December 2020\n",
       "Name: 0, dtype: object"
      ]
     },
     "execution_count": 49,
     "metadata": {},
     "output_type": "execute_result"
    }
   ],
   "source": [
    "rows = dat_df[0].tail(1)\n",
    "rows"
   ]
  },
  {
   "cell_type": "code",
   "execution_count": 21,
   "metadata": {},
   "outputs": [
    {
     "data": {
      "text/html": [
       "<div>\n",
       "<style scoped>\n",
       "    .dataframe tbody tr th:only-of-type {\n",
       "        vertical-align: middle;\n",
       "    }\n",
       "\n",
       "    .dataframe tbody tr th {\n",
       "        vertical-align: top;\n",
       "    }\n",
       "\n",
       "    .dataframe thead th {\n",
       "        text-align: right;\n",
       "    }\n",
       "</style>\n",
       "<table border=\"1\" class=\"dataframe\">\n",
       "  <thead>\n",
       "    <tr style=\"text-align: right;\">\n",
       "      <th></th>\n",
       "      <th>1</th>\n",
       "    </tr>\n",
       "  </thead>\n",
       "  <tbody>\n",
       "    <tr>\n",
       "      <th>0</th>\n",
       "      <td>2020-04-08</td>\n",
       "    </tr>\n",
       "    <tr>\n",
       "      <th>1</th>\n",
       "      <td>2017-02-07</td>\n",
       "    </tr>\n",
       "    <tr>\n",
       "      <th>2</th>\n",
       "      <td>2017-04-24</td>\n",
       "    </tr>\n",
       "    <tr>\n",
       "      <th>3</th>\n",
       "      <td>2019-12-24</td>\n",
       "    </tr>\n",
       "    <tr>\n",
       "      <th>4</th>\n",
       "      <td>2019-12-16</td>\n",
       "    </tr>\n",
       "    <tr>\n",
       "      <th>5</th>\n",
       "      <td>2020-03-20</td>\n",
       "    </tr>\n",
       "    <tr>\n",
       "      <th>6</th>\n",
       "      <td>2020-12-20</td>\n",
       "    </tr>\n",
       "  </tbody>\n",
       "</table>\n",
       "</div>"
      ],
      "text/plain": [
       "           1\n",
       "0 2020-04-08\n",
       "1 2017-02-07\n",
       "2 2017-04-24\n",
       "3 2019-12-24\n",
       "4 2019-12-16\n",
       "5 2020-03-20\n",
       "6 2020-12-20"
      ]
     },
     "execution_count": 21,
     "metadata": {},
     "output_type": "execute_result"
    }
   ],
   "source": [
    "dat=(dat_df.filter([1]))\n",
    "dat"
   ]
  },
  {
   "cell_type": "code",
   "execution_count": 13,
   "metadata": {},
   "outputs": [
    {
     "data": {
      "text/plain": [
       "datetime.date(2021, 4, 8)"
      ]
     },
     "execution_count": 13,
     "metadata": {},
     "output_type": "execute_result"
    }
   ],
   "source": [
    "from datetime import date\n",
    "from time import time\n",
    "today = date.today()\n",
    "today"
   ]
  },
  {
   "cell_type": "code",
   "execution_count": null,
   "metadata": {},
   "outputs": [],
   "source": [
    "# Import date class from datetime module\n",
    "from datetime import date\n",
    "  \n",
    "  \n",
    "# Returns the current local date\n",
    "today = date.today()\n",
    "print(\"Today date is: \", today)"
   ]
  },
  {
   "cell_type": "code",
   "execution_count": 24,
   "metadata": {},
   "outputs": [
    {
     "data": {
      "text/plain": [
       "datetime.date"
      ]
     },
     "execution_count": 24,
     "metadata": {},
     "output_type": "execute_result"
    }
   ],
   "source": [
    "type(today)"
   ]
  },
  {
   "cell_type": "code",
   "execution_count": 32,
   "metadata": {},
   "outputs": [],
   "source": [
    "dat[1]=pd.to_datetime(dat[1])"
   ]
  },
  {
   "cell_type": "code",
   "execution_count": 36,
   "metadata": {},
   "outputs": [
    {
     "data": {
      "text/plain": [
       "datetime.date(2021, 4, 8)"
      ]
     },
     "execution_count": 36,
     "metadata": {},
     "output_type": "execute_result"
    }
   ],
   "source": [
    "today"
   ]
  },
  {
   "cell_type": "code",
   "execution_count": 46,
   "metadata": {
    "collapsed": true,
    "jupyter": {
     "outputs_hidden": true
    }
   },
   "outputs": [
    {
     "ename": "IndexingError",
     "evalue": "Unalignable boolean Series provided as indexer (index of the boolean Series and of the indexed object do not match).",
     "output_type": "error",
     "traceback": [
      "\u001b[1;31m---------------------------------------------------------------------------\u001b[0m",
      "\u001b[1;31mIndexingError\u001b[0m                             Traceback (most recent call last)",
      "\u001b[1;32m<ipython-input-46-b8b233760c65>\u001b[0m in \u001b[0;36m<module>\u001b[1;34m\u001b[0m\n\u001b[0;32m      1\u001b[0m \u001b[1;32mfrom\u001b[0m \u001b[0mdatetime\u001b[0m \u001b[1;32mimport\u001b[0m \u001b[0mdate\u001b[0m\u001b[1;33m\u001b[0m\u001b[1;33m\u001b[0m\u001b[0m\n\u001b[0;32m      2\u001b[0m \u001b[0mtoday\u001b[0m \u001b[1;33m=\u001b[0m \u001b[0mdate\u001b[0m\u001b[1;33m.\u001b[0m\u001b[0mtoday\u001b[0m\u001b[1;33m(\u001b[0m\u001b[1;33m)\u001b[0m\u001b[1;33m\u001b[0m\u001b[1;33m\u001b[0m\u001b[0m\n\u001b[1;32m----> 3\u001b[1;33m \u001b[0mdat\u001b[0m \u001b[1;33m=\u001b[0m \u001b[0mdat_df\u001b[0m\u001b[1;33m.\u001b[0m\u001b[0mloc\u001b[0m\u001b[1;33m[\u001b[0m\u001b[1;33m(\u001b[0m\u001b[0mdat\u001b[0m\u001b[1;33m[\u001b[0m\u001b[1;36m1\u001b[0m\u001b[1;33m]\u001b[0m \u001b[1;33m==\u001b[0m \u001b[1;34m'2020-04-08'\u001b[0m\u001b[1;33m)\u001b[0m\u001b[1;33m]\u001b[0m\u001b[1;33m\u001b[0m\u001b[1;33m\u001b[0m\u001b[0m\n\u001b[0m\u001b[0;32m      4\u001b[0m \u001b[0mdat\u001b[0m\u001b[1;33m\u001b[0m\u001b[1;33m\u001b[0m\u001b[0m\n",
      "\u001b[1;32m~\\Anaconda3\\envs\\TF220\\lib\\site-packages\\pandas\\core\\indexing.py\u001b[0m in \u001b[0;36m__getitem__\u001b[1;34m(self, key)\u001b[0m\n\u001b[0;32m   1766\u001b[0m \u001b[1;33m\u001b[0m\u001b[0m\n\u001b[0;32m   1767\u001b[0m             \u001b[0mmaybe_callable\u001b[0m \u001b[1;33m=\u001b[0m \u001b[0mcom\u001b[0m\u001b[1;33m.\u001b[0m\u001b[0mapply_if_callable\u001b[0m\u001b[1;33m(\u001b[0m\u001b[0mkey\u001b[0m\u001b[1;33m,\u001b[0m \u001b[0mself\u001b[0m\u001b[1;33m.\u001b[0m\u001b[0mobj\u001b[0m\u001b[1;33m)\u001b[0m\u001b[1;33m\u001b[0m\u001b[1;33m\u001b[0m\u001b[0m\n\u001b[1;32m-> 1768\u001b[1;33m             \u001b[1;32mreturn\u001b[0m \u001b[0mself\u001b[0m\u001b[1;33m.\u001b[0m\u001b[0m_getitem_axis\u001b[0m\u001b[1;33m(\u001b[0m\u001b[0mmaybe_callable\u001b[0m\u001b[1;33m,\u001b[0m \u001b[0maxis\u001b[0m\u001b[1;33m=\u001b[0m\u001b[0maxis\u001b[0m\u001b[1;33m)\u001b[0m\u001b[1;33m\u001b[0m\u001b[1;33m\u001b[0m\u001b[0m\n\u001b[0m\u001b[0;32m   1769\u001b[0m \u001b[1;33m\u001b[0m\u001b[0m\n\u001b[0;32m   1770\u001b[0m     \u001b[1;32mdef\u001b[0m \u001b[0m_is_scalar_access\u001b[0m\u001b[1;33m(\u001b[0m\u001b[0mself\u001b[0m\u001b[1;33m,\u001b[0m \u001b[0mkey\u001b[0m\u001b[1;33m:\u001b[0m \u001b[0mTuple\u001b[0m\u001b[1;33m)\u001b[0m\u001b[1;33m:\u001b[0m\u001b[1;33m\u001b[0m\u001b[1;33m\u001b[0m\u001b[0m\n",
      "\u001b[1;32m~\\Anaconda3\\envs\\TF220\\lib\\site-packages\\pandas\\core\\indexing.py\u001b[0m in \u001b[0;36m_getitem_axis\u001b[1;34m(self, key, axis)\u001b[0m\n\u001b[0;32m   1912\u001b[0m             \u001b[1;32mreturn\u001b[0m \u001b[0mself\u001b[0m\u001b[1;33m.\u001b[0m\u001b[0m_get_slice_axis\u001b[0m\u001b[1;33m(\u001b[0m\u001b[0mkey\u001b[0m\u001b[1;33m,\u001b[0m \u001b[0maxis\u001b[0m\u001b[1;33m=\u001b[0m\u001b[0maxis\u001b[0m\u001b[1;33m)\u001b[0m\u001b[1;33m\u001b[0m\u001b[1;33m\u001b[0m\u001b[0m\n\u001b[0;32m   1913\u001b[0m         \u001b[1;32melif\u001b[0m \u001b[0mcom\u001b[0m\u001b[1;33m.\u001b[0m\u001b[0mis_bool_indexer\u001b[0m\u001b[1;33m(\u001b[0m\u001b[0mkey\u001b[0m\u001b[1;33m)\u001b[0m\u001b[1;33m:\u001b[0m\u001b[1;33m\u001b[0m\u001b[1;33m\u001b[0m\u001b[0m\n\u001b[1;32m-> 1914\u001b[1;33m             \u001b[1;32mreturn\u001b[0m \u001b[0mself\u001b[0m\u001b[1;33m.\u001b[0m\u001b[0m_getbool_axis\u001b[0m\u001b[1;33m(\u001b[0m\u001b[0mkey\u001b[0m\u001b[1;33m,\u001b[0m \u001b[0maxis\u001b[0m\u001b[1;33m=\u001b[0m\u001b[0maxis\u001b[0m\u001b[1;33m)\u001b[0m\u001b[1;33m\u001b[0m\u001b[1;33m\u001b[0m\u001b[0m\n\u001b[0m\u001b[0;32m   1915\u001b[0m         \u001b[1;32melif\u001b[0m \u001b[0mis_list_like_indexer\u001b[0m\u001b[1;33m(\u001b[0m\u001b[0mkey\u001b[0m\u001b[1;33m)\u001b[0m\u001b[1;33m:\u001b[0m\u001b[1;33m\u001b[0m\u001b[1;33m\u001b[0m\u001b[0m\n\u001b[0;32m   1916\u001b[0m \u001b[1;33m\u001b[0m\u001b[0m\n",
      "\u001b[1;32m~\\Anaconda3\\envs\\TF220\\lib\\site-packages\\pandas\\core\\indexing.py\u001b[0m in \u001b[0;36m_getbool_axis\u001b[1;34m(self, key, axis)\u001b[0m\n\u001b[0;32m   1780\u001b[0m         \u001b[1;31m# caller is responsible for ensuring non-None axis\u001b[0m\u001b[1;33m\u001b[0m\u001b[1;33m\u001b[0m\u001b[1;33m\u001b[0m\u001b[0m\n\u001b[0;32m   1781\u001b[0m         \u001b[0mlabels\u001b[0m \u001b[1;33m=\u001b[0m \u001b[0mself\u001b[0m\u001b[1;33m.\u001b[0m\u001b[0mobj\u001b[0m\u001b[1;33m.\u001b[0m\u001b[0m_get_axis\u001b[0m\u001b[1;33m(\u001b[0m\u001b[0maxis\u001b[0m\u001b[1;33m)\u001b[0m\u001b[1;33m\u001b[0m\u001b[1;33m\u001b[0m\u001b[0m\n\u001b[1;32m-> 1782\u001b[1;33m         \u001b[0mkey\u001b[0m \u001b[1;33m=\u001b[0m \u001b[0mcheck_bool_indexer\u001b[0m\u001b[1;33m(\u001b[0m\u001b[0mlabels\u001b[0m\u001b[1;33m,\u001b[0m \u001b[0mkey\u001b[0m\u001b[1;33m)\u001b[0m\u001b[1;33m\u001b[0m\u001b[1;33m\u001b[0m\u001b[0m\n\u001b[0m\u001b[0;32m   1783\u001b[0m         \u001b[0minds\u001b[0m \u001b[1;33m=\u001b[0m \u001b[0mkey\u001b[0m\u001b[1;33m.\u001b[0m\u001b[0mnonzero\u001b[0m\u001b[1;33m(\u001b[0m\u001b[1;33m)\u001b[0m\u001b[1;33m[\u001b[0m\u001b[1;36m0\u001b[0m\u001b[1;33m]\u001b[0m\u001b[1;33m\u001b[0m\u001b[1;33m\u001b[0m\u001b[0m\n\u001b[0;32m   1784\u001b[0m         \u001b[1;32mreturn\u001b[0m \u001b[0mself\u001b[0m\u001b[1;33m.\u001b[0m\u001b[0mobj\u001b[0m\u001b[1;33m.\u001b[0m\u001b[0m_take_with_is_copy\u001b[0m\u001b[1;33m(\u001b[0m\u001b[0minds\u001b[0m\u001b[1;33m,\u001b[0m \u001b[0maxis\u001b[0m\u001b[1;33m=\u001b[0m\u001b[0maxis\u001b[0m\u001b[1;33m)\u001b[0m\u001b[1;33m\u001b[0m\u001b[1;33m\u001b[0m\u001b[0m\n",
      "\u001b[1;32m~\\Anaconda3\\envs\\TF220\\lib\\site-packages\\pandas\\core\\indexing.py\u001b[0m in \u001b[0;36mcheck_bool_indexer\u001b[1;34m(index, key)\u001b[0m\n\u001b[0;32m   2316\u001b[0m         \u001b[1;32mif\u001b[0m \u001b[0mmask\u001b[0m\u001b[1;33m.\u001b[0m\u001b[0many\u001b[0m\u001b[1;33m(\u001b[0m\u001b[1;33m)\u001b[0m\u001b[1;33m:\u001b[0m\u001b[1;33m\u001b[0m\u001b[1;33m\u001b[0m\u001b[0m\n\u001b[0;32m   2317\u001b[0m             raise IndexingError(\n\u001b[1;32m-> 2318\u001b[1;33m                 \u001b[1;34m\"Unalignable boolean Series provided as \"\u001b[0m\u001b[1;33m\u001b[0m\u001b[1;33m\u001b[0m\u001b[0m\n\u001b[0m\u001b[0;32m   2319\u001b[0m                 \u001b[1;34m\"indexer (index of the boolean Series and of \"\u001b[0m\u001b[1;33m\u001b[0m\u001b[1;33m\u001b[0m\u001b[0m\n\u001b[0;32m   2320\u001b[0m                 \u001b[1;34m\"the indexed object do not match).\"\u001b[0m\u001b[1;33m\u001b[0m\u001b[1;33m\u001b[0m\u001b[0m\n",
      "\u001b[1;31mIndexingError\u001b[0m: Unalignable boolean Series provided as indexer (index of the boolean Series and of the indexed object do not match)."
     ]
    }
   ],
   "source": [
    "from datetime import date\n",
    "today = date.today()\n",
    "dat = dat_df.loc[(dat[1] == '2020-04-08')]\n",
    "dat"
   ]
  },
  {
   "cell_type": "code",
   "execution_count": 70,
   "metadata": {},
   "outputs": [
    {
     "data": {
      "text/plain": [
       "Timestamp('2020-04-07 00:00:00')"
      ]
     },
     "execution_count": 70,
     "metadata": {},
     "output_type": "execute_result"
    }
   ],
   "source": [
    "dat_df[1][0]"
   ]
  },
  {
   "cell_type": "code",
   "execution_count": 71,
   "metadata": {},
   "outputs": [
    {
     "name": "stdout",
     "output_type": "stream",
     "text": [
      "2020-12-20 00:00:00\n"
     ]
    }
   ],
   "source": [
    "dat_df[1] = pd.to_datetime(dat_df[1])\n",
    "\n",
    "print(dat_df[1].max())"
   ]
  },
  {
   "cell_type": "code",
   "execution_count": 29,
   "metadata": {
    "collapsed": true,
    "jupyter": {
     "outputs_hidden": true
    }
   },
   "outputs": [
    {
     "ename": "TypeError",
     "evalue": "Parser must be a string or character stream, not list",
     "output_type": "error",
     "traceback": [
      "\u001b[1;31m---------------------------------------------------------------------------\u001b[0m",
      "\u001b[1;31mTypeError\u001b[0m                                 Traceback (most recent call last)",
      "\u001b[1;32m<ipython-input-29-c0379878c3fb>\u001b[0m in \u001b[0;36m<module>\u001b[1;34m\u001b[0m\n\u001b[0;32m      1\u001b[0m \u001b[1;32mfrom\u001b[0m \u001b[0mdateutil\u001b[0m\u001b[1;33m.\u001b[0m\u001b[0mparser\u001b[0m \u001b[1;32mimport\u001b[0m \u001b[0mparse\u001b[0m\u001b[1;33m\u001b[0m\u001b[1;33m\u001b[0m\u001b[0m\n\u001b[1;32m----> 2\u001b[1;33m \u001b[0mparse\u001b[0m\u001b[1;33m(\u001b[0m\u001b[0ma\u001b[0m\u001b[1;33m,\u001b[0m \u001b[0mfuzzy_with_tokens\u001b[0m\u001b[1;33m=\u001b[0m\u001b[1;32mTrue\u001b[0m\u001b[1;33m)\u001b[0m\u001b[1;33m\u001b[0m\u001b[1;33m\u001b[0m\u001b[0m\n\u001b[0m",
      "\u001b[1;32m~\\Anaconda3\\envs\\TF220\\lib\\site-packages\\dateutil\\parser\\_parser.py\u001b[0m in \u001b[0;36mparse\u001b[1;34m(timestr, parserinfo, **kwargs)\u001b[0m\n\u001b[0;32m   1372\u001b[0m         \u001b[1;32mreturn\u001b[0m \u001b[0mparser\u001b[0m\u001b[1;33m(\u001b[0m\u001b[0mparserinfo\u001b[0m\u001b[1;33m)\u001b[0m\u001b[1;33m.\u001b[0m\u001b[0mparse\u001b[0m\u001b[1;33m(\u001b[0m\u001b[0mtimestr\u001b[0m\u001b[1;33m,\u001b[0m \u001b[1;33m**\u001b[0m\u001b[0mkwargs\u001b[0m\u001b[1;33m)\u001b[0m\u001b[1;33m\u001b[0m\u001b[1;33m\u001b[0m\u001b[0m\n\u001b[0;32m   1373\u001b[0m     \u001b[1;32melse\u001b[0m\u001b[1;33m:\u001b[0m\u001b[1;33m\u001b[0m\u001b[1;33m\u001b[0m\u001b[0m\n\u001b[1;32m-> 1374\u001b[1;33m         \u001b[1;32mreturn\u001b[0m \u001b[0mDEFAULTPARSER\u001b[0m\u001b[1;33m.\u001b[0m\u001b[0mparse\u001b[0m\u001b[1;33m(\u001b[0m\u001b[0mtimestr\u001b[0m\u001b[1;33m,\u001b[0m \u001b[1;33m**\u001b[0m\u001b[0mkwargs\u001b[0m\u001b[1;33m)\u001b[0m\u001b[1;33m\u001b[0m\u001b[1;33m\u001b[0m\u001b[0m\n\u001b[0m\u001b[0;32m   1375\u001b[0m \u001b[1;33m\u001b[0m\u001b[0m\n\u001b[0;32m   1376\u001b[0m \u001b[1;33m\u001b[0m\u001b[0m\n",
      "\u001b[1;32m~\\Anaconda3\\envs\\TF220\\lib\\site-packages\\dateutil\\parser\\_parser.py\u001b[0m in \u001b[0;36mparse\u001b[1;34m(self, timestr, default, ignoretz, tzinfos, **kwargs)\u001b[0m\n\u001b[0;32m    644\u001b[0m                                                       second=0, microsecond=0)\n\u001b[0;32m    645\u001b[0m \u001b[1;33m\u001b[0m\u001b[0m\n\u001b[1;32m--> 646\u001b[1;33m         \u001b[0mres\u001b[0m\u001b[1;33m,\u001b[0m \u001b[0mskipped_tokens\u001b[0m \u001b[1;33m=\u001b[0m \u001b[0mself\u001b[0m\u001b[1;33m.\u001b[0m\u001b[0m_parse\u001b[0m\u001b[1;33m(\u001b[0m\u001b[0mtimestr\u001b[0m\u001b[1;33m,\u001b[0m \u001b[1;33m**\u001b[0m\u001b[0mkwargs\u001b[0m\u001b[1;33m)\u001b[0m\u001b[1;33m\u001b[0m\u001b[1;33m\u001b[0m\u001b[0m\n\u001b[0m\u001b[0;32m    647\u001b[0m \u001b[1;33m\u001b[0m\u001b[0m\n\u001b[0;32m    648\u001b[0m         \u001b[1;32mif\u001b[0m \u001b[0mres\u001b[0m \u001b[1;32mis\u001b[0m \u001b[1;32mNone\u001b[0m\u001b[1;33m:\u001b[0m\u001b[1;33m\u001b[0m\u001b[1;33m\u001b[0m\u001b[0m\n",
      "\u001b[1;32m~\\Anaconda3\\envs\\TF220\\lib\\site-packages\\dateutil\\parser\\_parser.py\u001b[0m in \u001b[0;36m_parse\u001b[1;34m(self, timestr, dayfirst, yearfirst, fuzzy, fuzzy_with_tokens)\u001b[0m\n\u001b[0;32m    723\u001b[0m \u001b[1;33m\u001b[0m\u001b[0m\n\u001b[0;32m    724\u001b[0m         \u001b[0mres\u001b[0m \u001b[1;33m=\u001b[0m \u001b[0mself\u001b[0m\u001b[1;33m.\u001b[0m\u001b[0m_result\u001b[0m\u001b[1;33m(\u001b[0m\u001b[1;33m)\u001b[0m\u001b[1;33m\u001b[0m\u001b[1;33m\u001b[0m\u001b[0m\n\u001b[1;32m--> 725\u001b[1;33m         \u001b[0ml\u001b[0m \u001b[1;33m=\u001b[0m \u001b[0m_timelex\u001b[0m\u001b[1;33m.\u001b[0m\u001b[0msplit\u001b[0m\u001b[1;33m(\u001b[0m\u001b[0mtimestr\u001b[0m\u001b[1;33m)\u001b[0m         \u001b[1;31m# Splits the timestr into tokens\u001b[0m\u001b[1;33m\u001b[0m\u001b[1;33m\u001b[0m\u001b[0m\n\u001b[0m\u001b[0;32m    726\u001b[0m \u001b[1;33m\u001b[0m\u001b[0m\n\u001b[0;32m    727\u001b[0m         \u001b[0mskipped_idxs\u001b[0m \u001b[1;33m=\u001b[0m \u001b[1;33m[\u001b[0m\u001b[1;33m]\u001b[0m\u001b[1;33m\u001b[0m\u001b[1;33m\u001b[0m\u001b[0m\n",
      "\u001b[1;32m~\\Anaconda3\\envs\\TF220\\lib\\site-packages\\dateutil\\parser\\_parser.py\u001b[0m in \u001b[0;36msplit\u001b[1;34m(cls, s)\u001b[0m\n\u001b[0;32m    205\u001b[0m     \u001b[1;33m@\u001b[0m\u001b[0mclassmethod\u001b[0m\u001b[1;33m\u001b[0m\u001b[1;33m\u001b[0m\u001b[0m\n\u001b[0;32m    206\u001b[0m     \u001b[1;32mdef\u001b[0m \u001b[0msplit\u001b[0m\u001b[1;33m(\u001b[0m\u001b[0mcls\u001b[0m\u001b[1;33m,\u001b[0m \u001b[0ms\u001b[0m\u001b[1;33m)\u001b[0m\u001b[1;33m:\u001b[0m\u001b[1;33m\u001b[0m\u001b[1;33m\u001b[0m\u001b[0m\n\u001b[1;32m--> 207\u001b[1;33m         \u001b[1;32mreturn\u001b[0m \u001b[0mlist\u001b[0m\u001b[1;33m(\u001b[0m\u001b[0mcls\u001b[0m\u001b[1;33m(\u001b[0m\u001b[0ms\u001b[0m\u001b[1;33m)\u001b[0m\u001b[1;33m)\u001b[0m\u001b[1;33m\u001b[0m\u001b[1;33m\u001b[0m\u001b[0m\n\u001b[0m\u001b[0;32m    208\u001b[0m \u001b[1;33m\u001b[0m\u001b[0m\n\u001b[0;32m    209\u001b[0m     \u001b[1;33m@\u001b[0m\u001b[0mclassmethod\u001b[0m\u001b[1;33m\u001b[0m\u001b[1;33m\u001b[0m\u001b[0m\n",
      "\u001b[1;32m~\\Anaconda3\\envs\\TF220\\lib\\site-packages\\dateutil\\parser\\_parser.py\u001b[0m in \u001b[0;36m__init__\u001b[1;34m(self, instream)\u001b[0m\n\u001b[0;32m     74\u001b[0m         \u001b[1;32melif\u001b[0m \u001b[0mgetattr\u001b[0m\u001b[1;33m(\u001b[0m\u001b[0minstream\u001b[0m\u001b[1;33m,\u001b[0m \u001b[1;34m'read'\u001b[0m\u001b[1;33m,\u001b[0m \u001b[1;32mNone\u001b[0m\u001b[1;33m)\u001b[0m \u001b[1;32mis\u001b[0m \u001b[1;32mNone\u001b[0m\u001b[1;33m:\u001b[0m\u001b[1;33m\u001b[0m\u001b[1;33m\u001b[0m\u001b[0m\n\u001b[0;32m     75\u001b[0m             raise TypeError('Parser must be a string or character stream, not '\n\u001b[1;32m---> 76\u001b[1;33m                             '{itype}'.format(itype=instream.__class__.__name__))\n\u001b[0m\u001b[0;32m     77\u001b[0m \u001b[1;33m\u001b[0m\u001b[0m\n\u001b[0;32m     78\u001b[0m         \u001b[0mself\u001b[0m\u001b[1;33m.\u001b[0m\u001b[0minstream\u001b[0m \u001b[1;33m=\u001b[0m \u001b[0minstream\u001b[0m\u001b[1;33m\u001b[0m\u001b[1;33m\u001b[0m\u001b[0m\n",
      "\u001b[1;31mTypeError\u001b[0m: Parser must be a string or character stream, not list"
     ]
    }
   ],
   "source": [
    "from dateutil.parser import parse\n",
    "parse(a, fuzzy_with_tokens=True)"
   ]
  },
  {
   "cell_type": "code",
   "execution_count": 61,
   "metadata": {
    "collapsed": true,
    "jupyter": {
     "outputs_hidden": true
    }
   },
   "outputs": [
    {
     "ename": "ModuleNotFoundError",
     "evalue": "No module named 'dateparser'",
     "output_type": "error",
     "traceback": [
      "\u001b[1;31m---------------------------------------------------------------------------\u001b[0m",
      "\u001b[1;31mModuleNotFoundError\u001b[0m                       Traceback (most recent call last)",
      "\u001b[1;32m<ipython-input-61-4a41d44d05ff>\u001b[0m in \u001b[0;36m<module>\u001b[1;34m\u001b[0m\n\u001b[1;32m----> 1\u001b[1;33m \u001b[1;32mfrom\u001b[0m \u001b[0mdateparser\u001b[0m\u001b[1;33m.\u001b[0m\u001b[0msearch\u001b[0m \u001b[1;32mimport\u001b[0m \u001b[0msearch_dates\u001b[0m\u001b[1;33m\u001b[0m\u001b[1;33m\u001b[0m\u001b[0m\n\u001b[0m\u001b[0;32m      2\u001b[0m \u001b[0msearch_dates\u001b[0m\u001b[1;33m(\u001b[0m\u001b[1;34m\"Today is December 1, 2018\"\u001b[0m\u001b[1;33m)\u001b[0m\u001b[1;33m\u001b[0m\u001b[1;33m\u001b[0m\u001b[0m\n",
      "\u001b[1;31mModuleNotFoundError\u001b[0m: No module named 'dateparser'"
     ]
    }
   ],
   "source": [
    "from dateparser.search import search_dates\n",
    "search_dates(\"Today is December 1, 2018\")"
   ]
  },
  {
   "cell_type": "code",
   "execution_count": 1,
   "metadata": {},
   "outputs": [
    {
     "name": "stdin",
     "output_type": "stream",
     "text": [
      "Hi! I like cheese! Do you like cheese? yes\n"
     ]
    },
    {
     "name": "stdout",
     "output_type": "stream",
     "text": [
      "That's awesome!\n"
     ]
    }
   ],
   "source": [
    "def like_cheese():\n",
    "    var = input(\"Hi! I like cheese! Do you like cheese?\").lower()  # Corrected the call to `.lower`.\n",
    "    if var == \"yes\":\n",
    "        print(\"That's awesome!\")\n",
    "    else:\n",
    "        print('Dont like')\n",
    "\n",
    "#while True:\n",
    "like_cheese()\n"
   ]
  },
  {
   "cell_type": "code",
   "execution_count": null,
   "metadata": {},
   "outputs": [],
   "source": []
  },
  {
   "cell_type": "code",
   "execution_count": null,
   "metadata": {},
   "outputs": [],
   "source": []
  },
  {
   "cell_type": "code",
   "execution_count": null,
   "metadata": {},
   "outputs": [],
   "source": [
    "a='declaration of conformity 2021, declatat 2019'"
   ]
  },
  {
   "cell_type": "code",
   "execution_count": null,
   "metadata": {},
   "outputs": [],
   "source": [
    "b=re.findall(r'(\\w+)',a)\n",
    "b"
   ]
  },
  {
   "cell_type": "code",
   "execution_count": null,
   "metadata": {},
   "outputs": [],
   "source": [
    "result = [e for e in re.split(\"[^0-9]\", a) if e != '']\n",
    "\n",
    "# list 'result' elements are strings: ['3', '17', '14'], so we use map(int, list) to get integers\n",
    "print (max(map(int, result)))"
   ]
  },
  {
   "cell_type": "code",
   "execution_count": 2,
   "metadata": {},
   "outputs": [
    {
     "name": "stdout",
     "output_type": "stream",
     "text": [
      "564\n"
     ]
    }
   ],
   "source": [
    "import re\n",
    "\n",
    "def extractMax(input):\n",
    "\tnumbers = re.findall('\\d+',input)\n",
    "\tnumbers = map(int,numbers)\n",
    "\n",
    "\tprint( max(numbers))\n",
    "\n",
    "if __name__ == \"__main__\":\n",
    "\tinput = '100klh564abc365bg'\n",
    "\textractMax(input)\n"
   ]
  },
  {
   "cell_type": "code",
   "execution_count": null,
   "metadata": {},
   "outputs": [],
   "source": [
    "input = 'dfg41g4d2457gf4'\n",
    "extractMax(input)"
   ]
  },
  {
   "cell_type": "code",
   "execution_count": 21,
   "metadata": {
    "collapsed": true,
    "jupyter": {
     "outputs_hidden": true
    }
   },
   "outputs": [
    {
     "name": "stdout",
     "output_type": "stream",
     "text": [
      "/en\n",
      "https://twitter.com/intent/follow?original_referer=http%3A%2F%2Fwww.corporate-governance-code.de%2F®ion=follow_link&screen_name=CorpGovKodex&tw_p=followbutton&variant=2.0\n",
      "en/declarations-of-compliance.html#skipNavigation21\n",
      "en/home.html\n",
      "en/commission.html\n",
      "en/kommission-33/die-kommission-im-dialog.html\n",
      "en/kommission-33/members.html\n",
      "en/kommission-33/office.html\n",
      "en/commission/former-members.html\n",
      "en/code.html\n",
      "en/code//foreword.html\n",
      "en/code//foreword.html\n",
      "en/code/current-version/a-management-and-supervision.html\n",
      "en/code/current-version/b-appointments-to-the-management-board.html\n",
      "en/code/current-version/c-composition-of-the-supervisory-board.html\n",
      "en/code/current-version/d-supervisory-board-procedures.html\n",
      "en/code/current-version/e-conflicts-of-interest.html\n",
      "en/code/current-version/f-transparency-and-external-reporting.html\n",
      "en/code/current-version/g-remuneration-of-management-board-and-supervisory-board.html\n",
      "https://www.dcgk.de//files/dcgk/usercontent/en/download/code/191216_German_Corporate_Governance_Code.pdf\n",
      "https://www.dcgk.de//files/dcgk/usercontent/en/download/code/191216_Rationale_GCGC.pdf\n",
      "en/code/archive.html\n",
      "en/consultations/current-consultations.html\n",
      "en/consultations/current-consultations.html\n",
      "en/consultations/archive/consultation-2018/19.html\n",
      "en/consultations/archive/consultation-2018/19.html\n",
      "en/consultations/archive/consultation-2016.html\n",
      "en/press.html\n",
      "en/contact.html\n",
      "None\n",
      "en/declarations-of-compliance.html#skipNavigation2\n",
      "en/home.html\n",
      "en/commission.html\n",
      "en/code.html\n",
      "en/consultations/current-consultations.html\n",
      "en/press.html\n",
      "en/contact.html\n",
      "None\n",
      "de/entsprechenserklaerungen.html\n",
      "None\n",
      "en/declarations-of-compliance.html#dax30-A\n",
      "en/declarations-of-compliance.html#dax30-B\n",
      "en/declarations-of-compliance.html#dax30-C\n",
      "en/declarations-of-compliance.html#dax30-D\n",
      "en/declarations-of-compliance.html#dax30-E\n",
      "en/declarations-of-compliance.html#dax30-F\n",
      "en/declarations-of-compliance.html#dax30-H\n",
      "en/declarations-of-compliance.html#dax30-I\n",
      "en/declarations-of-compliance.html#dax30-L\n",
      "en/declarations-of-compliance.html#dax30-M\n",
      "en/declarations-of-compliance.html#dax30-R\n",
      "en/declarations-of-compliance.html#dax30-S\n",
      "en/declarations-of-compliance.html#dax30-V\n",
      "None\n",
      "en/declarations-of-compliance.html#mdax-A\n",
      "en/declarations-of-compliance.html#mdax-B\n",
      "en/declarations-of-compliance.html#mdax-C\n",
      "en/declarations-of-compliance.html#mdax-D\n",
      "en/declarations-of-compliance.html#mdax-E\n",
      "en/declarations-of-compliance.html#mdax-F\n",
      "en/declarations-of-compliance.html#mdax-G\n",
      "en/declarations-of-compliance.html#mdax-H\n",
      "en/declarations-of-compliance.html#mdax-K\n",
      "en/declarations-of-compliance.html#mdax-L\n",
      "en/declarations-of-compliance.html#mdax-M\n",
      "en/declarations-of-compliance.html#mdax-N\n",
      "en/declarations-of-compliance.html#mdax-O\n",
      "en/declarations-of-compliance.html#mdax-P\n",
      "en/declarations-of-compliance.html#mdax-Q\n",
      "en/declarations-of-compliance.html#mdax-R\n",
      "en/declarations-of-compliance.html#mdax-S\n",
      "en/declarations-of-compliance.html#mdax-T\n",
      "en/declarations-of-compliance.html#mdax-U\n",
      "en/declarations-of-compliance.html#mdax-V\n",
      "en/declarations-of-compliance.html#mdax-W\n",
      "en/declarations-of-compliance.html#mdax-Z\n",
      "None\n",
      "en/declarations-of-compliance.html#dax30-selector\n",
      "http://www.adidas-group.com/en/investors/corporate-governance/declaration-compliance/\n",
      "https://www.allianz.com/en/about_us/management/corporate-governance/declaration-of-conformity/\n",
      "None\n",
      "en/declarations-of-compliance.html#dax30-selector\n",
      "https://www.basf.com/global/en/investors/basf-at-a-glance/corporate-governance/declarations.html\n",
      "http://www.bayer.com/en/Corporate-Governance.aspx\n",
      "https://www.bmwgroup.com/en/company/company-portrait.html\n",
      "None\n",
      "en/declarations-of-compliance.html#dax30-selector\n",
      "https://www.continental-corporation.com/en/company/corporate-governance/principles-and-declarations/corporate-governance-principles-13402\n",
      "https://www.covestro.com/en/company/management/corporate-governance\n",
      "None\n",
      "en/declarations-of-compliance.html#dax30-selector\n",
      "https://www.daimler.com/company/corporate-governance/declarations/\n",
      "https://ir.deliveryhero.com/websites/delivery/English/4500/declaration-of-compliance.html\n",
      "https://www.db.com/ir/en/documents.htm\n",
      "http://deutsche-boerse.com/dbg/dispatch/en/kir/dbg_nav/investor_relations/15_Corporate_Governance/50_Declaration_of_Conformity\n",
      "http://www.dpdhl.com/en/investors/corporate_governance/declaration_of_conformity.html\n",
      "http://www.telekom.com/declaration-of-conformity\n",
      "https://ir.deutsche-wohnen.com/websites/dewohnen/English/4400/declaration-of-compliance.html\n",
      "None\n",
      "en/declarations-of-compliance.html#dax30-selector\n",
      "https://www.eon.com/en/about-us/corporate-governance/declaration-of-compliance.html\n",
      "None\n",
      "en/declarations-of-compliance.html#dax30-selector\n",
      "http://www.freseniusmedicalcare.com/en/investors/corporate-governance/declaration-of-compliance/\n",
      "https://www.fresenius.com/corporate-governance\n",
      "None\n",
      "en/declarations-of-compliance.html#dax30-selector\n",
      "https://www.heidelbergcement.com/en/declaration-of-corporate-governance\n",
      "https://www.henkel.com/investors-and-analysts/corporate-governance#Tab-35912_1\n",
      "None\n",
      "en/declarations-of-compliance.html#dax30-selector\n",
      "https://www.infineon.com/cms/en/about-infineon/investor/corporate-governance/\n",
      "None\n",
      "en/declarations-of-compliance.html#dax30-selector\n",
      "https://www.linde.com/about-linde/corporate-governance\n",
      "None\n",
      "en/declarations-of-compliance.html#dax30-selector\n",
      "https://www.merckgroup.com/en/investors/corporate-governance/reports.html\n",
      "https://www.mtu.de/investor-relations/corporate-governance/compliance-statement/\n",
      "https://www.munichre.com/en/company/about-munich-re/corporate-governance/declarations-of-conformity-with-gcgc-dcgk.html\n",
      "None\n",
      "en/declarations-of-compliance.html#dax30-selector\n",
      "https://www.group.rwe/en/investor-relations/corporate-governance/statement-of-compliance\n",
      "None\n",
      "en/declarations-of-compliance.html#dax30-selector\n",
      "https://www.sap.com/investors/en/governance.html\n",
      "https://new.siemens.com/global/en/company/investor-relations/corporate-governance.html#GermanCorporateGovernanceCode\n",
      "https://www.siemens-energy.com/global/en/company/investor-relations/corporate-governance.html#GermanCorporateGovernanceCode\n",
      "None\n",
      "en/declarations-of-compliance.html#dax30-selector\n",
      "http://www.volkswagenag.com/en/InvestorRelations/corporate-governance/declaration-of-conformity.html\n",
      "https://investoren.vonovia.de/websites/vonovia/English/7025/declaration-of-conformity.html\n",
      "None\n",
      "en/declarations-of-compliance.html#mdax-selector\n",
      "https://www.aareal-bank.com/en/about-us/corporate-governance/declaration-of-compliance/\n",
      "https://www.airbus.com/company/corporate-governance.html\n",
      "https://www.aixtron.com/en/investors/corporate-governance/principles\n",
      "https://alstria.com/company/\n",
      "https://www.aroundtown.de/investor-relations/corporate-governance/\n",
      "https://www.aurubis.com/en/about-aurubis/distribution-page-corporate-governance\n",
      "None\n",
      "en/declarations-of-compliance.html#mdax-selector\n",
      "https://www.bechtle.com/de-en/about-bechtle/investors/corporate-governance\n",
      "https://www.beiersdorf.com/investors/corporate-governance/declaration-of-compliance\n",
      "https://www.brenntag.com/corporate/en/investor-relations/corporate-governance/compliance-statement/\n",
      "None\n",
      "en/declarations-of-compliance.html#mdax-selector\n",
      "https://www.cancom.com/corporate-governance/?_ga=2.50171822.908792205.1610362483-416397059.1610362483\n",
      "https://www.zeiss.com/meditec-ag/investor-relations/declaration-on-corporate-management.html\n",
      "https://www.commerzbank.de/en/hauptnavigation/aktionaere/governance_/corporate_governace_1.html\n",
      "https://www.cgm.com/corp/ueber_uns_1/investor_relations/coporate_governance/entsprechungserklaerung/entsprechenserklaerung.en.jsp\n",
      "https://corporate.eventim.de/en/investor-relations/corporate-governance/\n",
      "None\n",
      "en/declarations-of-compliance.html#mdax-selector\n",
      "https://investor-relations.lufthansagroup.com/en/corporate-governance/corporate-governance-declaration-section-289f-hgb/declaration-of-compliance-section-161-aktg.html\n",
      "https://www.durr-group.com/en/investor-relations/corporate-governance/declaration-on-corporate-governance/\n",
      "None\n",
      "en/declarations-of-compliance.html#mdax-selector\n",
      "https://corporate.evonik.de/en/investor-relations/corporate-governance/german-corporate-governance-code\n",
      "https://www.evotec.com/en/invest/corporate-governance\n",
      "None\n",
      "en/declarations-of-compliance.html#mdax-selector\n",
      "https://www.fraport.com/en/investors/corporate-governance.html\n",
      "https://www.freenet-group.de/investor/corporate-governance/index.html\n",
      "https://www.fuchs.com/group/the-company/corporate-governance/articles-of-association-and-declaration-of-compliance/\n",
      "None\n",
      "en/declarations-of-compliance.html#mdax-selector\n",
      "http://www.gea.com/en/investor-relations/corporate-governance/statement-of-the-board/index.jsp\n",
      "https://www.gerresheimer.com/en/investor-relations/corporate-governance/statements-of-compliance.html\n",
      "https://www.grandcityproperties.com/about-us/corporate-governance/\n",
      "None\n",
      "en/declarations-of-compliance.html#mdax-selector\n",
      "https://www.hannover-re.com/200801/declaration-of-conformity\n",
      "http://www.hella.com/hella-com/en/Declaration-of-Conformity-10446.html\n",
      "https://ir.hellofreshgroup.com/websites/hellofresh/English/4000/corporate-governance.html\n",
      "http://www.hochtief.com/hochtief_en/172.jhtml\n",
      "https://group.hugoboss.com/en/company/corporate-governance/declaration-of-compliance/\n",
      "None\n",
      "en/declarations-of-compliance.html#mdax-selector\n",
      "https://www.kpluss.com/en-us/about-ks/governance/index.html\n",
      "https://www.kiongroup.com/en/About-us/Management/\n",
      "https://ir.knorr-bremse.com/websites/Knorrbremse_ir/English/7000/corporate-governance.html\n",
      "None\n",
      "en/declarations-of-compliance.html#mdax-selector\n",
      "https://lanxess.com/en/Investors/Corporate-Governance\n",
      "https://www.leg-wohnen.de/en/corporation/investor-relations/corporate-governance/corporate-governance-codex-compliance-statement/\n",
      "None\n",
      "en/declarations-of-compliance.html#mdax-selector\n",
      "https://www.metroag.de/en/company/corporate-governance\n",
      "https://www.morphosys.com/media-and-investors/corporate-governance\n",
      "None\n",
      "en/declarations-of-compliance.html#mdax-selector\n",
      "https://ir.nemetschek.com/websites/nemetschek/English/5100/declaration-of-conformity.html\n",
      "None\n",
      "en/declarations-of-compliance.html#mdax-selector\n",
      "https://www.osram-group.com/en/our-company/our-management/corporate-governance\n",
      "None\n",
      "en/declarations-of-compliance.html#mdax-selector\n",
      "https://www.prosiebensat1.de/en/investor-relations/corporate-governance/management-declaration\n",
      "https://about.puma.com/en/investor-relations/corporate-governance\n",
      "None\n",
      "en/declarations-of-compliance.html#mdax-selector\n",
      "https://corporate.qiagen.com/investor-relations/corporate-governance/governance-codes#govcodes_o=Report Release Date,Descending\n",
      "None\n",
      "en/declarations-of-compliance.html#mdax-selector\n",
      "https://www.rational-online.com/en_gb/company/investor-relations/corporate-governance/index.php\n",
      "https://www.rheinmetall.com/en/rheinmetall_ag/group/corporategovernance_4/entsprechenserklaerung_2/index.php\n",
      "None\n",
      "en/declarations-of-compliance.html#mdax-selector\n",
      "https://www.sartorius.com/en/company/about-sartorius-ag/compliance\n",
      "https://www.scout24.com/en/Investor-Relations/Corporate-Governance.aspx\n",
      "https://shop-apotheke-europe.com/en/investorrelations/governance/\n",
      "https://www.corporate.siemens-healthineers.com/investor-relations/corporate-governance\n",
      "https://www.siltronic.com/en/investors/corporate-governance.html\n",
      "https://investors.softwareag.com/en/corporate-governance/compliance-declaration\n",
      "http://ir.stroeer.com/websites/stroeer/English/6200/declaration-of-compliance.html\n",
      "http://www.symrise.com/investors/corporate-governance/declaration-of-compliance/\n",
      "None\n",
      "en/declarations-of-compliance.html#mdax-selector\n",
      "http://www.tag-ag.com/en/investor-relations/corporate-governance/declaration-of-conformity\n",
      "https://ir.teamviewer.com/websites/teamviewer/English/40/corporate-governance.html\n",
      "https://www.telefonica.de/investor-relations-en/corporate-governance/declarations-and-articles.html\n",
      "https://www.thyssenkrupp.com/en/company/management/corporate-governance/declaration-of-conformity.html\n",
      "None\n",
      "en/declarations-of-compliance.html#mdax-selector\n",
      "https://ir.uniper.energy/websites/uniper/English/6500/corporate-governance-policy.html\n",
      "https://www.united-internet.de/en/investor-relations/corporate-governance.html\n",
      "None\n",
      "en/declarations-of-compliance.html#mdax-selector\n",
      "https://www.varta-ag.com/en/investor-relations/corporate-governance\n",
      "None\n",
      "en/declarations-of-compliance.html#mdax-selector\n",
      "https://www.wacker.com/cms/en-de/about-wacker/investor-relations/corporate-governance/declaration-of-conformity.html\n",
      "None\n",
      "en/declarations-of-compliance.html#mdax-selector\n",
      "https://corporate.zalando.com/en/company/corporate-governance\n",
      "en/declarations-of-compliance.html\n",
      "mailto:regierungskommission@dcgk.de\n",
      "en/imprint.html\n",
      "en/privacy.html\n",
      "en/privacy.html\n"
     ]
    }
   ],
   "source": [
    "import requests\n",
    "from bs4 import BeautifulSoup\n",
    "url = 'https://www.dcgk.de/en/declarations-of-compliance.html'\n",
    "reqs = requests.get(url)\n",
    "soup = BeautifulSoup(reqs.text, 'html.parser')\n",
    " \n",
    "links = []\n",
    "for link in soup.find_all('a'):\n",
    "    a=(link.get('href'))\n",
    "    links.append(a)\n",
    "    print(a)"
   ]
  },
  {
   "cell_type": "code",
   "execution_count": null,
   "metadata": {},
   "outputs": [],
   "source": [
    "myString = \"This is a link http://www.google.com\"\n",
    "print (re.search(\"(?P<url>https?://[^\\s]+)\", myString).group(\"url\"))\n"
   ]
  },
  {
   "cell_type": "code",
   "execution_count": null,
   "metadata": {},
   "outputs": [],
   "source": [
    "import re\n",
    "urls=[]\n",
    "for i in links:\n",
    "    myString = '%s'%i\n",
    "    http= re.findall(r'(https?://[^\\s]+)', myString)\n",
    "    urls.append(http)"
   ]
  },
  {
   "cell_type": "code",
   "execution_count": 4,
   "metadata": {
    "collapsed": true,
    "jupyter": {
     "outputs_hidden": true
    }
   },
   "outputs": [
    {
     "name": "stdout",
     "output_type": "stream",
     "text": [
      "https://twitter.com/intent/follow?original_referer=http%3A%2F%2Fwww.corporate-governance-code.de%2F\n",
      "https://twitter.com/intent/follow?original_referer=http%3A%2F%2Fwww.corporate-governance-code.de%2F\n",
      "https://www.dcgk.de//files/dcgk/usercontent/en/download/code/191216_German_Corporate_Governance_Code.pdf\n",
      "https://www.dcgk.de//files/dcgk/usercontent/en/download/code/191216_Rationale_GCGC.pdf\n",
      "http://www.adidas-group.com/en/investors/corporate-governance/declaration-compliance/\n",
      "https://www.allianz.com/en/about_us/management/corporate-governance/declaration-of-conformity/\n",
      "https://www.basf.com/global/en/investors/basf-at-a-glance/corporate-governance/declarations.html\n",
      "http://www.bayer.com/en/Corporate-Governance.aspx\n",
      "https://www.bmwgroup.com/en/company/company-portrait.html\n",
      "https://www.continental-corporation.com/en/company/corporate-governance/principles-and-declarations/corporate-governance-principles-13402\n",
      "https://www.covestro.com/en/company/management/corporate-governance\n",
      "https://www.daimler.com/company/corporate-governance/declarations/\n",
      "https://ir.deliveryhero.com/websites/delivery/English/4500/declaration-of-compliance.html\n",
      "https://www.db.com/ir/en/documents.htm\n",
      "http://deutsche-boerse.com/dbg/dispatch/en/kir/dbg_nav/investor_relations/15_Corporate_Governance/50_Declaration_of_Conformity\n",
      "http://www.dpdhl.com/en/investors/corporate_governance/declaration_of_conformity.html\n",
      "http://www.telekom.com/declaration-of-conformity\n",
      "https://ir.deutsche-wohnen.com/websites/dewohnen/English/4400/declaration-of-compliance.html\n",
      "https://www.eon.com/en/about-us/corporate-governance/declaration-of-compliance.html\n",
      "http://www.freseniusmedicalcare.com/en/investors/corporate-governance/declaration-of-compliance/\n",
      "https://www.fresenius.com/corporate-governance\n",
      "https://www.heidelbergcement.com/en/declaration-of-corporate-governance\n",
      "https://www.henkel.com/investors-and-analysts/corporate-governance\n",
      "https://www.infineon.com/cms/en/about-infineon/investor/corporate-governance/\n",
      "https://www.linde.com/about-linde/corporate-governance\n",
      "https://www.merckgroup.com/en/investors/corporate-governance/reports.html\n",
      "https://www.mtu.de/investor-relations/corporate-governance/compliance-statement/\n",
      "https://www.munichre.com/en/company/about-munich-re/corporate-governance/declarations-of-conformity-with-gcgc-dcgk.html\n",
      "https://www.group.rwe/en/investor-relations/corporate-governance/statement-of-compliance\n",
      "https://www.sap.com/investors/en/governance.html\n",
      "https://new.siemens.com/global/en/company/investor-relations/corporate-governance.html\n",
      "https://www.siemens-energy.com/global/en/company/investor-relations/corporate-governance.html\n",
      "http://www.volkswagenag.com/en/InvestorRelations/corporate-governance/declaration-of-conformity.html\n",
      "https://investoren.vonovia.de/websites/vonovia/English/7025/declaration-of-conformity.html\n",
      "https://www.aareal-bank.com/en/about-us/corporate-governance/declaration-of-compliance/\n",
      "https://www.airbus.com/company/corporate-governance.html\n",
      "https://www.aixtron.com/en/investors/corporate-governance/principles\n",
      "https://alstria.com/company/\n",
      "https://www.aroundtown.de/investor-relations/corporate-governance/\n",
      "https://www.aurubis.com/en/about-aurubis/distribution-page-corporate-governance\n",
      "https://www.bechtle.com/de-en/about-bechtle/investors/corporate-governance\n",
      "https://www.beiersdorf.com/investors/corporate-governance/declaration-of-compliance\n",
      "https://www.brenntag.com/corporate/en/investor-relations/corporate-governance/compliance-statement/\n",
      "https://www.cancom.com/corporate-governance/?_ga=2.50171822.908792205.1610362483-416397059.1610362483\n",
      "https://www.zeiss.com/meditec-ag/investor-relations/declaration-on-corporate-management.html\n",
      "https://www.commerzbank.de/en/hauptnavigation/aktionaere/governance_/corporate_governace_1.html\n",
      "https://www.cgm.com/corp/ueber_uns_1/investor_relations/coporate_governance/entsprechungserklaerung/entsprechenserklaerung.en.jsp\n",
      "https://corporate.eventim.de/en/investor-relations/corporate-governance/\n",
      "https://investor-relations.lufthansagroup.com/en/corporate-governance/corporate-governance-declaration-section-289f-hgb/declaration-of-compliance-section-161-aktg.html\n",
      "https://www.durr-group.com/en/investor-relations/corporate-governance/declaration-on-corporate-governance/\n",
      "https://corporate.evonik.de/en/investor-relations/corporate-governance/german-corporate-governance-code\n",
      "https://www.evotec.com/en/invest/corporate-governance\n",
      "https://www.fraport.com/en/investors/corporate-governance.html\n",
      "https://www.freenet-group.de/investor/corporate-governance/index.html\n",
      "https://www.fuchs.com/group/the-company/corporate-governance/articles-of-association-and-declaration-of-compliance/\n",
      "http://www.gea.com/en/investor-relations/corporate-governance/statement-of-the-board/index.jsp\n",
      "https://www.gerresheimer.com/en/investor-relations/corporate-governance/statements-of-compliance.html\n",
      "https://www.grandcityproperties.com/about-us/corporate-governance/\n",
      "https://www.hannover-re.com/200801/declaration-of-conformity\n",
      "http://www.hella.com/hella-com/en/Declaration-of-Conformity-10446.html\n",
      "https://ir.hellofreshgroup.com/websites/hellofresh/English/4000/corporate-governance.html\n",
      "http://www.hochtief.com/hochtief_en/172.jhtml\n",
      "https://group.hugoboss.com/en/company/corporate-governance/declaration-of-compliance/\n",
      "https://www.kpluss.com/en-us/about-ks/governance/index.html\n",
      "https://www.kiongroup.com/en/About-us/Management/\n",
      "https://ir.knorr-bremse.com/websites/Knorrbremse_ir/English/7000/corporate-governance.html\n",
      "https://lanxess.com/en/Investors/Corporate-Governance\n",
      "https://www.leg-wohnen.de/en/corporation/investor-relations/corporate-governance/corporate-governance-codex-compliance-statement/\n",
      "https://www.metroag.de/en/company/corporate-governance\n",
      "https://www.morphosys.com/media-and-investors/corporate-governance\n",
      "https://ir.nemetschek.com/websites/nemetschek/English/5100/declaration-of-conformity.html\n",
      "https://www.osram-group.com/en/our-company/our-management/corporate-governance\n",
      "https://www.prosiebensat1.de/en/investor-relations/corporate-governance/management-declaration\n",
      "https://about.puma.com/en/investor-relations/corporate-governance\n",
      "https://corporate.qiagen.com/investor-relations/corporate-governance/governance-codes\n",
      "https://www.rational-online.com/en_gb/company/investor-relations/corporate-governance/index.php\n",
      "https://www.rheinmetall.com/en/rheinmetall_ag/group/corporategovernance_4/entsprechenserklaerung_2/index.php\n",
      "https://www.sartorius.com/en/company/about-sartorius-ag/compliance\n",
      "https://www.scout24.com/en/Investor-Relations/Corporate-Governance.aspx\n",
      "https://shop-apotheke-europe.com/en/investorrelations/governance/\n",
      "https://www.corporate.siemens-healthineers.com/investor-relations/corporate-governance\n",
      "https://www.siltronic.com/en/investors/corporate-governance.html\n",
      "https://investors.softwareag.com/en/corporate-governance/compliance-declaration\n",
      "http://ir.stroeer.com/websites/stroeer/English/6200/declaration-of-compliance.html\n",
      "http://www.symrise.com/investors/corporate-governance/declaration-of-compliance/\n",
      "http://www.tag-ag.com/en/investor-relations/corporate-governance/declaration-of-conformity\n",
      "https://ir.teamviewer.com/websites/teamviewer/English/40/corporate-governance.html\n",
      "https://www.telefonica.de/investor-relations-en/corporate-governance/declarations-and-articles.html\n",
      "https://www.thyssenkrupp.com/en/company/management/corporate-governance/declaration-of-conformity.html\n",
      "https://ir.uniper.energy/websites/uniper/English/6500/corporate-governance-policy.html\n",
      "https://www.united-internet.de/en/investor-relations/corporate-governance.html\n",
      "https://www.varta-ag.com/en/investor-relations/corporate-governance\n",
      "https://www.wacker.com/cms/en-de/about-wacker/investor-relations/corporate-governance/declaration-of-conformity.html\n",
      "https://corporate.zalando.com/en/company/corporate-governance\n",
      "94\n"
     ]
    }
   ],
   "source": [
    "import os\n",
    "import requests\n",
    "from urllib.parse import urljoin\n",
    "from bs4 import BeautifulSoup\n",
    "import re\n",
    "\n",
    "url = 'https://www.dcgk.de/en/declarations-of-compliance.html'\n",
    "reqs = requests.get(url)\n",
    "soup = BeautifulSoup(reqs.text, 'html.parser')\n",
    "text=[]\n",
    "for link in soup.find_all('a'):\n",
    "    text.append(link)\n",
    "\n",
    "c_url=[]\n",
    "for i in text:\n",
    "    urls = re.findall('http[s]?://(?:[a-zA-Z]|[0-9]|[$-_@.&+]|[!*\\(\\),]|(?:%[0-9a-fA-F][0-9a-fA-F]))+', str(i))\n",
    "    c_url.append(urls)\n",
    "res = [ele for ele in c_url if ele != []]\n",
    "flatList = [ item for elem in res for item in elem]\n",
    "for i in flatList:\n",
    "    print(i)\n",
    "print(len(flatList))"
   ]
  },
  {
   "cell_type": "code",
   "execution_count": 18,
   "metadata": {},
   "outputs": [],
   "source": [
    "urls=flatList[4:]"
   ]
  },
  {
   "cell_type": "code",
   "execution_count": 19,
   "metadata": {
    "collapsed": true,
    "jupyter": {
     "outputs_hidden": true
    }
   },
   "outputs": [
    {
     "data": {
      "text/plain": [
       "['http://www.adidas-group.com/en/investors/corporate-governance/declaration-compliance/',\n",
       " 'https://www.allianz.com/en/about_us/management/corporate-governance/declaration-of-conformity/',\n",
       " 'https://www.basf.com/global/en/investors/basf-at-a-glance/corporate-governance/declarations.html',\n",
       " 'http://www.bayer.com/en/Corporate-Governance.aspx',\n",
       " 'https://www.bmwgroup.com/en/company/company-portrait.html',\n",
       " 'https://www.continental-corporation.com/en/company/corporate-governance/principles-and-declarations/corporate-governance-principles-13402',\n",
       " 'https://www.covestro.com/en/company/management/corporate-governance',\n",
       " 'https://www.daimler.com/company/corporate-governance/declarations/',\n",
       " 'https://ir.deliveryhero.com/websites/delivery/English/4500/declaration-of-compliance.html',\n",
       " 'https://www.db.com/ir/en/documents.htm',\n",
       " 'http://deutsche-boerse.com/dbg/dispatch/en/kir/dbg_nav/investor_relations/15_Corporate_Governance/50_Declaration_of_Conformity',\n",
       " 'http://www.dpdhl.com/en/investors/corporate_governance/declaration_of_conformity.html',\n",
       " 'http://www.telekom.com/declaration-of-conformity',\n",
       " 'https://ir.deutsche-wohnen.com/websites/dewohnen/English/4400/declaration-of-compliance.html',\n",
       " 'https://www.eon.com/en/about-us/corporate-governance/declaration-of-compliance.html',\n",
       " 'http://www.freseniusmedicalcare.com/en/investors/corporate-governance/declaration-of-compliance/',\n",
       " 'https://www.fresenius.com/corporate-governance',\n",
       " 'https://www.heidelbergcement.com/en/declaration-of-corporate-governance',\n",
       " 'https://www.henkel.com/investors-and-analysts/corporate-governance',\n",
       " 'https://www.infineon.com/cms/en/about-infineon/investor/corporate-governance/',\n",
       " 'https://www.linde.com/about-linde/corporate-governance',\n",
       " 'https://www.merckgroup.com/en/investors/corporate-governance/reports.html',\n",
       " 'https://www.mtu.de/investor-relations/corporate-governance/compliance-statement/',\n",
       " 'https://www.munichre.com/en/company/about-munich-re/corporate-governance/declarations-of-conformity-with-gcgc-dcgk.html',\n",
       " 'https://www.group.rwe/en/investor-relations/corporate-governance/statement-of-compliance',\n",
       " 'https://www.sap.com/investors/en/governance.html',\n",
       " 'https://new.siemens.com/global/en/company/investor-relations/corporate-governance.html',\n",
       " 'https://www.siemens-energy.com/global/en/company/investor-relations/corporate-governance.html',\n",
       " 'http://www.volkswagenag.com/en/InvestorRelations/corporate-governance/declaration-of-conformity.html',\n",
       " 'https://investoren.vonovia.de/websites/vonovia/English/7025/declaration-of-conformity.html',\n",
       " 'https://www.aareal-bank.com/en/about-us/corporate-governance/declaration-of-compliance/',\n",
       " 'https://www.airbus.com/company/corporate-governance.html',\n",
       " 'https://www.aixtron.com/en/investors/corporate-governance/principles',\n",
       " 'https://alstria.com/company/',\n",
       " 'https://www.aroundtown.de/investor-relations/corporate-governance/',\n",
       " 'https://www.aurubis.com/en/about-aurubis/distribution-page-corporate-governance',\n",
       " 'https://www.bechtle.com/de-en/about-bechtle/investors/corporate-governance',\n",
       " 'https://www.beiersdorf.com/investors/corporate-governance/declaration-of-compliance',\n",
       " 'https://www.brenntag.com/corporate/en/investor-relations/corporate-governance/compliance-statement/',\n",
       " 'https://www.cancom.com/corporate-governance/?_ga=2.50171822.908792205.1610362483-416397059.1610362483',\n",
       " 'https://www.zeiss.com/meditec-ag/investor-relations/declaration-on-corporate-management.html',\n",
       " 'https://www.commerzbank.de/en/hauptnavigation/aktionaere/governance_/corporate_governace_1.html',\n",
       " 'https://www.cgm.com/corp/ueber_uns_1/investor_relations/coporate_governance/entsprechungserklaerung/entsprechenserklaerung.en.jsp',\n",
       " 'https://corporate.eventim.de/en/investor-relations/corporate-governance/',\n",
       " 'https://investor-relations.lufthansagroup.com/en/corporate-governance/corporate-governance-declaration-section-289f-hgb/declaration-of-compliance-section-161-aktg.html',\n",
       " 'https://www.durr-group.com/en/investor-relations/corporate-governance/declaration-on-corporate-governance/',\n",
       " 'https://corporate.evonik.de/en/investor-relations/corporate-governance/german-corporate-governance-code',\n",
       " 'https://www.evotec.com/en/invest/corporate-governance',\n",
       " 'https://www.fraport.com/en/investors/corporate-governance.html',\n",
       " 'https://www.freenet-group.de/investor/corporate-governance/index.html',\n",
       " 'https://www.fuchs.com/group/the-company/corporate-governance/articles-of-association-and-declaration-of-compliance/',\n",
       " 'http://www.gea.com/en/investor-relations/corporate-governance/statement-of-the-board/index.jsp',\n",
       " 'https://www.gerresheimer.com/en/investor-relations/corporate-governance/statements-of-compliance.html',\n",
       " 'https://www.grandcityproperties.com/about-us/corporate-governance/',\n",
       " 'https://www.hannover-re.com/200801/declaration-of-conformity',\n",
       " 'http://www.hella.com/hella-com/en/Declaration-of-Conformity-10446.html',\n",
       " 'https://ir.hellofreshgroup.com/websites/hellofresh/English/4000/corporate-governance.html',\n",
       " 'http://www.hochtief.com/hochtief_en/172.jhtml',\n",
       " 'https://group.hugoboss.com/en/company/corporate-governance/declaration-of-compliance/',\n",
       " 'https://www.kpluss.com/en-us/about-ks/governance/index.html',\n",
       " 'https://www.kiongroup.com/en/About-us/Management/',\n",
       " 'https://ir.knorr-bremse.com/websites/Knorrbremse_ir/English/7000/corporate-governance.html',\n",
       " 'https://lanxess.com/en/Investors/Corporate-Governance',\n",
       " 'https://www.leg-wohnen.de/en/corporation/investor-relations/corporate-governance/corporate-governance-codex-compliance-statement/',\n",
       " 'https://www.metroag.de/en/company/corporate-governance',\n",
       " 'https://www.morphosys.com/media-and-investors/corporate-governance',\n",
       " 'https://ir.nemetschek.com/websites/nemetschek/English/5100/declaration-of-conformity.html',\n",
       " 'https://www.osram-group.com/en/our-company/our-management/corporate-governance',\n",
       " 'https://www.prosiebensat1.de/en/investor-relations/corporate-governance/management-declaration',\n",
       " 'https://about.puma.com/en/investor-relations/corporate-governance',\n",
       " 'https://corporate.qiagen.com/investor-relations/corporate-governance/governance-codes',\n",
       " 'https://www.rational-online.com/en_gb/company/investor-relations/corporate-governance/index.php',\n",
       " 'https://www.rheinmetall.com/en/rheinmetall_ag/group/corporategovernance_4/entsprechenserklaerung_2/index.php',\n",
       " 'https://www.sartorius.com/en/company/about-sartorius-ag/compliance',\n",
       " 'https://www.scout24.com/en/Investor-Relations/Corporate-Governance.aspx',\n",
       " 'https://shop-apotheke-europe.com/en/investorrelations/governance/',\n",
       " 'https://www.corporate.siemens-healthineers.com/investor-relations/corporate-governance',\n",
       " 'https://www.siltronic.com/en/investors/corporate-governance.html',\n",
       " 'https://investors.softwareag.com/en/corporate-governance/compliance-declaration',\n",
       " 'http://ir.stroeer.com/websites/stroeer/English/6200/declaration-of-compliance.html',\n",
       " 'http://www.symrise.com/investors/corporate-governance/declaration-of-compliance/',\n",
       " 'http://www.tag-ag.com/en/investor-relations/corporate-governance/declaration-of-conformity',\n",
       " 'https://ir.teamviewer.com/websites/teamviewer/English/40/corporate-governance.html',\n",
       " 'https://www.telefonica.de/investor-relations-en/corporate-governance/declarations-and-articles.html',\n",
       " 'https://www.thyssenkrupp.com/en/company/management/corporate-governance/declaration-of-conformity.html',\n",
       " 'https://ir.uniper.energy/websites/uniper/English/6500/corporate-governance-policy.html',\n",
       " 'https://www.united-internet.de/en/investor-relations/corporate-governance.html',\n",
       " 'https://www.varta-ag.com/en/investor-relations/corporate-governance',\n",
       " 'https://www.wacker.com/cms/en-de/about-wacker/investor-relations/corporate-governance/declaration-of-conformity.html',\n",
       " 'https://corporate.zalando.com/en/company/corporate-governance']"
      ]
     },
     "execution_count": 19,
     "metadata": {},
     "output_type": "execute_result"
    }
   ],
   "source": []
  },
  {
   "cell_type": "code",
   "execution_count": 20,
   "metadata": {},
   "outputs": [],
   "source": [
    "website=urls[8:11]"
   ]
  },
  {
   "cell_type": "code",
   "execution_count": 21,
   "metadata": {},
   "outputs": [
    {
     "data": {
      "text/plain": [
       "['https://ir.deliveryhero.com/websites/delivery/English/4500/declaration-of-compliance.html',\n",
       " 'https://www.db.com/ir/en/documents.htm',\n",
       " 'http://deutsche-boerse.com/dbg/dispatch/en/kir/dbg_nav/investor_relations/15_Corporate_Governance/50_Declaration_of_Conformity']"
      ]
     },
     "execution_count": 21,
     "metadata": {},
     "output_type": "execute_result"
    }
   ],
   "source": [
    "website"
   ]
  },
  {
   "cell_type": "code",
   "execution_count": 22,
   "metadata": {},
   "outputs": [],
   "source": [
    "pdf = ['Declaration_of_Compliance_','Declaration_of_Conformity_','entsprechungserklaerung-dez']"
   ]
  },
  {
   "cell_type": "code",
   "execution_count": 23,
   "metadata": {},
   "outputs": [],
   "source": [
    "import re\n",
    "\n",
    "def extractMax(input):\n",
    "\tnumbers = re.findall('\\d+',input)\n",
    "\tnumbers = map(int,numbers)\n",
    "\n",
    "\tprint( max(numbers))"
   ]
  },
  {
   "cell_type": "code",
   "execution_count": 24,
   "metadata": {},
   "outputs": [
    {
     "name": "stdout",
     "output_type": "stream",
     "text": [
      "<a href=\"/download/companies/delivery/CorporateGovernance/Declaration_of_Compliance_2020.pdf\" target=\"_blank\"><span class=\"last-news__item__title\">Declaration of Compliance 2020</span></a>\n",
      "\n",
      "<a href=\"/ir/en/download/Declaration_of_Conformity_2020_EN.pdf\" target=\"_blank\">PDF</a>\n",
      "\n",
      "<a class=\"icon download_pdf\" href=\"/resource/blob/2362496/ff15eb5e5d4d9322c407dbba2b345f30/data/entsprechungserklaerung-dez2020_en.pdf\" target=\"_blank\"><span><span>3 December 2020: Declaration of Conformity according § AktG 161 </span> [<span class=\"download-type\">PDF</span><span class=\"download-size\">, 78.49 kB</span>]</span></a>\n",
      "\n"
     ]
    }
   ],
   "source": [
    "import os\n",
    "import requests\n",
    "from urllib.parse import urljoin\n",
    "from bs4 import BeautifulSoup\n",
    "\n",
    "for i,j in zip(website,pdf):      \n",
    "    url = '%s'%i\n",
    "\n",
    "    #If there is no such folder, the script will create one automatically\n",
    "    folder_location = \"E:\\\\Data science\\\\stocks\\\\pdfs\\\\\"\n",
    "    if not os.path.exists(folder_location):os.mkdir(folder_location)\n",
    "\n",
    "    response = requests.get(url)\n",
    "    soup= BeautifulSoup(response.text, \"html.parser\")\n",
    "    try:\n",
    "        for link in soup.select(\"a[href*='%s']\"%j):\n",
    "            #Name the pdf files using the last portion of each link which are unique in this case\n",
    "            filename = os.path.join(folder_location,link['href'].split('/')[-1])\n",
    "            print(link)\n",
    "            extractMax(link)\n",
    "    except TypeError:\n",
    "        print('')\n",
    "    \n",
    "    with open(filename, 'wb') as f:\n",
    "        f.write(requests.get(urljoin(url,link['href'])).content)      "
   ]
  },
  {
   "cell_type": "code",
   "execution_count": null,
   "metadata": {},
   "outputs": [],
   "source": []
  },
  {
   "cell_type": "code",
   "execution_count": 5,
   "metadata": {},
   "outputs": [],
   "source": [
    "import os\n",
    "import requests\n",
    "from urllib.parse import urljoin\n",
    "from bs4 import BeautifulSoup\n",
    "import re"
   ]
  },
  {
   "cell_type": "code",
   "execution_count": 6,
   "metadata": {},
   "outputs": [],
   "source": [
    "import re\n",
    "\n",
    "def extractMax(input):\n",
    "\tnumbers = re.findall('\\d+',input)\n",
    "\tnumbers = map(int,numbers)\n",
    "\n",
    "\tprint( max(numbers))"
   ]
  },
  {
   "cell_type": "code",
   "execution_count": 12,
   "metadata": {},
   "outputs": [
    {
     "ename": "NameError",
     "evalue": "name 'flatList' is not defined",
     "output_type": "error",
     "traceback": [
      "\u001b[1;31m---------------------------------------------------------------------------\u001b[0m",
      "\u001b[1;31mNameError\u001b[0m                                 Traceback (most recent call last)",
      "\u001b[1;32m<ipython-input-12-5055c0b69e2b>\u001b[0m in \u001b[0;36m<module>\u001b[1;34m\u001b[0m\n\u001b[1;32m----> 1\u001b[1;33m \u001b[0mflatList\u001b[0m\u001b[1;33m\u001b[0m\u001b[1;33m\u001b[0m\u001b[0m\n\u001b[0m",
      "\u001b[1;31mNameError\u001b[0m: name 'flatList' is not defined"
     ]
    }
   ],
   "source": [
    "flatList"
   ]
  },
  {
   "cell_type": "code",
   "execution_count": null,
   "metadata": {},
   "outputs": [],
   "source": []
  },
  {
   "cell_type": "code",
   "execution_count": 10,
   "metadata": {},
   "outputs": [],
   "source": [
    "pdf = ['Declaration_of_Conformity_','entsprechungserklaerung-dez','Declaration_of_Compliance_',\n",
    "       'Declaration-of-Compliance_','Declaration_of_Compliance_','Entsprechenserklaerung_en']\n",
    "website = ['https://ir.deutsche-wohnen.com/websites/dewohnen/English/4400/declaration-of-conformity.html',\n",
    "           'https://www.freseniusmedicalcare.com/en/investors/corporate-governance/declaration-of-compliance/',\n",
    "           'https://www.fresenius.com/corporate-governance']"
   ]
  },
  {
   "cell_type": "code",
   "execution_count": 4,
   "metadata": {},
   "outputs": [
    {
     "ename": "NameError",
     "evalue": "name 'website' is not defined",
     "output_type": "error",
     "traceback": [
      "\u001b[1;31m---------------------------------------------------------------------------\u001b[0m",
      "\u001b[1;31mNameError\u001b[0m                                 Traceback (most recent call last)",
      "\u001b[1;32m<ipython-input-4-12ff9338d5ab>\u001b[0m in \u001b[0;36m<module>\u001b[1;34m\u001b[0m\n\u001b[1;32m----> 1\u001b[1;33m \u001b[1;32mfor\u001b[0m \u001b[0mi\u001b[0m\u001b[1;33m,\u001b[0m\u001b[0mj\u001b[0m \u001b[1;32min\u001b[0m \u001b[0mzip\u001b[0m\u001b[1;33m(\u001b[0m\u001b[0mwebsite\u001b[0m\u001b[1;33m,\u001b[0m\u001b[0mpdf\u001b[0m\u001b[1;33m)\u001b[0m\u001b[1;33m:\u001b[0m\u001b[1;33m\u001b[0m\u001b[1;33m\u001b[0m\u001b[0m\n\u001b[0m\u001b[0;32m      2\u001b[0m     \u001b[0murl\u001b[0m \u001b[1;33m=\u001b[0m \u001b[1;34m'%s'\u001b[0m\u001b[1;33m%\u001b[0m\u001b[0mi\u001b[0m\u001b[1;33m\u001b[0m\u001b[1;33m\u001b[0m\u001b[0m\n\u001b[0;32m      3\u001b[0m \u001b[1;33m\u001b[0m\u001b[0m\n\u001b[0;32m      4\u001b[0m     \u001b[1;31m#If there is no such folder, the script will create one automatically\u001b[0m\u001b[1;33m\u001b[0m\u001b[1;33m\u001b[0m\u001b[1;33m\u001b[0m\u001b[0m\n\u001b[0;32m      5\u001b[0m     \u001b[1;31m#folder_location = \"E:\\\\Data science\\\\stocks\\\\pdfs\\\\\"\u001b[0m\u001b[1;33m\u001b[0m\u001b[1;33m\u001b[0m\u001b[1;33m\u001b[0m\u001b[0m\n",
      "\u001b[1;31mNameError\u001b[0m: name 'website' is not defined"
     ]
    }
   ],
   "source": [
    "for i,j in zip(website,pdf):      \n",
    "    url = '%s'%i\n",
    "\n",
    "    #If there is no such folder, the script will create one automatically\n",
    "    #folder_location = \"E:\\\\Data science\\\\stocks\\\\pdfs\\\\\"\n",
    "    #if not os.path.exists(folder_location):os.mkdir(folder_location)\n",
    "\n",
    "    name=(i.split('.com')[0]).split('.')[-1]\n",
    "    path = \"E:/Data science/stocks/doc/pdf_extract/\"+name\n",
    "    \n",
    "    try:\n",
    "        os.mkdir(path)\n",
    "    #except FileExistsError:\n",
    "    except OSError:\n",
    "        print (\"Already exists %s\" % path)\n",
    "    else:\n",
    "        print (\"Successfully created the directory %s \" % path)\n",
    "    #If there is no such folder, the script will create one automatically\n",
    "    folder_location = 'E:/Data science/stocks/doc/pdf_extract/'+ name\n",
    "    try:\n",
    "        response = requests.get(url,timeout=5)\n",
    "        soup= BeautifulSoup(response.text, \"html.parser\")\n",
    "        connect=1\n",
    "    except:\n",
    "        print('There is a problem in connecting')\n",
    "        connect=0\n",
    "\n",
    "    if connect==1:\n",
    "        try:\n",
    "            for link in soup.select(\"a[href*='%s']\"%j):\n",
    "                print('%s'%j)\n",
    "                #Name the pdf files using the last portion of each link which are unique in this case\n",
    "                filename = os.path.join(folder_location,link['href'].split('/')[-1])\n",
    "                print(link)\n",
    "                extractMax(link)\n",
    "        except TypeError:\n",
    "            print('')\n",
    "        except ConnectionError as e:    # This is the correct syntax\n",
    "            print(e) \n",
    "            r = \"No response\"\n",
    "\n",
    "        with open(filename, 'wb') as f:\n",
    "            f.write(requests.get(urljoin(url,link['href'])).content)\n",
    "            f.close()\n",
    "            #name=((url.split('.com')[0]).split('.')[1])+'.pdf'\n",
    "            ##filename=filename.split('.pdf')[0]\n",
    "            #print(name)\n",
    "            ##print(filename)\n",
    "            #os.rename('E:\\\\Data science\\\\stocks\\\\pdfs\\\\%s'%link['href'].split('/')[-1],'E:\\\\Data science\\\\stocks\\\\pdfs\\\\%s'%name) "
   ]
  },
  {
   "cell_type": "code",
   "execution_count": null,
   "metadata": {},
   "outputs": [],
   "source": [
    "import requests\n",
    "\n",
    "\n",
    "url = 'https://www.adidas-group.com/media/filer_public/36/6a/366ad645-8cb4-4fc4-9385-614a7931db25/adidasag_entsprechenserklarung_2020_final_en.pdf'\n",
    "r = requests.get(url, allow_redirects=True)\n",
    "\n",
    "open('adidas.pdf', 'wb').write(r.content)"
   ]
  },
  {
   "cell_type": "code",
   "execution_count": null,
   "metadata": {},
   "outputs": [],
   "source": [
    "import requests\n",
    "file_url = \"https://www.adidas-group.com/media/filer_public/36/6a/366ad645-8cb4-4fc4-9385-614a7931db25/adidasag_entsprechenserklarung_2020_final_en.pdf\"\n",
    "  \n",
    "r = requests.get(file_url, stream = True)\n",
    "  \n",
    "with open(\"E:\\\\Data science\\\\stocks\\\\pdfs\\\\\",\"wb\") as pdf:\n",
    "    for chunk in r.iter_content(chunk_size=1024):\n",
    "  \n",
    "         # writing one chunk at a time to pdf file\n",
    "         if chunk:\n",
    "             pdf.write(chunk)"
   ]
  },
  {
   "cell_type": "code",
   "execution_count": 4,
   "metadata": {},
   "outputs": [
    {
     "name": "stdout",
     "output_type": "stream",
     "text": [
      "('Connection aborted.', ConnectionResetError(10054, 'An existing connection was forcibly closed by the remote host', None, 10054, None))\n"
     ]
    }
   ],
   "source": [
    "from requests.exceptions import ConnectionError\n",
    "\n",
    "try:    \n",
    "    url = \"https://www.dpdhl.com/en/investors/esg.html\"\n",
    "\n",
    "    #If there is no such folder, the script will create one automatically\n",
    "    folder_location = \"E:\\\\Data science\\\\stocks\\\\pdfs\\\\\"\n",
    "    if not os.path.exists(folder_location):os.mkdir(folder_location)\n",
    "\n",
    "    response = requests.get(url)\n",
    "    #soup= BeautifulSoup(response.text, \"html.parser\")   \n",
    "except ConnectionError as e:    # This is the correct syntax\n",
    "    print(e) \n",
    "    r = \"No response\"\n",
    "    "
   ]
  },
  {
   "cell_type": "code",
   "execution_count": null,
   "metadata": {},
   "outputs": [],
   "source": []
  },
  {
   "cell_type": "code",
   "execution_count": 6,
   "metadata": {},
   "outputs": [],
   "source": [
    "\n",
    "url = \"https://www.telekom.com/en/investor-relations/investor-relations/declaration-of-conformity-pursuant-to-161-of-the-german-stock-corporation-act-aktiengesetz-aktg--352918\"\n",
    "\n",
    "#If there is no such folder, the script will create one automatically\n",
    "folder_location = \"E:\\\\Data science\\\\stocks\\\\pdfs\\\\\"\n",
    "if not os.path.exists(folder_location):os.mkdir(folder_location)\n",
    "\n",
    "response = requests.get(url)\n",
    "soup= BeautifulSoup(response.text, \"html.parser\")\n",
    "try:\n",
    "    for link in soup.select(\"a[href$='2020.pdf']\"):\n",
    "        #Name the pdf files using the last portion of each link which are unique in this case\n",
    "        filename = os.path.join(folder_location,link['href'].split('/')[-1])\n",
    "        extractMax(link)\n",
    "        print(link)\n",
    "        #with open(filename, 'wb') as f:\n",
    "         #   f.write(requests.get(urljoin(url,link['href'])).content)\n",
    "except TypeError:\n",
    "    print('type error')\n",
    "    "
   ]
  },
  {
   "cell_type": "code",
   "execution_count": 103,
   "metadata": {},
   "outputs": [
    {
     "name": "stdout",
     "output_type": "stream",
     "text": [
      "<a class=\"related\" href=\"/resource/blob/326262/fddf602709c4310cf20236a069649531/dl-cc-erklaerung-2015-data.pdf\" title=\"Declaration of Conformity, December 30, 2015 (56 KB)\"><span>Declaration of Conformity, December 30, 2015 (56 KB) <span>(pdf, 54.3 KB)</span></span></a>\n",
      "\n"
     ]
    }
   ],
   "source": [
    "\n",
    "url = \"https://www.telekom.com/en/investor-relations/investor-relations/declaration-of-conformity-pursuant-to-161-of-the-german-stock-corporation-act-aktiengesetz-aktg--352918\"\n",
    "\n",
    "#If there is no such folder, the script will create one automatically\n",
    "folder_location = \"E:\\\\Data science\\\\stocks\\\\pdfs\\\\\"\n",
    "if not os.path.exists(folder_location):os.mkdir(folder_location)\n",
    "\n",
    "response = requests.get(url)\n",
    "soup= BeautifulSoup(response.text, \"html.parser\")\n",
    "try:\n",
    "    for link in soup.select(\"a[href*='dl-cc-erklaerung']\"):\n",
    "        #Name the pdf files using the last portion of each link which are unique in this case\n",
    "        filename = os.path.join(folder_location,link['href'].split('/')[-1])\n",
    "        print(link)\n",
    "        extractMax(link)\n",
    "except TypeError:\n",
    "    print('')\n",
    "\n",
    "with open(filename, 'wb') as f:\n",
    "    f.write(requests.get(urljoin(url,link['href'])).content)      "
   ]
  },
  {
   "cell_type": "code",
   "execution_count": 104,
   "metadata": {},
   "outputs": [
    {
     "name": "stdout",
     "output_type": "stream",
     "text": [
      "<a href=\"https://wwwfuchscom-94ba.kxcdn.com/fileadmin/Home/Corporate_Governance/Entsprechenserklaerung/20201211_Declaration_of_compliance_FUCHS_PETROLUB_SE_2020.pdf\" target=\"_blank\">Declaration of compliance (2020)</a>\n",
      "\n"
     ]
    }
   ],
   "source": [
    "\n",
    "url = \"https://www.fuchs.com/group/the-company/corporate-governance/articles-of-association-and-declaration-of-compliance/\"\n",
    "\n",
    "#If there is no such folder, the script will create one automatically\n",
    "folder_location = \"E:\\\\Data science\\\\stocks\\\\pdfs\\\\\"\n",
    "if not os.path.exists(folder_location):os.mkdir(folder_location)\n",
    "\n",
    "response = requests.get(url)\n",
    "soup= BeautifulSoup(response.text, \"html.parser\")\n",
    "try:\n",
    "    for link in soup.select(\"a[href*='Declaration_of_compliance']\"):\n",
    "        #Name the pdf files using the last portion of each link which are unique in this case\n",
    "        filename = os.path.join(folder_location,link['href'].split('/')[-1])\n",
    "        print(link)\n",
    "        extractMax(link)\n",
    "except TypeError:\n",
    "    print('')\n",
    "\n",
    "with open(filename, 'wb') as f:\n",
    "    f.write(requests.get(urljoin(url,link['href'])).content)      "
   ]
  },
  {
   "cell_type": "code",
   "execution_count": 100,
   "metadata": {},
   "outputs": [],
   "source": [
    " with open(filename, 'wb') as f:\n",
    "        f.write(requests.get(urljoin(url,link['href'])).content)"
   ]
  },
  {
   "cell_type": "code",
   "execution_count": null,
   "metadata": {},
   "outputs": [],
   "source": [
    "for link in soup.findAll('a', attrs={'href': re.compile(\"Corporate_Governance\") and attrs={'href': re.compile(\"2020.pdf\")}:\n",
    "    \n",
    "        #Name the pdf files using the last portion of each link which are unique in this case\n",
    "        filename = os.path.join(folder_location,link['href'].split('/')[-1])\n",
    "        print(link)"
   ]
  },
  {
   "cell_type": "code",
   "execution_count": null,
   "metadata": {},
   "outputs": [],
   "source": [
    "result = [e for e in re.split(\"[^0-9]\", link) if e != '']\n",
    "\n",
    "# list 'result' elements are strings: ['3', '17', '14'], so we use map(int, list) to get integers\n",
    "print (max(map(int, result)))"
   ]
  },
  {
   "cell_type": "markdown",
   "metadata": {},
   "source": [
    "======================================================================="
   ]
  },
  {
   "cell_type": "markdown",
   "metadata": {},
   "source": [
    "#### convert text file into df and classify whether it is complied or not using defn fn"
   ]
  },
  {
   "cell_type": "code",
   "execution_count": null,
   "metadata": {},
   "outputs": [],
   "source": [
    "import warnings\n",
    "warnings.filterwarnings('ignore')\n",
    "import numpy as np \n",
    "import pandas as pd \n",
    "import os\n",
    "for dirname, _, filenames in os.walk('E:/Data science/stocks/doc/txt/'):\n",
    "    for filename in filenames:\n",
    "        print(os.path.join(dirname, filename))"
   ]
  },
  {
   "cell_type": "code",
   "execution_count": null,
   "metadata": {},
   "outputs": [],
   "source": [
    "# Step 1 - Get the file details\n",
    "directory = []\n",
    "file = []\n",
    "title = []\n",
    "text = []\n",
    "label = []\n",
    "datapath = 'E:/Data science/stocks/doc/txt/' \n",
    "for dirname, _ , filenames in os.walk(datapath):\n",
    "    try:\n",
    "        filenames.remove('README.TXT')\n",
    "    except:\n",
    "        pass\n",
    "    for filename in filenames:\n",
    "        directory.append(dirname)\n",
    "        file.append(filename)\n",
    "        label.append(dirname.split('/')[-1])\n",
    "        #print(filename)\n",
    "        fullpathfile = os.path.join(dirname,filename)\n",
    "        with open(fullpathfile, 'r', encoding=\"utf8\", errors='ignore') as infile:\n",
    "            intext = ''\n",
    "            firstline = True\n",
    "            for line in infile:\n",
    "                if firstline:\n",
    "                    title.append(line.replace('\\n',''))\n",
    "                    firstline = False\n",
    "                else:\n",
    "                    intext = intext + ' ' + line.replace('\\n','')\n",
    "            text.append(intext)"
   ]
  },
  {
   "cell_type": "code",
   "execution_count": null,
   "metadata": {},
   "outputs": [],
   "source": [
    "fulldf = pd.DataFrame(list(zip(directory, file, title, text, label)), \n",
    "               columns =['directory', 'file', 'title', 'text', 'label'])\n",
    "\n",
    "df = fulldf.filter(['text'], axis=1)\n",
    "\n",
    "print(\"FullDf : \", fulldf.shape)\n",
    "print(\"DF : \", df.shape)"
   ]
  },
  {
   "cell_type": "code",
   "execution_count": null,
   "metadata": {},
   "outputs": [],
   "source": [
    "df"
   ]
  },
  {
   "cell_type": "code",
   "execution_count": null,
   "metadata": {},
   "outputs": [],
   "source": [
    "fulldf"
   ]
  },
  {
   "cell_type": "code",
   "execution_count": null,
   "metadata": {},
   "outputs": [],
   "source": [
    "global key_list\n",
    "key_list = ['with one exception','with the exception','have not been met','will not be met to the extent','exceptions','exception', 'will not be met']"
   ]
  },
  {
   "cell_type": "code",
   "execution_count": null,
   "metadata": {},
   "outputs": [],
   "source": [
    "def checklist(x):\n",
    "    y = 'NA'\n",
    "    for i in key_list:\n",
    "        if (i in x):\n",
    "            y = 'Not following'\n",
    "    if len(y) > 3:\n",
    "        return y\n",
    "    else:\n",
    "        return 'Following'"
   ]
  },
  {
   "cell_type": "code",
   "execution_count": null,
   "metadata": {},
   "outputs": [],
   "source": [
    "df['predicted'] = df['text'].apply(lambda x: checklist(x))"
   ]
  },
  {
   "cell_type": "code",
   "execution_count": null,
   "metadata": {},
   "outputs": [],
   "source": [
    "df"
   ]
  },
  {
   "cell_type": "markdown",
   "metadata": {},
   "source": [
    "============================================================================"
   ]
  },
  {
   "cell_type": "markdown",
   "metadata": {},
   "source": [
    "#### Model for prediction complied or not"
   ]
  },
  {
   "cell_type": "raw",
   "metadata": {},
   "source": [
    "df.to_csv(r'E:\\Data science\\stocks\\data\\train_data.csv',index=False)"
   ]
  },
  {
   "cell_type": "raw",
   "metadata": {},
   "source": [
    "df=pd.read_csv(r'E:\\Data science\\stocks\\data\\train_data.csv')"
   ]
  },
  {
   "cell_type": "raw",
   "metadata": {},
   "source": [
    "df"
   ]
  },
  {
   "cell_type": "code",
   "execution_count": null,
   "metadata": {},
   "outputs": [],
   "source": [
    "x_train=df['title']\n",
    "y_train=df['label']"
   ]
  },
  {
   "cell_type": "code",
   "execution_count": null,
   "metadata": {},
   "outputs": [],
   "source": [
    "from sklearn.feature_extraction.text import CountVectorizer\n",
    "count_vect = CountVectorizer()\n",
    "X_train_counts = count_vect.fit_transform(x_train)"
   ]
  },
  {
   "cell_type": "code",
   "execution_count": null,
   "metadata": {},
   "outputs": [],
   "source": [
    "from sklearn.feature_extraction.text import TfidfVectorizer\n",
    "vectorizer = TfidfVectorizer()\n",
    "X_train_tfidf = vectorizer.fit_transform(x_train)"
   ]
  },
  {
   "cell_type": "code",
   "execution_count": null,
   "metadata": {},
   "outputs": [],
   "source": [
    "X_train_tfidf.shape"
   ]
  },
  {
   "cell_type": "code",
   "execution_count": null,
   "metadata": {},
   "outputs": [],
   "source": [
    "from sklearn.linear_model import LogisticRegression\n",
    "LR = LogisticRegression().fit(X_train_tfidf, y_train)"
   ]
  },
  {
   "cell_type": "code",
   "execution_count": null,
   "metadata": {},
   "outputs": [],
   "source": [
    "from sklearn.svm import SVC\n",
    "SVC = SVC(kernel='linear').fit(X_train_tfidf, y_train)"
   ]
  },
  {
   "cell_type": "code",
   "execution_count": null,
   "metadata": {},
   "outputs": [],
   "source": [
    "x=X_train_tfidf.todense()"
   ]
  },
  {
   "cell_type": "code",
   "execution_count": null,
   "metadata": {},
   "outputs": [],
   "source": [
    "from sklearn.linear_model import SGDClassifier\n",
    "SGD= SGDClassifier().fit(x, y_train)"
   ]
  },
  {
   "cell_type": "code",
   "execution_count": null,
   "metadata": {},
   "outputs": [],
   "source": [
    "from sklearn.naive_bayes import GaussianNB\n",
    "NB = GaussianNB().fit(x, y_train)"
   ]
  },
  {
   "cell_type": "code",
   "execution_count": null,
   "metadata": {},
   "outputs": [],
   "source": [
    "from sklearn.naive_bayes import MultinomialNB\n",
    "clf = MultinomialNB().fit(X_train_tfidf, y_train)"
   ]
  },
  {
   "cell_type": "code",
   "execution_count": null,
   "metadata": {},
   "outputs": [],
   "source": [
    "from sklearn.tree import DecisionTreeClassifier\n",
    "DT = DecisionTreeClassifier().fit(x, y_train)"
   ]
  },
  {
   "cell_type": "code",
   "execution_count": null,
   "metadata": {},
   "outputs": [],
   "source": [
    "import pandas as pd\n",
    "test_df=pd.read_csv('E:\\\\Data science\\\\stocks\\\\data\\\\test\\\\compile.csv',encoding='unicode_escape')\n",
    "test_df"
   ]
  },
  {
   "cell_type": "code",
   "execution_count": null,
   "metadata": {},
   "outputs": [],
   "source": [
    "x_test=test_df['text']"
   ]
  },
  {
   "cell_type": "code",
   "execution_count": null,
   "metadata": {},
   "outputs": [],
   "source": [
    "x_test"
   ]
  },
  {
   "cell_type": "code",
   "execution_count": null,
   "metadata": {},
   "outputs": [],
   "source": [
    "X_sample_test_tfidf = vectorizer.transform(x_test)\n",
    "print ('Dimension of TF-IDF vector :' , X_sample_test_tfidf.shape)\n",
    "\n",
    "pred_LR = LR.predict(X_sample_test_tfidf)"
   ]
  },
  {
   "cell_type": "code",
   "execution_count": null,
   "metadata": {},
   "outputs": [],
   "source": [
    "import pandas as pd\n",
    "sample_prediction_LR=pd.DataFrame({'text':test_df['text'],'actual':test_df['target'],'prediction':pred_LR})\n",
    "sample_prediction_LR"
   ]
  },
  {
   "cell_type": "code",
   "execution_count": null,
   "metadata": {},
   "outputs": [],
   "source": [
    "X_sample_test_tfidf = vectorizer.transform(x_test)\n",
    "print ('Dimension of TF-IDF vector :' , X_sample_test_tfidf.shape)\n",
    "pred_SVC = SVC.predict(X_sample_test_tfidf)\n",
    "\n",
    "sample_prediction_SVC=pd.DataFrame({'text':test_df['text'],'actual':test_df['target'],'prediction':pred_SVC})\n",
    "sample_prediction_SVC"
   ]
  },
  {
   "cell_type": "code",
   "execution_count": null,
   "metadata": {},
   "outputs": [],
   "source": [
    "X=X_sample_test_tfidf.todense()"
   ]
  },
  {
   "cell_type": "code",
   "execution_count": null,
   "metadata": {},
   "outputs": [],
   "source": [
    "X_sample_test_tfidf = vectorizer.transform(x_test)\n",
    "X=X_sample_test_tfidf.todense()\n",
    "print ('Dimension of TF-IDF vector :' , X.shape)\n",
    "pred_SGD = SGD.predict(X)\n",
    "\n",
    "sample_prediction_SGD=pd.DataFrame({'text':test_df['text'],'actual':test_df['target'],'prediction':pred_SGD})\n",
    "sample_prediction_SGD"
   ]
  },
  {
   "cell_type": "code",
   "execution_count": null,
   "metadata": {},
   "outputs": [],
   "source": [
    "X_sample_test_tfidf = vectorizer.transform(x_test)\n",
    "X=X_sample_test_tfidf.todense()\n",
    "print ('Dimension of TF-IDF vector :' , X.shape)\n",
    "pred_NB = NB.predict(X)\n",
    "\n",
    "sample_prediction_NB=pd.DataFrame({'text':test_df['text'],'actual':test_df['target'],'prediction':pred_NB})\n",
    "sample_prediction_NB"
   ]
  },
  {
   "cell_type": "code",
   "execution_count": null,
   "metadata": {},
   "outputs": [],
   "source": [
    "X_sample_test_tfidf = vectorizer.transform(x_test)\n",
    "X=X_sample_test_tfidf.todense()\n",
    "print ('Dimension of TF-IDF vector :' , X.shape)\n",
    "pred_DT = DT.predict(X)\n",
    "\n",
    "sample_prediction_DT=pd.DataFrame({'text':test_df['text'],'actual':test_df['target'],'prediction':pred_DT})\n",
    "sample_prediction_DT"
   ]
  },
  {
   "cell_type": "code",
   "execution_count": null,
   "metadata": {},
   "outputs": [],
   "source": [
    "X_sample_test_tfidf = vectorizer.transform(x_test)\n",
    "X=X_sample_test_tfidf.todense()\n",
    "print ('Dimension of TF-IDF vector :' , X.shape)\n",
    "pred_clf = clf.predict(X)\n",
    "\n",
    "sample_prediction_clf=pd.DataFrame({'text':test_df['text'],'actual':test_df['target'],'prediction':pred_clf})\n",
    "sample_prediction_clf"
   ]
  },
  {
   "cell_type": "code",
   "execution_count": null,
   "metadata": {},
   "outputs": [],
   "source": [
    "test_df['text'][4]"
   ]
  },
  {
   "cell_type": "code",
   "execution_count": null,
   "metadata": {},
   "outputs": [],
   "source": [
    "test_df['text'][7]"
   ]
  },
  {
   "cell_type": "code",
   "execution_count": null,
   "metadata": {},
   "outputs": [],
   "source": [
    "test_df['text'][1]"
   ]
  },
  {
   "cell_type": "code",
   "execution_count": null,
   "metadata": {},
   "outputs": [],
   "source": [
    "import os\n",
    "for dirname, _, filenames in os.walk('E:/Data science/stocks/data/test/'):\n",
    "    for filename in filenames:\n",
    "        print(os.path.join(dirname, filename))"
   ]
  },
  {
   "cell_type": "code",
   "execution_count": null,
   "metadata": {},
   "outputs": [],
   "source": [
    "# Step 1 - Get the file details\n",
    "directory = []\n",
    "file = []\n",
    "title = []\n",
    "text = []\n",
    "label = []\n",
    "datapath = 'E:/Data science/stocks/data/test/' \n",
    "for dirname, _ , filenames in os.walk(datapath):\n",
    "    #print('Directory: ', dirname)\n",
    "    #print('Subdir: ', dirname.split('/')[-1])\n",
    "    # remove the Readme.txt file\n",
    "    # will not find file in the second iteration so we skip the error\n",
    "    try:\n",
    "        filenames.remove('README.TXT')\n",
    "    except:\n",
    "        pass\n",
    "    for filename in filenames:\n",
    "        directory.append(dirname)\n",
    "        file.append(filename)\n",
    "        label.append(dirname.split('/')[-1])\n",
    "        #print(filename)\n",
    "        fullpathfile = os.path.join(dirname,filename)\n",
    "        with open(fullpathfile, 'r', encoding=\"utf8\", errors='ignore') as infile:\n",
    "            intext = ''\n",
    "            firstline = True\n",
    "            for line in infile:\n",
    "                if firstline:\n",
    "                    title.append(line.replace('\\n',''))\n",
    "                    firstline = False\n",
    "                else:\n",
    "                    intext = intext + ' ' + line.replace('\\n','')\n",
    "            text.append(intext)"
   ]
  },
  {
   "cell_type": "code",
   "execution_count": null,
   "metadata": {},
   "outputs": [],
   "source": [
    "fulldf = pd.DataFrame(list(zip(directory, file, title, text, label)), \n",
    "               columns =['directory', 'file', 'title', 'text', 'label'])\n",
    "\n",
    "test = fulldf.filter(['title','label'], axis=1)\n",
    "\n",
    "print(\"FullDf : \", fulldf.shape)\n",
    "print(\"DF : \", test.shape)"
   ]
  },
  {
   "cell_type": "code",
   "execution_count": null,
   "metadata": {},
   "outputs": [],
   "source": [
    "test"
   ]
  },
  {
   "cell_type": "code",
   "execution_count": null,
   "metadata": {},
   "outputs": [],
   "source": [
    "x_test=test['title']"
   ]
  },
  {
   "cell_type": "code",
   "execution_count": null,
   "metadata": {},
   "outputs": [],
   "source": [
    "X_sample_test_tfidf = vectorizer.transform(x_test)\n",
    "print ('Dimension of TF-IDF vector :' , X_sample_test_tfidf.shape)\n",
    "\n",
    "pred_LR = LR.predict(X_sample_test_tfidf)"
   ]
  },
  {
   "cell_type": "code",
   "execution_count": null,
   "metadata": {},
   "outputs": [],
   "source": [
    "pred_LR"
   ]
  },
  {
   "cell_type": "code",
   "execution_count": null,
   "metadata": {},
   "outputs": [],
   "source": [
    "import pandas as pd\n",
    "sample_prediction=pd.DataFrame({'title':test['title'],'prediction':pred_LR})\n",
    "sample_prediction"
   ]
  },
  {
   "cell_type": "code",
   "execution_count": 25,
   "metadata": {},
   "outputs": [
    {
     "data": {
      "text/plain": [
       "'How are you'"
      ]
     },
     "execution_count": 25,
     "metadata": {},
     "output_type": "execute_result"
    }
   ],
   "source": [
    "a='how are you'\n",
    "a.capitalize()"
   ]
  },
  {
   "cell_type": "code",
   "execution_count": null,
   "metadata": {},
   "outputs": [],
   "source": []
  },
  {
   "cell_type": "code",
   "execution_count": null,
   "metadata": {},
   "outputs": [],
   "source": []
  },
  {
   "cell_type": "code",
   "execution_count": null,
   "metadata": {},
   "outputs": [],
   "source": [
    "#!pip install vaderSentiment"
   ]
  },
  {
   "cell_type": "code",
   "execution_count": null,
   "metadata": {},
   "outputs": [],
   "source": [
    "from vaderSentiment.vaderSentiment import SentimentIntensityAnalyzer \n",
    "  \n",
    "# function to print sentiments \n",
    "# of the sentence. \n",
    "def sentiment_scores(sentence): \n",
    "  \n",
    "    # Create a SentimentIntensityAnalyzer object. \n",
    "    sid_obj = SentimentIntensityAnalyzer() \n",
    "  \n",
    "    # polarity_scores method of SentimentIntensityAnalyzer \n",
    "    # oject gives a sentiment dictionary. \n",
    "    # which contains pos, neg, neu, and compound scores. \n",
    "    sentiment_dict = sid_obj.polarity_scores(sentence) \n",
    "      \n",
    "    print(\"Overall sentiment dictionary is : \", sentiment_dict) \n",
    "    print(\"sentence was rated as \", sentiment_dict['neg']*100, \"% Negative\") \n",
    "    #print(\"sentence was rated as \", sentiment_dict['neu']*100, \"% Neutral\") \n",
    "    print(\"sentence was rated as \", sentiment_dict['pos']*100, \"% Positive\") \n",
    "  \n",
    "    print(\"Sentence Overall Rated As\", end = \" \") \n",
    "  \n",
    "    # decide sentiment as positive, negative and neutral \n",
    "    if sentiment_dict['compound'] >= 0 : \n",
    "        print('Scor:',sentiment_dict['compound'])\n",
    "        print(\"Positive\") \n",
    "  \n",
    "    else:\n",
    "        #sentiment_dict['compound'] <= - 0.05 : \n",
    "        print(\"Negative\") \n",
    "  \n",
    "    #else : \n",
    "        #print(\"Neutral\") \n",
    "  \n",
    "  \n",
    "    \n",
    "# Driver code \n",
    "if __name__ == \"__main__\" : \n",
    "  \n",
    "    print(\"\\n1st statement :\") \n",
    "    sentence = open('E:\\\\Data science\\\\stocks\\\\data\\\\0.txt','r').read()\n",
    "  \n",
    "    # function calling \n",
    "    sentiment_scores(sentence)\n",
    "    \n",
    "    print(\"\\n2nd Statement :\") \n",
    "    sentence = open('E:\\\\Data science\\\\stocks\\\\data\\\\1.txt','r').read()\n",
    "    sentiment_scores(sentence) \n",
    "  \n",
    "    print(\"\\n3rd Statement :\") \n",
    "    sentence = open('E:\\\\Data science\\\\stocks\\\\data\\\\2.txt','r').read()\n",
    "    sentiment_scores(sentence) \n",
    "    \n",
    "    print(\"\\n4th Statement :\") \n",
    "    sentence = open('E:\\\\Data science\\\\stocks\\\\data\\\\3.txt','r').read()\n",
    "    sentiment_scores(sentence) \n",
    "    \n",
    "    print(\"\\n5th Statement :\") \n",
    "    sentence = open('E:\\\\Data science\\\\stocks\\\\data\\\\4.txt','r').read()\n",
    "    sentiment_scores(sentence) \n",
    "    \n",
    "    print(\"\\n6th Statement :\") \n",
    "    sentence = open('E:\\\\Data science\\\\stocks\\\\data\\\\5.txt','r').read()\n",
    "    sentiment_scores(sentence) \n",
    "    \n",
    "    print(\"\\n7th Statement :\") \n",
    "    sentence = open('E:\\\\Data science\\\\stocks\\\\data\\\\6.txt','r').read()\n",
    "    sentiment_scores(sentence) "
   ]
  },
  {
   "cell_type": "code",
   "execution_count": null,
   "metadata": {},
   "outputs": [],
   "source": []
  },
  {
   "cell_type": "code",
   "execution_count": null,
   "metadata": {},
   "outputs": [],
   "source": [
    "!pip install PyPDF2"
   ]
  },
  {
   "cell_type": "code",
   "execution_count": null,
   "metadata": {},
   "outputs": [],
   "source": [
    " import PyPDF2"
   ]
  },
  {
   "cell_type": "code",
   "execution_count": null,
   "metadata": {},
   "outputs": [],
   "source": [
    "pdfFileObj = open('E:\\\\Data science\\\\stocks\\\\doc\\\\Daimler.pdf', 'rb')\n",
    "pdfReader = PyPDF2.PdfFileReader(pdfFileObj)"
   ]
  },
  {
   "cell_type": "code",
   "execution_count": null,
   "metadata": {},
   "outputs": [],
   "source": [
    " pdfReader.numPages"
   ]
  },
  {
   "cell_type": "code",
   "execution_count": null,
   "metadata": {},
   "outputs": [],
   "source": [
    "pageObj = pdfReader.getPage(1)\n",
    "pageObj.extractText()"
   ]
  },
  {
   "cell_type": "code",
   "execution_count": null,
   "metadata": {},
   "outputs": [],
   "source": [
    "!pip install textract"
   ]
  },
  {
   "cell_type": "code",
   "execution_count": null,
   "metadata": {},
   "outputs": [],
   "source": [
    "import re\n",
    "import textract\n",
    "#read the content of pdf as text\n",
    "text = textract.process('E:\\\\Data science\\\\stocks\\\\doc\\\\Daimler.pdf')\n",
    "#use four space as paragraph delimiter to convert the text into list of paragraphs.\n",
    "print (re.split('\\s{4,}',text))"
   ]
  },
  {
   "cell_type": "code",
   "execution_count": null,
   "metadata": {},
   "outputs": [],
   "source": [
    "# import module \n",
    "import requests \n",
    "import pandas as pd \n",
    "from bs4 import BeautifulSoup "
   ]
  },
  {
   "cell_type": "code",
   "execution_count": null,
   "metadata": {},
   "outputs": [],
   "source": [
    " # link for extract html data \n",
    "def getdata(url): \n",
    "    r = requests.get(url) \n",
    "    return r.text \n",
    "  \n",
    "htmldata = getdata(\"https://www.adidas-group.com/en/investors/corporate-governance/declaration-compliance/\") \n",
    "soup = BeautifulSoup(htmldata, 'html.parser') \n",
    "data = '' \n",
    "for data in soup.find_all(\"p\"): \n",
    "    print(data.get_text()) "
   ]
  },
  {
   "cell_type": "code",
   "execution_count": null,
   "metadata": {},
   "outputs": [],
   "source": [
    "from urllib.request import urlopen"
   ]
  },
  {
   "cell_type": "code",
   "execution_count": null,
   "metadata": {},
   "outputs": [],
   "source": [
    "url = \"https://www.covestro.com/en/company/management/corporate-governance/\"\n",
    "\n",
    "html = urlopen(url).read()\n",
    "\n",
    "soup = BeautifulSoup(html)\n",
    "\n",
    "\n",
    "for script in soup([\"script\", \"style\"]):\n",
    "    script.decompose()\n",
    "\n",
    "\n",
    "\n",
    "strips = list(soup.stripped_strings)\n",
    "\n",
    "print(strips)"
   ]
  },
  {
   "cell_type": "code",
   "execution_count": null,
   "metadata": {},
   "outputs": [],
   "source": []
  }
 ],
 "metadata": {
  "kernelspec": {
   "display_name": "Python 3",
   "language": "python",
   "name": "python3"
  },
  "language_info": {
   "codemirror_mode": {
    "name": "ipython",
    "version": 3
   },
   "file_extension": ".py",
   "mimetype": "text/x-python",
   "name": "python",
   "nbconvert_exporter": "python",
   "pygments_lexer": "ipython3",
   "version": "3.6.10"
  }
 },
 "nbformat": 4,
 "nbformat_minor": 4
}
