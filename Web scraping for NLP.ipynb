{
 "cells": [
  {
   "cell_type": "code",
   "execution_count": 38,
   "metadata": {
    "collapsed": true,
    "jupyter": {
     "outputs_hidden": true
    }
   },
   "outputs": [
    {
     "data": {
      "text/plain": [
       "['https://www.allianz.com/en/about_us/management/corporate-governance/declaration-of-conformity/',\n",
       " 'https://www.basf.com/global/en/investors/basf-at-a-glance/corporate-governance/declarations.html',\n",
       " 'http://www.bayer.com/en/Corporate-Governance.aspx',\n",
       " 'https://www.bmwgroup.com/en/company/company-portrait.html',\n",
       " 'https://www.continental-corporation.com/en/company/corporate-governance/principles-and-declarations/corporate-governance-principles-13402',\n",
       " 'https://www.covestro.com/en/company/management/corporate-governance',\n",
       " 'https://www.daimler.com/company/corporate-governance/declarations/',\n",
       " 'https://ir.deliveryhero.com/websites/delivery/English/4500/declaration-of-compliance.html',\n",
       " 'https://www.db.com/ir/en/documents.htm',\n",
       " 'http://deutsche-boerse.com/dbg/dispatch/en/kir/dbg_nav/investor_relations/15_Corporate_Governance/50_Declaration_of_Conformity',\n",
       " 'http://www.dpdhl.com/en/investors/corporate_governance/declaration_of_conformity.html',\n",
       " 'http://www.telekom.com/declaration-of-conformity',\n",
       " 'https://ir.deutsche-wohnen.com/websites/dewohnen/English/4400/declaration-of-compliance.html',\n",
       " 'https://www.eon.com/en/about-us/corporate-governance/declaration-of-compliance.html',\n",
       " 'http://www.freseniusmedicalcare.com/en/investors/corporate-governance/declaration-of-compliance/',\n",
       " 'https://www.fresenius.com/corporate-governance',\n",
       " 'https://www.heidelbergcement.com/en/declaration-of-corporate-governance',\n",
       " 'https://www.henkel.com/investors-and-analysts/corporate-governance',\n",
       " 'https://www.infineon.com/cms/en/about-infineon/investor/corporate-governance/',\n",
       " 'https://www.linde.com/about-linde/corporate-governance',\n",
       " 'https://www.merckgroup.com/en/investors/corporate-governance/reports.html',\n",
       " 'https://www.mtu.de/investor-relations/corporate-governance/compliance-statement/',\n",
       " 'https://www.munichre.com/en/company/about-munich-re/corporate-governance/declarations-of-conformity-with-gcgc-dcgk.html',\n",
       " 'https://www.group.rwe/en/investor-relations/corporate-governance/statement-of-compliance',\n",
       " 'https://www.sap.com/investors/en/governance.html',\n",
       " 'https://new.siemens.com/global/en/company/investor-relations/corporate-governance.html',\n",
       " 'https://www.siemens-energy.com/global/en/company/investor-relations/corporate-governance.html',\n",
       " 'http://www.volkswagenag.com/en/InvestorRelations/corporate-governance/declaration-of-conformity.html',\n",
       " 'https://investoren.vonovia.de/websites/vonovia/English/7025/declaration-of-conformity.html',\n",
       " 'https://www.aareal-bank.com/en/about-us/corporate-governance/declaration-of-compliance/',\n",
       " 'https://www.airbus.com/company/corporate-governance.html',\n",
       " 'https://www.aixtron.com/en/investors/corporate-governance/principles',\n",
       " 'https://alstria.com/company/',\n",
       " 'https://www.aroundtown.de/investor-relations/corporate-governance/',\n",
       " 'https://www.aurubis.com/en/about-aurubis/distribution-page-corporate-governance',\n",
       " 'https://www.bechtle.com/de-en/about-bechtle/investors/corporate-governance',\n",
       " 'https://www.beiersdorf.com/investors/corporate-governance/declaration-of-compliance',\n",
       " 'https://www.brenntag.com/corporate/en/investor-relations/corporate-governance/compliance-statement/',\n",
       " 'https://www.cancom.com/corporate-governance/?_ga=2.50171822.908792205.1610362483-416397059.1610362483',\n",
       " 'https://www.zeiss.com/meditec-ag/investor-relations/declaration-on-corporate-management.html',\n",
       " 'https://www.commerzbank.de/en/hauptnavigation/aktionaere/governance_/corporate_governace_1.html',\n",
       " 'https://www.cgm.com/corp/ueber_uns_1/investor_relations/coporate_governance/entsprechungserklaerung/entsprechenserklaerung.en.jsp',\n",
       " 'https://corporate.eventim.de/en/investor-relations/corporate-governance/',\n",
       " 'https://investor-relations.lufthansagroup.com/en/corporate-governance/corporate-governance-declaration-section-289f-hgb/declaration-of-compliance-section-161-aktg.html',\n",
       " 'https://www.durr-group.com/en/investor-relations/corporate-governance/declaration-on-corporate-governance/',\n",
       " 'https://corporate.evonik.de/en/investor-relations/corporate-governance/german-corporate-governance-code',\n",
       " 'https://www.evotec.com/en/invest/corporate-governance',\n",
       " 'https://www.fraport.com/en/investors/corporate-governance.html',\n",
       " 'https://www.freenet-group.de/investor/corporate-governance/index.html',\n",
       " 'https://www.fuchs.com/group/the-company/corporate-governance/articles-of-association-and-declaration-of-compliance/',\n",
       " 'http://www.gea.com/en/investor-relations/corporate-governance/statement-of-the-board/index.jsp',\n",
       " 'https://www.gerresheimer.com/en/investor-relations/corporate-governance/statements-of-compliance.html',\n",
       " 'https://www.grandcityproperties.com/about-us/corporate-governance/',\n",
       " 'https://www.hannover-re.com/200801/declaration-of-conformity',\n",
       " 'http://www.hella.com/hella-com/en/Declaration-of-Conformity-10446.html',\n",
       " 'https://ir.hellofreshgroup.com/websites/hellofresh/English/4000/corporate-governance.html',\n",
       " 'http://www.hochtief.com/hochtief_en/172.jhtml',\n",
       " 'https://group.hugoboss.com/en/company/corporate-governance/declaration-of-compliance/',\n",
       " 'https://www.kpluss.com/en-us/about-ks/governance/index.html',\n",
       " 'https://www.kiongroup.com/en/About-us/Management/',\n",
       " 'https://ir.knorr-bremse.com/websites/Knorrbremse_ir/English/7000/corporate-governance.html',\n",
       " 'https://lanxess.com/en/Investors/Corporate-Governance',\n",
       " 'https://www.leg-wohnen.de/en/corporation/investor-relations/corporate-governance/corporate-governance-codex-compliance-statement/',\n",
       " 'https://www.metroag.de/en/company/corporate-governance',\n",
       " 'https://www.morphosys.com/media-and-investors/corporate-governance',\n",
       " 'https://ir.nemetschek.com/websites/nemetschek/English/5100/declaration-of-conformity.html',\n",
       " 'https://www.osram-group.com/en/our-company/our-management/corporate-governance',\n",
       " 'https://www.prosiebensat1.de/en/investor-relations/corporate-governance/management-declaration',\n",
       " 'https://about.puma.com/en/investor-relations/corporate-governance',\n",
       " 'https://corporate.qiagen.com/investor-relations/corporate-governance/governance-codes',\n",
       " 'https://www.rational-online.com/en_gb/company/investor-relations/corporate-governance/index.php',\n",
       " 'https://www.rheinmetall.com/en/rheinmetall_ag/group/corporategovernance_4/entsprechenserklaerung_2/index.php',\n",
       " 'https://www.sartorius.com/en/company/about-sartorius-ag/compliance',\n",
       " 'https://www.scout24.com/en/Investor-Relations/Corporate-Governance.aspx',\n",
       " 'https://shop-apotheke-europe.com/en/investorrelations/governance/',\n",
       " 'https://www.corporate.siemens-healthineers.com/investor-relations/corporate-governance',\n",
       " 'https://www.siltronic.com/en/investors/corporate-governance.html',\n",
       " 'https://investors.softwareag.com/en/corporate-governance/compliance-declaration',\n",
       " 'http://ir.stroeer.com/websites/stroeer/English/6200/declaration-of-compliance.html',\n",
       " 'http://www.symrise.com/investors/corporate-governance/declaration-of-compliance/',\n",
       " 'http://www.tag-ag.com/en/investor-relations/corporate-governance/declaration-of-conformity',\n",
       " 'https://ir.teamviewer.com/websites/teamviewer/English/40/corporate-governance.html',\n",
       " 'https://www.telefonica.de/investor-relations-en/corporate-governance/declarations-and-articles.html',\n",
       " 'https://www.thyssenkrupp.com/en/company/management/corporate-governance/declaration-of-conformity.html',\n",
       " 'https://ir.uniper.energy/websites/uniper/English/6500/corporate-governance-policy.html',\n",
       " 'https://www.united-internet.de/en/investor-relations/corporate-governance.html',\n",
       " 'https://www.varta-ag.com/en/investor-relations/corporate-governance',\n",
       " 'https://www.wacker.com/cms/en-de/about-wacker/investor-relations/corporate-governance/declaration-of-conformity.html',\n",
       " 'https://corporate.zalando.com/en/company/corporate-governance']"
      ]
     },
     "execution_count": 38,
     "metadata": {},
     "output_type": "execute_result"
    }
   ],
   "source": [
    "url = 'https://www.dcgk.de/en/declarations-of-compliance.html'\n",
    "reqs = requests.get(url)\n",
    "soup = BeautifulSoup(reqs.text, 'html.parser')\n",
    "text=[]\n",
    "for link in soup.find_all('a'):\n",
    "    text.append(link)\n",
    "\n",
    "c_url=[]\n",
    "for i in text:\n",
    "    urls = re.findall('http[s]?://(?:[a-zA-Z]|[0-9]|[$-_@.&+]|[!*\\(\\),]|(?:%[0-9a-fA-F][0-9a-fA-F]))+', str(i))\n",
    "    c_url.append(urls)\n",
    "res = [ele for ele in c_url if ele != []]\n",
    "flatList = [ item for elem in res for item in elem]\n",
    "del flatList[0:5]\n",
    "flatList"
   ]
  },
  {
   "cell_type": "code",
   "execution_count": null,
   "metadata": {},
   "outputs": [],
   "source": [
    "flatList.to_csv(r'E:\\Data science\\stocks\\reference\\websites.csv',index=True)"
   ]
  },
  {
   "cell_type": "code",
   "execution_count": null,
   "metadata": {},
   "outputs": [],
   "source": [
    "import requests\n",
    "import re\n",
    "from bs4 import BeautifulSoup\n",
    "import os\n",
    "from urllib.parse import urljoin\n",
    "from requests.exceptions import ConnectionError\n",
    "\n",
    "try:\n",
    "    url = 'https://www.dcgk.de/en/declarations-of-compliance.html'\n",
    "    reqs = requests.get(url)\n",
    "    soup = BeautifulSoup(reqs.text, 'html.parser')\n",
    "    text=[]\n",
    "    for link in soup.find_all('a'):\n",
    "        text.append(link)\n",
    "\n",
    "    c_url=[]\n",
    "    for i in text:\n",
    "        urls = re.findall('http[s]?://(?:[a-zA-Z]|[0-9]|[$-_@.&+]|[!*\\(\\),]|(?:%[0-9a-fA-F][0-9a-fA-F]))+', str(i))\n",
    "        c_url.append(urls)\n",
    "    res = [ele for ele in c_url if ele != []]\n",
    "    flatList = [ item for elem in res for item in elem]\n",
    "    del flatList[0:5]\n",
    "    flatList\n",
    "    for i in flatList:\n",
    "        print(i)\n",
    "        urls = i\n",
    "        url = i\n",
    "        url = url.split('//')\n",
    "        url=url[1]\n",
    "        url=url.split('/')\n",
    "        url=url[0]\n",
    "        #print(url)\n",
    "        os.mkdir('E:/Data science/stocks/doc/pdf_extract/' + url)\n",
    "        #If there is no such folder, the script will create one automatically\n",
    "        folder_location = 'E:/Data science/stocks/doc/pdf_extract/'+ url\n",
    "        #os.mkdir(r'/home/sudharsan_shankar/Documents' + url )\n",
    "        #if not os.path.exists(folder_location):os.mkdir(folder_location)\n",
    "\n",
    "        response = requests.get(urls)\n",
    "        soup= BeautifulSoup(response.text, \"html.parser\")     \n",
    "        for link in soup.select(\"a[href$='.pdf']\"):\n",
    "            #Name the pdf files using the last portion of each link which are unique in this case\n",
    "            filename = os.path.join(folder_location,link['href'].split('/')[-1])\n",
    "            with open(filename, 'wb') as f:\n",
    "                f.write(requests.get(urljoin(urls,link['href'])).content)\n",
    "            \n",
    "except ConnectionError as e:    # This is the correct syntax\n",
    "    print(e) \n",
    "    r = \"No response\"\n",
    "            "
   ]
  },
  {
   "cell_type": "code",
   "execution_count": 3,
   "metadata": {},
   "outputs": [],
   "source": [
    "website=['https://www.fuchs.com/group/the-company/corporate-governance/articles-of-association-and-declaration-of-compliance/','https://www.telekom.com/en/investor-relations/investor-relations/declaration-of-conformity-pursuant-to-161-of-the-german-stock-corporation-act-aktiengesetz-aktg--352918']\n",
    "pdf=['Declaration_of_compliance','dl-cc-erklaerung']"
   ]
  },
  {
   "cell_type": "code",
   "execution_count": 5,
   "metadata": {},
   "outputs": [
    {
     "name": "stdout",
     "output_type": "stream",
     "text": [
      "<a href=\"https://wwwfuchscom-94ba.kxcdn.com/fileadmin/Home/Corporate_Governance/Entsprechenserklaerung/20201211_Declaration_of_compliance_FUCHS_PETROLUB_SE_2020.pdf\" target=\"_blank\">Declaration of compliance (2020)</a>\n",
      "\n",
      "fuchs.pdf\n",
      "<a class=\"related\" href=\"/resource/blob/326262/fddf602709c4310cf20236a069649531/dl-cc-erklaerung-2015-data.pdf\" title=\"Declaration of Conformity, December 30, 2015 (56 KB)\"><span>Declaration of Conformity, December 30, 2015 (56 KB) <span>(pdf, 54.3 KB)</span></span></a>\n",
      "\n",
      "telekom.pdf\n"
     ]
    }
   ],
   "source": [
    "import os\n",
    "import requests\n",
    "from urllib.parse import urljoin\n",
    "from bs4 import BeautifulSoup\n",
    "import re\n",
    "\n",
    "for i,j in zip(website,pdf):      \n",
    "    url = '%s'%i\n",
    "\n",
    "    #If there is no such folder, the script will create one automatically\n",
    "    folder_location = \"E:\\\\Data science\\\\stocks\\\\pdfs\\\\\"\n",
    "    if not os.path.exists(folder_location):os.mkdir(folder_location)\n",
    "\n",
    "    response = requests.get(url)\n",
    "    soup= BeautifulSoup(response.text, \"html.parser\")\n",
    "    try:\n",
    "        for link in soup.select(\"a[href*='%s']\"%j):\n",
    "            #Name the pdf files using the last portion of each link which are unique in this case\n",
    "            filename = os.path.join(folder_location,link['href'].split('/')[-1])\n",
    "            print(link)\n",
    "            extractMax(link)\n",
    "    except TypeError:\n",
    "        print('')\n",
    "    \n",
    "    with open(filename, 'wb') as f:\n",
    "        f.write(requests.get(urljoin(url,link['href'])).content)\n",
    "        f.close()\n",
    "        \n",
    "        name=((url.split('.com')[0]).split('.')[1])+'.pdf'\n",
    "        #filename=filename.split('.pdf')[0]\n",
    "        print(name)\n",
    "        #print(filename)\n",
    "        os.rename('E:\\\\Data science\\\\stocks\\\\pdfs\\\\%s'%link['href'].split('/')[-1],'E:\\\\Data science\\\\stocks\\\\pdfs\\\\%s'%name) "
   ]
  },
  {
   "cell_type": "code",
   "execution_count": null,
   "metadata": {
    "jupyter": {
     "source_hidden": true
    }
   },
   "outputs": [],
   "source": [
    "#file=os.chdir('E:\\\\Data science\\\\stocks\\\\pdfs\\\\')\n",
    "for urls,filename in zip(website,(os.listdir(\"E:\\\\Data science\\\\stocks\\\\pdfs\\\\\"))):\n",
    "    name=((urls.split('.com')[0]).split('.')[1])+'.pdf'\n",
    "    #filename=filename.split('.pdf')[0]\n",
    "    print(name)\n",
    "    print(filename)\n",
    "    os.rename('E:\\\\Data science\\\\stocks\\\\pdfs\\\\%s'%filename,'%s'%name)\n",
    "    "
   ]
  },
  {
   "cell_type": "code",
   "execution_count": 1,
   "metadata": {},
   "outputs": [],
   "source": [
    "import requests\n",
    "import re\n",
    "from bs4 import BeautifulSoup\n",
    "import os\n",
    "from urllib.parse import urljoin\n",
    "from requests.exceptions import ConnectionError"
   ]
  },
  {
   "cell_type": "code",
   "execution_count": 2,
   "metadata": {},
   "outputs": [],
   "source": [
    "def extractMax(input):\n",
    "\tnumbers = re.findall('\\d+',input)\n",
    "\tnumbers = map(int,numbers)\n",
    "\n",
    "\tprint( max(numbers))"
   ]
  },
  {
   "cell_type": "code",
   "execution_count": 16,
   "metadata": {},
   "outputs": [],
   "source": [
    "pdf = ['Declaration_of_Conformity_','entsprechungserklaerung-dez','Declaration_of_Compliance_',\n",
    "       'Declaration-of-Compliance_','Declaration_of_Compliance_','Entsprechenserklaerung_en']\n",
    "website = ['https://www.db.com/ir/en/documents.htm',\n",
    "           'https://www.deutsche-boerse.com/dbg-en/investor-relations/corporate-governance/declaration-of-conformity',\n",
    "           'https://ir.deliveryhero.com/websites/delivery/English/4500/declaration-of-compliance.html',\n",
    "           'https://ir.deutsche-wohnen.com/websites/dewohnen/English/4400/declaration-of-conformity.html',\n",
    "           'https://www.freseniusmedicalcare.com/en/investors/corporate-governance/declaration-of-compliance/',\n",
    "           'https://www.fresenius.com/corporate-governance']"
   ]
  },
  {
   "cell_type": "code",
   "execution_count": 8,
   "metadata": {},
   "outputs": [],
   "source": [
    "pdf = ['Declaration_of_Conformity_','declaration-of-conformity','entsprechungserklaerung-dez']\n",
    "website = ['https://www.db.com/ir/en/documents.htm',\n",
    "           'http://www.dpdhl.com/en/investors/corporate_governance/declaration_of_conformity.html',\n",
    "           'https://www.deutsche-boerse.com/dbg-en/investor-relations/corporate-governance/declaration-of-conformity']"
   ]
  },
  {
   "cell_type": "code",
   "execution_count": 17,
   "metadata": {},
   "outputs": [
    {
     "name": "stdout",
     "output_type": "stream",
     "text": [
      "Already exists E:/Data science/stocks/doc/pdf_extract/db\n",
      "Declaration_of_Conformity_\n",
      "<a href=\"/ir/en/download/Declaration_of_Conformity_2020_EN.pdf\" target=\"_blank\">PDF</a>\n"
     ]
    },
    {
     "ename": "NameError",
     "evalue": "name 'extractMax' is not defined",
     "output_type": "error",
     "traceback": [
      "\u001b[1;31m---------------------------------------------------------------------------\u001b[0m",
      "\u001b[1;31mNameError\u001b[0m                                 Traceback (most recent call last)",
      "\u001b[1;32m<ipython-input-17-12ff9338d5ab>\u001b[0m in \u001b[0;36m<module>\u001b[1;34m\u001b[0m\n\u001b[0;32m     33\u001b[0m                 \u001b[0mfilename\u001b[0m \u001b[1;33m=\u001b[0m \u001b[0mos\u001b[0m\u001b[1;33m.\u001b[0m\u001b[0mpath\u001b[0m\u001b[1;33m.\u001b[0m\u001b[0mjoin\u001b[0m\u001b[1;33m(\u001b[0m\u001b[0mfolder_location\u001b[0m\u001b[1;33m,\u001b[0m\u001b[0mlink\u001b[0m\u001b[1;33m[\u001b[0m\u001b[1;34m'href'\u001b[0m\u001b[1;33m]\u001b[0m\u001b[1;33m.\u001b[0m\u001b[0msplit\u001b[0m\u001b[1;33m(\u001b[0m\u001b[1;34m'/'\u001b[0m\u001b[1;33m)\u001b[0m\u001b[1;33m[\u001b[0m\u001b[1;33m-\u001b[0m\u001b[1;36m1\u001b[0m\u001b[1;33m]\u001b[0m\u001b[1;33m)\u001b[0m\u001b[1;33m\u001b[0m\u001b[1;33m\u001b[0m\u001b[0m\n\u001b[0;32m     34\u001b[0m                 \u001b[0mprint\u001b[0m\u001b[1;33m(\u001b[0m\u001b[0mlink\u001b[0m\u001b[1;33m)\u001b[0m\u001b[1;33m\u001b[0m\u001b[1;33m\u001b[0m\u001b[0m\n\u001b[1;32m---> 35\u001b[1;33m                 \u001b[0mextractMax\u001b[0m\u001b[1;33m(\u001b[0m\u001b[0mlink\u001b[0m\u001b[1;33m)\u001b[0m\u001b[1;33m\u001b[0m\u001b[1;33m\u001b[0m\u001b[0m\n\u001b[0m\u001b[0;32m     36\u001b[0m         \u001b[1;32mexcept\u001b[0m \u001b[0mTypeError\u001b[0m\u001b[1;33m:\u001b[0m\u001b[1;33m\u001b[0m\u001b[1;33m\u001b[0m\u001b[0m\n\u001b[0;32m     37\u001b[0m             \u001b[0mprint\u001b[0m\u001b[1;33m(\u001b[0m\u001b[1;34m''\u001b[0m\u001b[1;33m)\u001b[0m\u001b[1;33m\u001b[0m\u001b[1;33m\u001b[0m\u001b[0m\n",
      "\u001b[1;31mNameError\u001b[0m: name 'extractMax' is not defined"
     ]
    }
   ],
   "source": [
    "for i,j in zip(website,pdf):      \n",
    "    url = '%s'%i\n",
    "\n",
    "    #If there is no such folder, the script will create one automatically\n",
    "    #folder_location = \"E:\\\\Data science\\\\stocks\\\\pdfs\\\\\"\n",
    "    #if not os.path.exists(folder_location):os.mkdir(folder_location)\n",
    "\n",
    "    name=(i.split('.com')[0]).split('.')[-1]\n",
    "    path = \"E:/Data science/stocks/doc/pdf_extract/\"+name\n",
    "    \n",
    "    try:\n",
    "        os.mkdir(path)\n",
    "    #except FileExistsError:\n",
    "    except OSError:\n",
    "        print (\"Already exists %s\" % path)\n",
    "    else:\n",
    "        print (\"Successfully created the directory %s \" % path)\n",
    "    #If there is no such folder, the script will create one automatically\n",
    "    folder_location = 'E:/Data science/stocks/doc/pdf_extract/'+ name\n",
    "    try:\n",
    "        response = requests.get(url,timeout=5)\n",
    "        soup= BeautifulSoup(response.text, \"html.parser\")\n",
    "        connect=1\n",
    "    except:\n",
    "        print('There is a problem in connecting')\n",
    "        connect=0\n",
    "\n",
    "    if connect==1:\n",
    "        try:\n",
    "            for link in soup.select(\"a[href*='%s']\"%j):\n",
    "                print('%s'%j)\n",
    "                #Name the pdf files using the last portion of each link which are unique in this case\n",
    "                filename = os.path.join(folder_location,link['href'].split('/')[-1])\n",
    "                print(link)\n",
    "                extractMax(link)\n",
    "        except TypeError:\n",
    "            print('')\n",
    "        except ConnectionError as e:    # This is the correct syntax\n",
    "            print(e) \n",
    "            r = \"No response\"\n",
    "\n",
    "        with open(filename, 'wb') as f:\n",
    "            f.write(requests.get(urljoin(url,link['href'])).content)\n",
    "            f.close()\n",
    "            #name=((url.split('.com')[0]).split('.')[1])+'.pdf'\n",
    "            ##filename=filename.split('.pdf')[0]\n",
    "            #print(name)\n",
    "            ##print(filename)\n",
    "            #os.rename('E:\\\\Data science\\\\stocks\\\\pdfs\\\\%s'%link['href'].split('/')[-1],'E:\\\\Data science\\\\stocks\\\\pdfs\\\\%s'%name) "
   ]
  },
  {
   "cell_type": "code",
   "execution_count": null,
   "metadata": {},
   "outputs": [],
   "source": []
  },
  {
   "cell_type": "code",
   "execution_count": null,
   "metadata": {},
   "outputs": [],
   "source": []
  },
  {
   "cell_type": "code",
   "execution_count": 22,
   "metadata": {},
   "outputs": [
    {
     "name": "stdout",
     "output_type": "stream",
     "text": [
      "Copied successfully\n"
     ]
    }
   ],
   "source": [
    "import shutil\n",
    "import os\n",
    "for file in os.listdir(\"E:/Data science/stocks/doc/pdf_extract\"):\n",
    "    for pdf in os.listdir('E:/Data science/stocks/doc/pdf_extract/%s'%file):\n",
    "        if pdf.endswith('.pdf'):\n",
    "            filename=\"E:/Data science/stocks/doc/pdf_extract/%s/\"%file + pdf\n",
    "            shutil.copy(filename,\"E:/Data science/stocks/pdfs/\")\n",
    "print('Copied successfully')"
   ]
  },
  {
   "cell_type": "code",
   "execution_count": null,
   "metadata": {},
   "outputs": [],
   "source": []
  }
 ],
 "metadata": {
  "kernelspec": {
   "display_name": "Python 3",
   "language": "python",
   "name": "python3"
  },
  "language_info": {
   "codemirror_mode": {
    "name": "ipython",
    "version": 3
   },
   "file_extension": ".py",
   "mimetype": "text/x-python",
   "name": "python",
   "nbconvert_exporter": "python",
   "pygments_lexer": "ipython3",
   "version": "3.6.10"
  }
 },
 "nbformat": 4,
 "nbformat_minor": 4
}
